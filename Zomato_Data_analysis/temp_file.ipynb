{
 "cells": [
  {
   "cell_type": "code",
   "execution_count": 721,
   "id": "d35c6c81",
   "metadata": {},
   "outputs": [],
   "source": [
    "import numpy as np\n",
    "import pandas as pd \n",
    "import seaborn as sns\n",
    "import matplotlib.pyplot as plt\n",
    "import plotly.express as px\n",
    "%matplotlib inline"
   ]
  },
  {
   "cell_type": "code",
   "execution_count": 722,
   "id": "245fd104",
   "metadata": {
    "scrolled": false
   },
   "outputs": [
    {
     "data": {
      "text/html": [
       "<div>\n",
       "<style scoped>\n",
       "    .dataframe tbody tr th:only-of-type {\n",
       "        vertical-align: middle;\n",
       "    }\n",
       "\n",
       "    .dataframe tbody tr th {\n",
       "        vertical-align: top;\n",
       "    }\n",
       "\n",
       "    .dataframe thead th {\n",
       "        text-align: right;\n",
       "    }\n",
       "</style>\n",
       "<table border=\"1\" class=\"dataframe\">\n",
       "  <thead>\n",
       "    <tr style=\"text-align: right;\">\n",
       "      <th></th>\n",
       "      <th>Restaurant ID</th>\n",
       "      <th>Restaurant Name</th>\n",
       "      <th>Country Code</th>\n",
       "      <th>City</th>\n",
       "      <th>Address</th>\n",
       "      <th>Locality</th>\n",
       "      <th>Locality Verbose</th>\n",
       "      <th>Longitude</th>\n",
       "      <th>Latitude</th>\n",
       "      <th>Cuisines</th>\n",
       "      <th>...</th>\n",
       "      <th>Currency</th>\n",
       "      <th>Has Table booking</th>\n",
       "      <th>Has Online delivery</th>\n",
       "      <th>Is delivering now</th>\n",
       "      <th>Switch to order menu</th>\n",
       "      <th>Price range</th>\n",
       "      <th>Aggregate rating</th>\n",
       "      <th>Rating color</th>\n",
       "      <th>Rating text</th>\n",
       "      <th>Votes</th>\n",
       "    </tr>\n",
       "  </thead>\n",
       "  <tbody>\n",
       "    <tr>\n",
       "      <th>0</th>\n",
       "      <td>6317637</td>\n",
       "      <td>Le Petit Souffle</td>\n",
       "      <td>162</td>\n",
       "      <td>Makati City</td>\n",
       "      <td>Third Floor, Century City Mall, Kalayaan Avenu...</td>\n",
       "      <td>Century City Mall, Poblacion, Makati City</td>\n",
       "      <td>Century City Mall, Poblacion, Makati City, Mak...</td>\n",
       "      <td>121.027535</td>\n",
       "      <td>14.565443</td>\n",
       "      <td>French, Japanese, Desserts</td>\n",
       "      <td>...</td>\n",
       "      <td>Botswana Pula(P)</td>\n",
       "      <td>Yes</td>\n",
       "      <td>No</td>\n",
       "      <td>No</td>\n",
       "      <td>No</td>\n",
       "      <td>3</td>\n",
       "      <td>4.8</td>\n",
       "      <td>Dark Green</td>\n",
       "      <td>Excellent</td>\n",
       "      <td>314</td>\n",
       "    </tr>\n",
       "    <tr>\n",
       "      <th>1</th>\n",
       "      <td>6304287</td>\n",
       "      <td>Izakaya Kikufuji</td>\n",
       "      <td>162</td>\n",
       "      <td>Makati City</td>\n",
       "      <td>Little Tokyo, 2277 Chino Roces Avenue, Legaspi...</td>\n",
       "      <td>Little Tokyo, Legaspi Village, Makati City</td>\n",
       "      <td>Little Tokyo, Legaspi Village, Makati City, Ma...</td>\n",
       "      <td>121.014101</td>\n",
       "      <td>14.553708</td>\n",
       "      <td>Japanese</td>\n",
       "      <td>...</td>\n",
       "      <td>Botswana Pula(P)</td>\n",
       "      <td>Yes</td>\n",
       "      <td>No</td>\n",
       "      <td>No</td>\n",
       "      <td>No</td>\n",
       "      <td>3</td>\n",
       "      <td>4.5</td>\n",
       "      <td>Dark Green</td>\n",
       "      <td>Excellent</td>\n",
       "      <td>591</td>\n",
       "    </tr>\n",
       "    <tr>\n",
       "      <th>2</th>\n",
       "      <td>6300002</td>\n",
       "      <td>Heat - Edsa Shangri-La</td>\n",
       "      <td>162</td>\n",
       "      <td>Mandaluyong City</td>\n",
       "      <td>Edsa Shangri-La, 1 Garden Way, Ortigas, Mandal...</td>\n",
       "      <td>Edsa Shangri-La, Ortigas, Mandaluyong City</td>\n",
       "      <td>Edsa Shangri-La, Ortigas, Mandaluyong City, Ma...</td>\n",
       "      <td>121.056831</td>\n",
       "      <td>14.581404</td>\n",
       "      <td>Seafood, Asian, Filipino, Indian</td>\n",
       "      <td>...</td>\n",
       "      <td>Botswana Pula(P)</td>\n",
       "      <td>Yes</td>\n",
       "      <td>No</td>\n",
       "      <td>No</td>\n",
       "      <td>No</td>\n",
       "      <td>4</td>\n",
       "      <td>4.4</td>\n",
       "      <td>Green</td>\n",
       "      <td>Very Good</td>\n",
       "      <td>270</td>\n",
       "    </tr>\n",
       "  </tbody>\n",
       "</table>\n",
       "<p>3 rows × 21 columns</p>\n",
       "</div>"
      ],
      "text/plain": [
       "   Restaurant ID         Restaurant Name  Country Code              City  \\\n",
       "0        6317637        Le Petit Souffle           162       Makati City   \n",
       "1        6304287        Izakaya Kikufuji           162       Makati City   \n",
       "2        6300002  Heat - Edsa Shangri-La           162  Mandaluyong City   \n",
       "\n",
       "                                             Address  \\\n",
       "0  Third Floor, Century City Mall, Kalayaan Avenu...   \n",
       "1  Little Tokyo, 2277 Chino Roces Avenue, Legaspi...   \n",
       "2  Edsa Shangri-La, 1 Garden Way, Ortigas, Mandal...   \n",
       "\n",
       "                                     Locality  \\\n",
       "0   Century City Mall, Poblacion, Makati City   \n",
       "1  Little Tokyo, Legaspi Village, Makati City   \n",
       "2  Edsa Shangri-La, Ortigas, Mandaluyong City   \n",
       "\n",
       "                                    Locality Verbose   Longitude   Latitude  \\\n",
       "0  Century City Mall, Poblacion, Makati City, Mak...  121.027535  14.565443   \n",
       "1  Little Tokyo, Legaspi Village, Makati City, Ma...  121.014101  14.553708   \n",
       "2  Edsa Shangri-La, Ortigas, Mandaluyong City, Ma...  121.056831  14.581404   \n",
       "\n",
       "                           Cuisines  ...          Currency Has Table booking  \\\n",
       "0        French, Japanese, Desserts  ...  Botswana Pula(P)               Yes   \n",
       "1                          Japanese  ...  Botswana Pula(P)               Yes   \n",
       "2  Seafood, Asian, Filipino, Indian  ...  Botswana Pula(P)               Yes   \n",
       "\n",
       "  Has Online delivery Is delivering now Switch to order menu Price range  \\\n",
       "0                  No                No                   No           3   \n",
       "1                  No                No                   No           3   \n",
       "2                  No                No                   No           4   \n",
       "\n",
       "   Aggregate rating  Rating color Rating text Votes  \n",
       "0               4.8    Dark Green   Excellent   314  \n",
       "1               4.5    Dark Green   Excellent   591  \n",
       "2               4.4         Green   Very Good   270  \n",
       "\n",
       "[3 rows x 21 columns]"
      ]
     },
     "execution_count": 722,
     "metadata": {},
     "output_type": "execute_result"
    }
   ],
   "source": [
    "df = pd.read_csv('Zomatodataset/zomato.csv', encoding='utf-8', encoding_errors = 'ignore')\n",
    "df.head(3)"
   ]
  },
  {
   "cell_type": "markdown",
   "id": "de4dc425",
   "metadata": {},
   "source": [
    "# Data Preprocessing"
   ]
  },
  {
   "cell_type": "code",
   "execution_count": 723,
   "id": "7892c477",
   "metadata": {},
   "outputs": [
    {
     "data": {
      "text/plain": [
       "(9551, 21)"
      ]
     },
     "execution_count": 723,
     "metadata": {},
     "output_type": "execute_result"
    }
   ],
   "source": [
    "df.shape"
   ]
  },
  {
   "cell_type": "code",
   "execution_count": 724,
   "id": "bf8d5c60",
   "metadata": {},
   "outputs": [
    {
     "name": "stdout",
     "output_type": "stream",
     "text": [
      "<class 'pandas.core.frame.DataFrame'>\n",
      "RangeIndex: 9551 entries, 0 to 9550\n",
      "Data columns (total 21 columns):\n",
      " #   Column                Non-Null Count  Dtype  \n",
      "---  ------                --------------  -----  \n",
      " 0   Restaurant ID         9551 non-null   int64  \n",
      " 1   Restaurant Name       9551 non-null   object \n",
      " 2   Country Code          9551 non-null   int64  \n",
      " 3   City                  9551 non-null   object \n",
      " 4   Address               9551 non-null   object \n",
      " 5   Locality              9551 non-null   object \n",
      " 6   Locality Verbose      9551 non-null   object \n",
      " 7   Longitude             9551 non-null   float64\n",
      " 8   Latitude              9551 non-null   float64\n",
      " 9   Cuisines              9542 non-null   object \n",
      " 10  Average Cost for two  9551 non-null   int64  \n",
      " 11  Currency              9551 non-null   object \n",
      " 12  Has Table booking     9551 non-null   object \n",
      " 13  Has Online delivery   9551 non-null   object \n",
      " 14  Is delivering now     9551 non-null   object \n",
      " 15  Switch to order menu  9551 non-null   object \n",
      " 16  Price range           9551 non-null   int64  \n",
      " 17  Aggregate rating      9551 non-null   float64\n",
      " 18  Rating color          9551 non-null   object \n",
      " 19  Rating text           9551 non-null   object \n",
      " 20  Votes                 9551 non-null   int64  \n",
      "dtypes: float64(3), int64(5), object(13)\n",
      "memory usage: 1.5+ MB\n"
     ]
    }
   ],
   "source": [
    "df.info()"
   ]
  },
  {
   "cell_type": "markdown",
   "id": "160a8301",
   "metadata": {},
   "source": [
    "### Get the country Names using the codes"
   ]
  },
  {
   "cell_type": "code",
   "execution_count": 725,
   "id": "374a808e",
   "metadata": {},
   "outputs": [],
   "source": [
    "countries = pd.read_excel('Zomatodataset/Country-Code.xlsx', index_col = 'Country Code')"
   ]
  },
  {
   "cell_type": "code",
   "execution_count": 726,
   "id": "2b96808e",
   "metadata": {},
   "outputs": [
    {
     "data": {
      "text/html": [
       "<div>\n",
       "<style scoped>\n",
       "    .dataframe tbody tr th:only-of-type {\n",
       "        vertical-align: middle;\n",
       "    }\n",
       "\n",
       "    .dataframe tbody tr th {\n",
       "        vertical-align: top;\n",
       "    }\n",
       "\n",
       "    .dataframe thead th {\n",
       "        text-align: right;\n",
       "    }\n",
       "</style>\n",
       "<table border=\"1\" class=\"dataframe\">\n",
       "  <thead>\n",
       "    <tr style=\"text-align: right;\">\n",
       "      <th></th>\n",
       "      <th>Country</th>\n",
       "    </tr>\n",
       "    <tr>\n",
       "      <th>Country Code</th>\n",
       "      <th></th>\n",
       "    </tr>\n",
       "  </thead>\n",
       "  <tbody>\n",
       "    <tr>\n",
       "      <th>1</th>\n",
       "      <td>India</td>\n",
       "    </tr>\n",
       "    <tr>\n",
       "      <th>14</th>\n",
       "      <td>Australia</td>\n",
       "    </tr>\n",
       "    <tr>\n",
       "      <th>30</th>\n",
       "      <td>Brazil</td>\n",
       "    </tr>\n",
       "    <tr>\n",
       "      <th>37</th>\n",
       "      <td>Canada</td>\n",
       "    </tr>\n",
       "    <tr>\n",
       "      <th>94</th>\n",
       "      <td>Indonesia</td>\n",
       "    </tr>\n",
       "    <tr>\n",
       "      <th>148</th>\n",
       "      <td>New Zealand</td>\n",
       "    </tr>\n",
       "    <tr>\n",
       "      <th>162</th>\n",
       "      <td>Phillipines</td>\n",
       "    </tr>\n",
       "    <tr>\n",
       "      <th>166</th>\n",
       "      <td>Qatar</td>\n",
       "    </tr>\n",
       "    <tr>\n",
       "      <th>184</th>\n",
       "      <td>Singapore</td>\n",
       "    </tr>\n",
       "    <tr>\n",
       "      <th>189</th>\n",
       "      <td>South Africa</td>\n",
       "    </tr>\n",
       "    <tr>\n",
       "      <th>191</th>\n",
       "      <td>Sri Lanka</td>\n",
       "    </tr>\n",
       "    <tr>\n",
       "      <th>208</th>\n",
       "      <td>Turkey</td>\n",
       "    </tr>\n",
       "    <tr>\n",
       "      <th>214</th>\n",
       "      <td>UAE</td>\n",
       "    </tr>\n",
       "    <tr>\n",
       "      <th>215</th>\n",
       "      <td>United Kingdom</td>\n",
       "    </tr>\n",
       "    <tr>\n",
       "      <th>216</th>\n",
       "      <td>United States</td>\n",
       "    </tr>\n",
       "  </tbody>\n",
       "</table>\n",
       "</div>"
      ],
      "text/plain": [
       "                     Country\n",
       "Country Code                \n",
       "1                      India\n",
       "14                 Australia\n",
       "30                    Brazil\n",
       "37                    Canada\n",
       "94                 Indonesia\n",
       "148              New Zealand\n",
       "162              Phillipines\n",
       "166                    Qatar\n",
       "184                Singapore\n",
       "189             South Africa\n",
       "191                Sri Lanka\n",
       "208                   Turkey\n",
       "214                      UAE\n",
       "215           United Kingdom\n",
       "216            United States"
      ]
     },
     "execution_count": 726,
     "metadata": {},
     "output_type": "execute_result"
    }
   ],
   "source": [
    "countries"
   ]
  },
  {
   "cell_type": "code",
   "execution_count": 727,
   "id": "025a3853",
   "metadata": {},
   "outputs": [
    {
     "data": {
      "text/plain": [
       "'Australia'"
      ]
     },
     "execution_count": 727,
     "metadata": {},
     "output_type": "execute_result"
    }
   ],
   "source": [
    "countries.loc[14][0]"
   ]
  },
  {
   "cell_type": "code",
   "execution_count": 728,
   "id": "be60f827",
   "metadata": {},
   "outputs": [],
   "source": [
    "countries = pd.read_excel('Zomatodataset/Country-Code.xlsx', index_col = 'Country Code')\n",
    "def get_country_name(code):\n",
    "    return countries.loc[code][0]"
   ]
  },
  {
   "cell_type": "code",
   "execution_count": 729,
   "id": "f3bb3b54",
   "metadata": {},
   "outputs": [
    {
     "data": {
      "text/plain": [
       "'Australia'"
      ]
     },
     "execution_count": 729,
     "metadata": {},
     "output_type": "execute_result"
    }
   ],
   "source": [
    "get_country_name(14)"
   ]
  },
  {
   "cell_type": "code",
   "execution_count": 730,
   "id": "fecfd394",
   "metadata": {},
   "outputs": [],
   "source": [
    "df['Country Name'] = df['Country Code'].apply(get_country_name)"
   ]
  },
  {
   "cell_type": "code",
   "execution_count": 731,
   "id": "03ea7011",
   "metadata": {},
   "outputs": [
    {
     "data": {
      "text/html": [
       "<div>\n",
       "<style scoped>\n",
       "    .dataframe tbody tr th:only-of-type {\n",
       "        vertical-align: middle;\n",
       "    }\n",
       "\n",
       "    .dataframe tbody tr th {\n",
       "        vertical-align: top;\n",
       "    }\n",
       "\n",
       "    .dataframe thead th {\n",
       "        text-align: right;\n",
       "    }\n",
       "</style>\n",
       "<table border=\"1\" class=\"dataframe\">\n",
       "  <thead>\n",
       "    <tr style=\"text-align: right;\">\n",
       "      <th></th>\n",
       "      <th>Restaurant ID</th>\n",
       "      <th>Restaurant Name</th>\n",
       "      <th>Country Code</th>\n",
       "      <th>City</th>\n",
       "      <th>Address</th>\n",
       "      <th>Locality</th>\n",
       "      <th>Locality Verbose</th>\n",
       "      <th>Longitude</th>\n",
       "      <th>Latitude</th>\n",
       "      <th>Cuisines</th>\n",
       "      <th>...</th>\n",
       "      <th>Has Table booking</th>\n",
       "      <th>Has Online delivery</th>\n",
       "      <th>Is delivering now</th>\n",
       "      <th>Switch to order menu</th>\n",
       "      <th>Price range</th>\n",
       "      <th>Aggregate rating</th>\n",
       "      <th>Rating color</th>\n",
       "      <th>Rating text</th>\n",
       "      <th>Votes</th>\n",
       "      <th>Country Name</th>\n",
       "    </tr>\n",
       "  </thead>\n",
       "  <tbody>\n",
       "    <tr>\n",
       "      <th>0</th>\n",
       "      <td>6317637</td>\n",
       "      <td>Le Petit Souffle</td>\n",
       "      <td>162</td>\n",
       "      <td>Makati City</td>\n",
       "      <td>Third Floor, Century City Mall, Kalayaan Avenu...</td>\n",
       "      <td>Century City Mall, Poblacion, Makati City</td>\n",
       "      <td>Century City Mall, Poblacion, Makati City, Mak...</td>\n",
       "      <td>121.027535</td>\n",
       "      <td>14.565443</td>\n",
       "      <td>French, Japanese, Desserts</td>\n",
       "      <td>...</td>\n",
       "      <td>Yes</td>\n",
       "      <td>No</td>\n",
       "      <td>No</td>\n",
       "      <td>No</td>\n",
       "      <td>3</td>\n",
       "      <td>4.8</td>\n",
       "      <td>Dark Green</td>\n",
       "      <td>Excellent</td>\n",
       "      <td>314</td>\n",
       "      <td>Phillipines</td>\n",
       "    </tr>\n",
       "    <tr>\n",
       "      <th>1</th>\n",
       "      <td>6304287</td>\n",
       "      <td>Izakaya Kikufuji</td>\n",
       "      <td>162</td>\n",
       "      <td>Makati City</td>\n",
       "      <td>Little Tokyo, 2277 Chino Roces Avenue, Legaspi...</td>\n",
       "      <td>Little Tokyo, Legaspi Village, Makati City</td>\n",
       "      <td>Little Tokyo, Legaspi Village, Makati City, Ma...</td>\n",
       "      <td>121.014101</td>\n",
       "      <td>14.553708</td>\n",
       "      <td>Japanese</td>\n",
       "      <td>...</td>\n",
       "      <td>Yes</td>\n",
       "      <td>No</td>\n",
       "      <td>No</td>\n",
       "      <td>No</td>\n",
       "      <td>3</td>\n",
       "      <td>4.5</td>\n",
       "      <td>Dark Green</td>\n",
       "      <td>Excellent</td>\n",
       "      <td>591</td>\n",
       "      <td>Phillipines</td>\n",
       "    </tr>\n",
       "    <tr>\n",
       "      <th>2</th>\n",
       "      <td>6300002</td>\n",
       "      <td>Heat - Edsa Shangri-La</td>\n",
       "      <td>162</td>\n",
       "      <td>Mandaluyong City</td>\n",
       "      <td>Edsa Shangri-La, 1 Garden Way, Ortigas, Mandal...</td>\n",
       "      <td>Edsa Shangri-La, Ortigas, Mandaluyong City</td>\n",
       "      <td>Edsa Shangri-La, Ortigas, Mandaluyong City, Ma...</td>\n",
       "      <td>121.056831</td>\n",
       "      <td>14.581404</td>\n",
       "      <td>Seafood, Asian, Filipino, Indian</td>\n",
       "      <td>...</td>\n",
       "      <td>Yes</td>\n",
       "      <td>No</td>\n",
       "      <td>No</td>\n",
       "      <td>No</td>\n",
       "      <td>4</td>\n",
       "      <td>4.4</td>\n",
       "      <td>Green</td>\n",
       "      <td>Very Good</td>\n",
       "      <td>270</td>\n",
       "      <td>Phillipines</td>\n",
       "    </tr>\n",
       "  </tbody>\n",
       "</table>\n",
       "<p>3 rows × 22 columns</p>\n",
       "</div>"
      ],
      "text/plain": [
       "   Restaurant ID         Restaurant Name  Country Code              City  \\\n",
       "0        6317637        Le Petit Souffle           162       Makati City   \n",
       "1        6304287        Izakaya Kikufuji           162       Makati City   \n",
       "2        6300002  Heat - Edsa Shangri-La           162  Mandaluyong City   \n",
       "\n",
       "                                             Address  \\\n",
       "0  Third Floor, Century City Mall, Kalayaan Avenu...   \n",
       "1  Little Tokyo, 2277 Chino Roces Avenue, Legaspi...   \n",
       "2  Edsa Shangri-La, 1 Garden Way, Ortigas, Mandal...   \n",
       "\n",
       "                                     Locality  \\\n",
       "0   Century City Mall, Poblacion, Makati City   \n",
       "1  Little Tokyo, Legaspi Village, Makati City   \n",
       "2  Edsa Shangri-La, Ortigas, Mandaluyong City   \n",
       "\n",
       "                                    Locality Verbose   Longitude   Latitude  \\\n",
       "0  Century City Mall, Poblacion, Makati City, Mak...  121.027535  14.565443   \n",
       "1  Little Tokyo, Legaspi Village, Makati City, Ma...  121.014101  14.553708   \n",
       "2  Edsa Shangri-La, Ortigas, Mandaluyong City, Ma...  121.056831  14.581404   \n",
       "\n",
       "                           Cuisines  ...  Has Table booking  \\\n",
       "0        French, Japanese, Desserts  ...                Yes   \n",
       "1                          Japanese  ...                Yes   \n",
       "2  Seafood, Asian, Filipino, Indian  ...                Yes   \n",
       "\n",
       "  Has Online delivery Is delivering now Switch to order menu Price range  \\\n",
       "0                  No                No                   No           3   \n",
       "1                  No                No                   No           3   \n",
       "2                  No                No                   No           4   \n",
       "\n",
       "  Aggregate rating  Rating color  Rating text Votes Country Name  \n",
       "0              4.8    Dark Green    Excellent   314  Phillipines  \n",
       "1              4.5    Dark Green    Excellent   591  Phillipines  \n",
       "2              4.4         Green    Very Good   270  Phillipines  \n",
       "\n",
       "[3 rows x 22 columns]"
      ]
     },
     "execution_count": 731,
     "metadata": {},
     "output_type": "execute_result"
    }
   ],
   "source": [
    "df.head(3)"
   ]
  },
  {
   "cell_type": "markdown",
   "id": "076c04e4",
   "metadata": {},
   "source": [
    "### Dropping duplicates, if any"
   ]
  },
  {
   "cell_type": "code",
   "execution_count": 732,
   "id": "bc3c5813",
   "metadata": {},
   "outputs": [],
   "source": [
    "df.drop_duplicates(subset = 'Restaurant ID', inplace = True)\n",
    "df = df.reset_index()\n",
    "df.drop('index', inplace = True, axis = 1)"
   ]
  },
  {
   "cell_type": "code",
   "execution_count": 733,
   "id": "2be022b9",
   "metadata": {},
   "outputs": [
    {
     "data": {
      "text/plain": [
       "(9551, 22)"
      ]
     },
     "execution_count": 733,
     "metadata": {},
     "output_type": "execute_result"
    }
   ],
   "source": [
    "df.shape # shape is same so NO duplicates were there"
   ]
  },
  {
   "cell_type": "markdown",
   "id": "73863ebd",
   "metadata": {},
   "source": [
    "### Dropping Less Imp cols"
   ]
  },
  {
   "cell_type": "code",
   "execution_count": 734,
   "id": "d171f2e5",
   "metadata": {},
   "outputs": [],
   "source": [
    "df.drop(['Locality Verbose', 'Locality', 'Rating color', 'Longitude', 'Latitude', 'Country Code', 'Address'], axis = 1, inplace = True)"
   ]
  },
  {
   "cell_type": "code",
   "execution_count": 735,
   "id": "68a13fc2",
   "metadata": {},
   "outputs": [
    {
     "data": {
      "text/html": [
       "<div>\n",
       "<style scoped>\n",
       "    .dataframe tbody tr th:only-of-type {\n",
       "        vertical-align: middle;\n",
       "    }\n",
       "\n",
       "    .dataframe tbody tr th {\n",
       "        vertical-align: top;\n",
       "    }\n",
       "\n",
       "    .dataframe thead th {\n",
       "        text-align: right;\n",
       "    }\n",
       "</style>\n",
       "<table border=\"1\" class=\"dataframe\">\n",
       "  <thead>\n",
       "    <tr style=\"text-align: right;\">\n",
       "      <th></th>\n",
       "      <th>Restaurant ID</th>\n",
       "      <th>Restaurant Name</th>\n",
       "      <th>City</th>\n",
       "      <th>Cuisines</th>\n",
       "      <th>Average Cost for two</th>\n",
       "      <th>Currency</th>\n",
       "      <th>Has Table booking</th>\n",
       "      <th>Has Online delivery</th>\n",
       "      <th>Is delivering now</th>\n",
       "      <th>Switch to order menu</th>\n",
       "      <th>Price range</th>\n",
       "      <th>Aggregate rating</th>\n",
       "      <th>Rating text</th>\n",
       "      <th>Votes</th>\n",
       "      <th>Country Name</th>\n",
       "    </tr>\n",
       "  </thead>\n",
       "  <tbody>\n",
       "    <tr>\n",
       "      <th>0</th>\n",
       "      <td>6317637</td>\n",
       "      <td>Le Petit Souffle</td>\n",
       "      <td>Makati City</td>\n",
       "      <td>French, Japanese, Desserts</td>\n",
       "      <td>1100</td>\n",
       "      <td>Botswana Pula(P)</td>\n",
       "      <td>Yes</td>\n",
       "      <td>No</td>\n",
       "      <td>No</td>\n",
       "      <td>No</td>\n",
       "      <td>3</td>\n",
       "      <td>4.8</td>\n",
       "      <td>Excellent</td>\n",
       "      <td>314</td>\n",
       "      <td>Phillipines</td>\n",
       "    </tr>\n",
       "    <tr>\n",
       "      <th>1</th>\n",
       "      <td>6304287</td>\n",
       "      <td>Izakaya Kikufuji</td>\n",
       "      <td>Makati City</td>\n",
       "      <td>Japanese</td>\n",
       "      <td>1200</td>\n",
       "      <td>Botswana Pula(P)</td>\n",
       "      <td>Yes</td>\n",
       "      <td>No</td>\n",
       "      <td>No</td>\n",
       "      <td>No</td>\n",
       "      <td>3</td>\n",
       "      <td>4.5</td>\n",
       "      <td>Excellent</td>\n",
       "      <td>591</td>\n",
       "      <td>Phillipines</td>\n",
       "    </tr>\n",
       "    <tr>\n",
       "      <th>2</th>\n",
       "      <td>6300002</td>\n",
       "      <td>Heat - Edsa Shangri-La</td>\n",
       "      <td>Mandaluyong City</td>\n",
       "      <td>Seafood, Asian, Filipino, Indian</td>\n",
       "      <td>4000</td>\n",
       "      <td>Botswana Pula(P)</td>\n",
       "      <td>Yes</td>\n",
       "      <td>No</td>\n",
       "      <td>No</td>\n",
       "      <td>No</td>\n",
       "      <td>4</td>\n",
       "      <td>4.4</td>\n",
       "      <td>Very Good</td>\n",
       "      <td>270</td>\n",
       "      <td>Phillipines</td>\n",
       "    </tr>\n",
       "  </tbody>\n",
       "</table>\n",
       "</div>"
      ],
      "text/plain": [
       "   Restaurant ID         Restaurant Name              City  \\\n",
       "0        6317637        Le Petit Souffle       Makati City   \n",
       "1        6304287        Izakaya Kikufuji       Makati City   \n",
       "2        6300002  Heat - Edsa Shangri-La  Mandaluyong City   \n",
       "\n",
       "                           Cuisines  Average Cost for two          Currency  \\\n",
       "0        French, Japanese, Desserts                  1100  Botswana Pula(P)   \n",
       "1                          Japanese                  1200  Botswana Pula(P)   \n",
       "2  Seafood, Asian, Filipino, Indian                  4000  Botswana Pula(P)   \n",
       "\n",
       "  Has Table booking Has Online delivery Is delivering now  \\\n",
       "0               Yes                  No                No   \n",
       "1               Yes                  No                No   \n",
       "2               Yes                  No                No   \n",
       "\n",
       "  Switch to order menu  Price range  Aggregate rating Rating text  Votes  \\\n",
       "0                   No            3               4.8   Excellent    314   \n",
       "1                   No            3               4.5   Excellent    591   \n",
       "2                   No            4               4.4   Very Good    270   \n",
       "\n",
       "  Country Name  \n",
       "0  Phillipines  \n",
       "1  Phillipines  \n",
       "2  Phillipines  "
      ]
     },
     "execution_count": 735,
     "metadata": {},
     "output_type": "execute_result"
    }
   ],
   "source": [
    "df.head(3)"
   ]
  },
  {
   "cell_type": "markdown",
   "id": "ff4d4bb7",
   "metadata": {},
   "source": [
    "### Converting the price into a Single Currency system(Dollers)"
   ]
  },
  {
   "cell_type": "code",
   "execution_count": 736,
   "id": "41b07615",
   "metadata": {},
   "outputs": [
    {
     "data": {
      "text/plain": [
       "array(['Botswana Pula(P)', 'Brazilian Real(R$)', 'Dollar($)',\n",
       "       'Emirati Diram(AED)', 'Indian Rupees(Rs.)',\n",
       "       'Indonesian Rupiah(IDR)', 'NewZealand($)', 'Pounds()',\n",
       "       'Qatari Rial(QR)', 'Rand(R)', 'Sri Lankan Rupee(LKR)',\n",
       "       'Turkish Lira(TL)'], dtype=object)"
      ]
     },
     "execution_count": 736,
     "metadata": {},
     "output_type": "execute_result"
    }
   ],
   "source": [
    "df.Currency.unique()"
   ]
  },
  {
   "cell_type": "code",
   "execution_count": 737,
   "id": "d2976df7",
   "metadata": {},
   "outputs": [],
   "source": [
    "currency = pd.read_csv('Zomatodataset/Currency Exchange(as of dec 2024).csv', index_col = 'Currency')"
   ]
  },
  {
   "cell_type": "code",
   "execution_count": 738,
   "id": "28d93be2",
   "metadata": {},
   "outputs": [
    {
     "data": {
      "text/html": [
       "<div>\n",
       "<style scoped>\n",
       "    .dataframe tbody tr th:only-of-type {\n",
       "        vertical-align: middle;\n",
       "    }\n",
       "\n",
       "    .dataframe tbody tr th {\n",
       "        vertical-align: top;\n",
       "    }\n",
       "\n",
       "    .dataframe thead th {\n",
       "        text-align: right;\n",
       "    }\n",
       "</style>\n",
       "<table border=\"1\" class=\"dataframe\">\n",
       "  <thead>\n",
       "    <tr style=\"text-align: right;\">\n",
       "      <th></th>\n",
       "      <th>Code</th>\n",
       "      <th>Exchange Rate (1 USD)</th>\n",
       "    </tr>\n",
       "    <tr>\n",
       "      <th>Currency</th>\n",
       "      <th></th>\n",
       "      <th></th>\n",
       "    </tr>\n",
       "  </thead>\n",
       "  <tbody>\n",
       "    <tr>\n",
       "      <th>Botswana Pula</th>\n",
       "      <td>P</td>\n",
       "      <td>13.742067</td>\n",
       "    </tr>\n",
       "    <tr>\n",
       "      <th>Brazilian Real</th>\n",
       "      <td>R$</td>\n",
       "      <td>2.178619</td>\n",
       "    </tr>\n",
       "    <tr>\n",
       "      <th>Dollar</th>\n",
       "      <td>$</td>\n",
       "      <td>1.000000</td>\n",
       "    </tr>\n",
       "    <tr>\n",
       "      <th>Emirati Diram</th>\n",
       "      <td>AED</td>\n",
       "      <td>3.741883</td>\n",
       "    </tr>\n",
       "    <tr>\n",
       "      <th>Indian Rupees</th>\n",
       "      <td>Rs.</td>\n",
       "      <td>0.161403</td>\n",
       "    </tr>\n",
       "    <tr>\n",
       "      <th>Indonesian Rupiah</th>\n",
       "      <td>IDR</td>\n",
       "      <td>0.000844</td>\n",
       "    </tr>\n",
       "    <tr>\n",
       "      <th>NewZealand</th>\n",
       "      <td>$</td>\n",
       "      <td>7.774952</td>\n",
       "    </tr>\n",
       "    <tr>\n",
       "      <th>Pounds</th>\n",
       "      <td>NaN</td>\n",
       "      <td>17.368304</td>\n",
       "    </tr>\n",
       "    <tr>\n",
       "      <th>Qatari Rial</th>\n",
       "      <td>QR</td>\n",
       "      <td>3.775293</td>\n",
       "    </tr>\n",
       "    <tr>\n",
       "      <th>Rand</th>\n",
       "      <td>R</td>\n",
       "      <td>0.753070</td>\n",
       "    </tr>\n",
       "    <tr>\n",
       "      <th>Sri Lankan Rupee</th>\n",
       "      <td>LKR</td>\n",
       "      <td>0.047030</td>\n",
       "    </tr>\n",
       "    <tr>\n",
       "      <th>Turkish Lira</th>\n",
       "      <td>TL</td>\n",
       "      <td>0.391799</td>\n",
       "    </tr>\n",
       "  </tbody>\n",
       "</table>\n",
       "</div>"
      ],
      "text/plain": [
       "                  Code  Exchange Rate (1 USD)\n",
       "Currency                                     \n",
       "Botswana Pula        P              13.742067\n",
       "Brazilian Real      R$               2.178619\n",
       "Dollar               $               1.000000\n",
       "Emirati Diram      AED               3.741883\n",
       "Indian Rupees      Rs.               0.161403\n",
       "Indonesian Rupiah  IDR               0.000844\n",
       "NewZealand           $               7.774952\n",
       "Pounds             NaN              17.368304\n",
       "Qatari Rial         QR               3.775293\n",
       "Rand                 R               0.753070\n",
       "Sri Lankan Rupee   LKR               0.047030\n",
       "Turkish Lira        TL               0.391799"
      ]
     },
     "execution_count": 738,
     "metadata": {},
     "output_type": "execute_result"
    }
   ],
   "source": [
    "currency"
   ]
  },
  {
   "cell_type": "code",
   "execution_count": 739,
   "id": "4d5a9ddb",
   "metadata": {},
   "outputs": [],
   "source": [
    "df['PriceWITHCurrency'] = df['Average Cost for two'].astype(str) + \" \" + df['Currency']"
   ]
  },
  {
   "cell_type": "code",
   "execution_count": 740,
   "id": "19b9d76c",
   "metadata": {},
   "outputs": [
    {
     "data": {
      "text/html": [
       "<div>\n",
       "<style scoped>\n",
       "    .dataframe tbody tr th:only-of-type {\n",
       "        vertical-align: middle;\n",
       "    }\n",
       "\n",
       "    .dataframe tbody tr th {\n",
       "        vertical-align: top;\n",
       "    }\n",
       "\n",
       "    .dataframe thead th {\n",
       "        text-align: right;\n",
       "    }\n",
       "</style>\n",
       "<table border=\"1\" class=\"dataframe\">\n",
       "  <thead>\n",
       "    <tr style=\"text-align: right;\">\n",
       "      <th></th>\n",
       "      <th>Restaurant ID</th>\n",
       "      <th>Restaurant Name</th>\n",
       "      <th>City</th>\n",
       "      <th>Cuisines</th>\n",
       "      <th>Average Cost for two</th>\n",
       "      <th>Currency</th>\n",
       "      <th>Has Table booking</th>\n",
       "      <th>Has Online delivery</th>\n",
       "      <th>Is delivering now</th>\n",
       "      <th>Switch to order menu</th>\n",
       "      <th>Price range</th>\n",
       "      <th>Aggregate rating</th>\n",
       "      <th>Rating text</th>\n",
       "      <th>Votes</th>\n",
       "      <th>Country Name</th>\n",
       "      <th>PriceWITHCurrency</th>\n",
       "    </tr>\n",
       "  </thead>\n",
       "  <tbody>\n",
       "    <tr>\n",
       "      <th>0</th>\n",
       "      <td>6317637</td>\n",
       "      <td>Le Petit Souffle</td>\n",
       "      <td>Makati City</td>\n",
       "      <td>French, Japanese, Desserts</td>\n",
       "      <td>1100</td>\n",
       "      <td>Botswana Pula(P)</td>\n",
       "      <td>Yes</td>\n",
       "      <td>No</td>\n",
       "      <td>No</td>\n",
       "      <td>No</td>\n",
       "      <td>3</td>\n",
       "      <td>4.8</td>\n",
       "      <td>Excellent</td>\n",
       "      <td>314</td>\n",
       "      <td>Phillipines</td>\n",
       "      <td>1100 Botswana Pula(P)</td>\n",
       "    </tr>\n",
       "    <tr>\n",
       "      <th>1</th>\n",
       "      <td>6304287</td>\n",
       "      <td>Izakaya Kikufuji</td>\n",
       "      <td>Makati City</td>\n",
       "      <td>Japanese</td>\n",
       "      <td>1200</td>\n",
       "      <td>Botswana Pula(P)</td>\n",
       "      <td>Yes</td>\n",
       "      <td>No</td>\n",
       "      <td>No</td>\n",
       "      <td>No</td>\n",
       "      <td>3</td>\n",
       "      <td>4.5</td>\n",
       "      <td>Excellent</td>\n",
       "      <td>591</td>\n",
       "      <td>Phillipines</td>\n",
       "      <td>1200 Botswana Pula(P)</td>\n",
       "    </tr>\n",
       "  </tbody>\n",
       "</table>\n",
       "</div>"
      ],
      "text/plain": [
       "   Restaurant ID   Restaurant Name         City                    Cuisines  \\\n",
       "0        6317637  Le Petit Souffle  Makati City  French, Japanese, Desserts   \n",
       "1        6304287  Izakaya Kikufuji  Makati City                    Japanese   \n",
       "\n",
       "   Average Cost for two          Currency Has Table booking  \\\n",
       "0                  1100  Botswana Pula(P)               Yes   \n",
       "1                  1200  Botswana Pula(P)               Yes   \n",
       "\n",
       "  Has Online delivery Is delivering now Switch to order menu  Price range  \\\n",
       "0                  No                No                   No            3   \n",
       "1                  No                No                   No            3   \n",
       "\n",
       "   Aggregate rating Rating text  Votes Country Name      PriceWITHCurrency  \n",
       "0               4.8   Excellent    314  Phillipines  1100 Botswana Pula(P)  \n",
       "1               4.5   Excellent    591  Phillipines  1200 Botswana Pula(P)  "
      ]
     },
     "execution_count": 740,
     "metadata": {},
     "output_type": "execute_result"
    }
   ],
   "source": [
    "df.head(2)"
   ]
  },
  {
   "cell_type": "code",
   "execution_count": 741,
   "id": "bcd1fb36",
   "metadata": {},
   "outputs": [],
   "source": [
    "## Now previous two cols are not required\n",
    "\n",
    "df.drop(['Average Cost for two', 'Currency'], inplace = True, axis = 1)"
   ]
  },
  {
   "cell_type": "code",
   "execution_count": 742,
   "id": "eecfb59a",
   "metadata": {},
   "outputs": [
    {
     "data": {
      "text/html": [
       "<div>\n",
       "<style scoped>\n",
       "    .dataframe tbody tr th:only-of-type {\n",
       "        vertical-align: middle;\n",
       "    }\n",
       "\n",
       "    .dataframe tbody tr th {\n",
       "        vertical-align: top;\n",
       "    }\n",
       "\n",
       "    .dataframe thead th {\n",
       "        text-align: right;\n",
       "    }\n",
       "</style>\n",
       "<table border=\"1\" class=\"dataframe\">\n",
       "  <thead>\n",
       "    <tr style=\"text-align: right;\">\n",
       "      <th></th>\n",
       "      <th>Restaurant ID</th>\n",
       "      <th>Restaurant Name</th>\n",
       "      <th>City</th>\n",
       "      <th>Cuisines</th>\n",
       "      <th>Has Table booking</th>\n",
       "      <th>Has Online delivery</th>\n",
       "      <th>Is delivering now</th>\n",
       "      <th>Switch to order menu</th>\n",
       "      <th>Price range</th>\n",
       "      <th>Aggregate rating</th>\n",
       "      <th>Rating text</th>\n",
       "      <th>Votes</th>\n",
       "      <th>Country Name</th>\n",
       "      <th>PriceWITHCurrency</th>\n",
       "    </tr>\n",
       "  </thead>\n",
       "  <tbody>\n",
       "    <tr>\n",
       "      <th>0</th>\n",
       "      <td>6317637</td>\n",
       "      <td>Le Petit Souffle</td>\n",
       "      <td>Makati City</td>\n",
       "      <td>French, Japanese, Desserts</td>\n",
       "      <td>Yes</td>\n",
       "      <td>No</td>\n",
       "      <td>No</td>\n",
       "      <td>No</td>\n",
       "      <td>3</td>\n",
       "      <td>4.8</td>\n",
       "      <td>Excellent</td>\n",
       "      <td>314</td>\n",
       "      <td>Phillipines</td>\n",
       "      <td>1100 Botswana Pula(P)</td>\n",
       "    </tr>\n",
       "    <tr>\n",
       "      <th>1</th>\n",
       "      <td>6304287</td>\n",
       "      <td>Izakaya Kikufuji</td>\n",
       "      <td>Makati City</td>\n",
       "      <td>Japanese</td>\n",
       "      <td>Yes</td>\n",
       "      <td>No</td>\n",
       "      <td>No</td>\n",
       "      <td>No</td>\n",
       "      <td>3</td>\n",
       "      <td>4.5</td>\n",
       "      <td>Excellent</td>\n",
       "      <td>591</td>\n",
       "      <td>Phillipines</td>\n",
       "      <td>1200 Botswana Pula(P)</td>\n",
       "    </tr>\n",
       "  </tbody>\n",
       "</table>\n",
       "</div>"
      ],
      "text/plain": [
       "   Restaurant ID   Restaurant Name         City                    Cuisines  \\\n",
       "0        6317637  Le Petit Souffle  Makati City  French, Japanese, Desserts   \n",
       "1        6304287  Izakaya Kikufuji  Makati City                    Japanese   \n",
       "\n",
       "  Has Table booking Has Online delivery Is delivering now  \\\n",
       "0               Yes                  No                No   \n",
       "1               Yes                  No                No   \n",
       "\n",
       "  Switch to order menu  Price range  Aggregate rating Rating text  Votes  \\\n",
       "0                   No            3               4.8   Excellent    314   \n",
       "1                   No            3               4.5   Excellent    591   \n",
       "\n",
       "  Country Name      PriceWITHCurrency  \n",
       "0  Phillipines  1100 Botswana Pula(P)  \n",
       "1  Phillipines  1200 Botswana Pula(P)  "
      ]
     },
     "execution_count": 742,
     "metadata": {},
     "output_type": "execute_result"
    }
   ],
   "source": [
    "df.head(2)"
   ]
  },
  {
   "cell_type": "code",
   "execution_count": 743,
   "id": "0219814f",
   "metadata": {},
   "outputs": [],
   "source": [
    "currency = pd.read_csv('Zomatodataset/Currency Exchange(as of dec 2024).csv', index_col = 'Currency')\n",
    "def get_price_in_dollers(price_currency):\n",
    "    price = price_currency.split('(')\n",
    "    price = price[0].split()\n",
    "    value = int(price[0])\n",
    "    curr = ' '.join(price[1:])\n",
    "    doller_equivalent = currency.loc[curr]['Exchange Rate (1 USD)']\n",
    "    price_in_dollers = value/doller_equivalent\n",
    "    return np.round_(price_in_dollers, decimals = 2)"
   ]
  },
  {
   "cell_type": "code",
   "execution_count": 744,
   "id": "4b000270",
   "metadata": {},
   "outputs": [
    {
     "data": {
      "text/plain": [
       "80.05"
      ]
     },
     "execution_count": 744,
     "metadata": {},
     "output_type": "execute_result"
    }
   ],
   "source": [
    "get_price_in_dollers('1100 Botswana Pula(P)')"
   ]
  },
  {
   "cell_type": "code",
   "execution_count": 745,
   "id": "01c51ce4",
   "metadata": {},
   "outputs": [],
   "source": [
    "df['Avg. Cost For two($)'] = df['PriceWITHCurrency'].apply(get_price_in_dollers)"
   ]
  },
  {
   "cell_type": "code",
   "execution_count": 746,
   "id": "cf4848fd",
   "metadata": {},
   "outputs": [
    {
     "data": {
      "text/html": [
       "<div>\n",
       "<style scoped>\n",
       "    .dataframe tbody tr th:only-of-type {\n",
       "        vertical-align: middle;\n",
       "    }\n",
       "\n",
       "    .dataframe tbody tr th {\n",
       "        vertical-align: top;\n",
       "    }\n",
       "\n",
       "    .dataframe thead th {\n",
       "        text-align: right;\n",
       "    }\n",
       "</style>\n",
       "<table border=\"1\" class=\"dataframe\">\n",
       "  <thead>\n",
       "    <tr style=\"text-align: right;\">\n",
       "      <th></th>\n",
       "      <th>Restaurant ID</th>\n",
       "      <th>Restaurant Name</th>\n",
       "      <th>City</th>\n",
       "      <th>Cuisines</th>\n",
       "      <th>Has Table booking</th>\n",
       "      <th>Has Online delivery</th>\n",
       "      <th>Is delivering now</th>\n",
       "      <th>Switch to order menu</th>\n",
       "      <th>Price range</th>\n",
       "      <th>Aggregate rating</th>\n",
       "      <th>Rating text</th>\n",
       "      <th>Votes</th>\n",
       "      <th>Country Name</th>\n",
       "      <th>PriceWITHCurrency</th>\n",
       "      <th>Avg. Cost For two($)</th>\n",
       "    </tr>\n",
       "  </thead>\n",
       "  <tbody>\n",
       "    <tr>\n",
       "      <th>0</th>\n",
       "      <td>6317637</td>\n",
       "      <td>Le Petit Souffle</td>\n",
       "      <td>Makati City</td>\n",
       "      <td>French, Japanese, Desserts</td>\n",
       "      <td>Yes</td>\n",
       "      <td>No</td>\n",
       "      <td>No</td>\n",
       "      <td>No</td>\n",
       "      <td>3</td>\n",
       "      <td>4.8</td>\n",
       "      <td>Excellent</td>\n",
       "      <td>314</td>\n",
       "      <td>Phillipines</td>\n",
       "      <td>1100 Botswana Pula(P)</td>\n",
       "      <td>80.05</td>\n",
       "    </tr>\n",
       "    <tr>\n",
       "      <th>1</th>\n",
       "      <td>6304287</td>\n",
       "      <td>Izakaya Kikufuji</td>\n",
       "      <td>Makati City</td>\n",
       "      <td>Japanese</td>\n",
       "      <td>Yes</td>\n",
       "      <td>No</td>\n",
       "      <td>No</td>\n",
       "      <td>No</td>\n",
       "      <td>3</td>\n",
       "      <td>4.5</td>\n",
       "      <td>Excellent</td>\n",
       "      <td>591</td>\n",
       "      <td>Phillipines</td>\n",
       "      <td>1200 Botswana Pula(P)</td>\n",
       "      <td>87.32</td>\n",
       "    </tr>\n",
       "    <tr>\n",
       "      <th>2</th>\n",
       "      <td>6300002</td>\n",
       "      <td>Heat - Edsa Shangri-La</td>\n",
       "      <td>Mandaluyong City</td>\n",
       "      <td>Seafood, Asian, Filipino, Indian</td>\n",
       "      <td>Yes</td>\n",
       "      <td>No</td>\n",
       "      <td>No</td>\n",
       "      <td>No</td>\n",
       "      <td>4</td>\n",
       "      <td>4.4</td>\n",
       "      <td>Very Good</td>\n",
       "      <td>270</td>\n",
       "      <td>Phillipines</td>\n",
       "      <td>4000 Botswana Pula(P)</td>\n",
       "      <td>291.08</td>\n",
       "    </tr>\n",
       "  </tbody>\n",
       "</table>\n",
       "</div>"
      ],
      "text/plain": [
       "   Restaurant ID         Restaurant Name              City  \\\n",
       "0        6317637        Le Petit Souffle       Makati City   \n",
       "1        6304287        Izakaya Kikufuji       Makati City   \n",
       "2        6300002  Heat - Edsa Shangri-La  Mandaluyong City   \n",
       "\n",
       "                           Cuisines Has Table booking Has Online delivery  \\\n",
       "0        French, Japanese, Desserts               Yes                  No   \n",
       "1                          Japanese               Yes                  No   \n",
       "2  Seafood, Asian, Filipino, Indian               Yes                  No   \n",
       "\n",
       "  Is delivering now Switch to order menu  Price range  Aggregate rating  \\\n",
       "0                No                   No            3               4.8   \n",
       "1                No                   No            3               4.5   \n",
       "2                No                   No            4               4.4   \n",
       "\n",
       "  Rating text  Votes Country Name      PriceWITHCurrency  Avg. Cost For two($)  \n",
       "0   Excellent    314  Phillipines  1100 Botswana Pula(P)                 80.05  \n",
       "1   Excellent    591  Phillipines  1200 Botswana Pula(P)                 87.32  \n",
       "2   Very Good    270  Phillipines  4000 Botswana Pula(P)                291.08  "
      ]
     },
     "execution_count": 746,
     "metadata": {},
     "output_type": "execute_result"
    }
   ],
   "source": [
    "df.head(3)"
   ]
  },
  {
   "cell_type": "code",
   "execution_count": 747,
   "id": "5a8651eb",
   "metadata": {},
   "outputs": [],
   "source": [
    "df.drop('PriceWITHCurrency', inplace = True, axis = 1)"
   ]
  },
  {
   "cell_type": "code",
   "execution_count": 748,
   "id": "8e49f337",
   "metadata": {},
   "outputs": [
    {
     "data": {
      "text/html": [
       "<div>\n",
       "<style scoped>\n",
       "    .dataframe tbody tr th:only-of-type {\n",
       "        vertical-align: middle;\n",
       "    }\n",
       "\n",
       "    .dataframe tbody tr th {\n",
       "        vertical-align: top;\n",
       "    }\n",
       "\n",
       "    .dataframe thead th {\n",
       "        text-align: right;\n",
       "    }\n",
       "</style>\n",
       "<table border=\"1\" class=\"dataframe\">\n",
       "  <thead>\n",
       "    <tr style=\"text-align: right;\">\n",
       "      <th></th>\n",
       "      <th>Restaurant ID</th>\n",
       "      <th>Restaurant Name</th>\n",
       "      <th>City</th>\n",
       "      <th>Cuisines</th>\n",
       "      <th>Has Table booking</th>\n",
       "      <th>Has Online delivery</th>\n",
       "      <th>Is delivering now</th>\n",
       "      <th>Switch to order menu</th>\n",
       "      <th>Price range</th>\n",
       "      <th>Aggregate rating</th>\n",
       "      <th>Rating text</th>\n",
       "      <th>Votes</th>\n",
       "      <th>Country Name</th>\n",
       "      <th>Avg. Cost For two($)</th>\n",
       "    </tr>\n",
       "  </thead>\n",
       "  <tbody>\n",
       "    <tr>\n",
       "      <th>0</th>\n",
       "      <td>6317637</td>\n",
       "      <td>Le Petit Souffle</td>\n",
       "      <td>Makati City</td>\n",
       "      <td>French, Japanese, Desserts</td>\n",
       "      <td>Yes</td>\n",
       "      <td>No</td>\n",
       "      <td>No</td>\n",
       "      <td>No</td>\n",
       "      <td>3</td>\n",
       "      <td>4.8</td>\n",
       "      <td>Excellent</td>\n",
       "      <td>314</td>\n",
       "      <td>Phillipines</td>\n",
       "      <td>80.05</td>\n",
       "    </tr>\n",
       "    <tr>\n",
       "      <th>1</th>\n",
       "      <td>6304287</td>\n",
       "      <td>Izakaya Kikufuji</td>\n",
       "      <td>Makati City</td>\n",
       "      <td>Japanese</td>\n",
       "      <td>Yes</td>\n",
       "      <td>No</td>\n",
       "      <td>No</td>\n",
       "      <td>No</td>\n",
       "      <td>3</td>\n",
       "      <td>4.5</td>\n",
       "      <td>Excellent</td>\n",
       "      <td>591</td>\n",
       "      <td>Phillipines</td>\n",
       "      <td>87.32</td>\n",
       "    </tr>\n",
       "    <tr>\n",
       "      <th>2</th>\n",
       "      <td>6300002</td>\n",
       "      <td>Heat - Edsa Shangri-La</td>\n",
       "      <td>Mandaluyong City</td>\n",
       "      <td>Seafood, Asian, Filipino, Indian</td>\n",
       "      <td>Yes</td>\n",
       "      <td>No</td>\n",
       "      <td>No</td>\n",
       "      <td>No</td>\n",
       "      <td>4</td>\n",
       "      <td>4.4</td>\n",
       "      <td>Very Good</td>\n",
       "      <td>270</td>\n",
       "      <td>Phillipines</td>\n",
       "      <td>291.08</td>\n",
       "    </tr>\n",
       "    <tr>\n",
       "      <th>3</th>\n",
       "      <td>6318506</td>\n",
       "      <td>Ooma</td>\n",
       "      <td>Mandaluyong City</td>\n",
       "      <td>Japanese, Sushi</td>\n",
       "      <td>No</td>\n",
       "      <td>No</td>\n",
       "      <td>No</td>\n",
       "      <td>No</td>\n",
       "      <td>4</td>\n",
       "      <td>4.9</td>\n",
       "      <td>Excellent</td>\n",
       "      <td>365</td>\n",
       "      <td>Phillipines</td>\n",
       "      <td>109.15</td>\n",
       "    </tr>\n",
       "    <tr>\n",
       "      <th>4</th>\n",
       "      <td>6314302</td>\n",
       "      <td>Sambo Kojin</td>\n",
       "      <td>Mandaluyong City</td>\n",
       "      <td>Japanese, Korean</td>\n",
       "      <td>Yes</td>\n",
       "      <td>No</td>\n",
       "      <td>No</td>\n",
       "      <td>No</td>\n",
       "      <td>4</td>\n",
       "      <td>4.8</td>\n",
       "      <td>Excellent</td>\n",
       "      <td>229</td>\n",
       "      <td>Phillipines</td>\n",
       "      <td>109.15</td>\n",
       "    </tr>\n",
       "  </tbody>\n",
       "</table>\n",
       "</div>"
      ],
      "text/plain": [
       "   Restaurant ID         Restaurant Name              City  \\\n",
       "0        6317637        Le Petit Souffle       Makati City   \n",
       "1        6304287        Izakaya Kikufuji       Makati City   \n",
       "2        6300002  Heat - Edsa Shangri-La  Mandaluyong City   \n",
       "3        6318506                    Ooma  Mandaluyong City   \n",
       "4        6314302             Sambo Kojin  Mandaluyong City   \n",
       "\n",
       "                           Cuisines Has Table booking Has Online delivery  \\\n",
       "0        French, Japanese, Desserts               Yes                  No   \n",
       "1                          Japanese               Yes                  No   \n",
       "2  Seafood, Asian, Filipino, Indian               Yes                  No   \n",
       "3                   Japanese, Sushi                No                  No   \n",
       "4                  Japanese, Korean               Yes                  No   \n",
       "\n",
       "  Is delivering now Switch to order menu  Price range  Aggregate rating  \\\n",
       "0                No                   No            3               4.8   \n",
       "1                No                   No            3               4.5   \n",
       "2                No                   No            4               4.4   \n",
       "3                No                   No            4               4.9   \n",
       "4                No                   No            4               4.8   \n",
       "\n",
       "  Rating text  Votes Country Name  Avg. Cost For two($)  \n",
       "0   Excellent    314  Phillipines                 80.05  \n",
       "1   Excellent    591  Phillipines                 87.32  \n",
       "2   Very Good    270  Phillipines                291.08  \n",
       "3   Excellent    365  Phillipines                109.15  \n",
       "4   Excellent    229  Phillipines                109.15  "
      ]
     },
     "execution_count": 748,
     "metadata": {},
     "output_type": "execute_result"
    }
   ],
   "source": [
    "df.head()"
   ]
  },
  {
   "cell_type": "markdown",
   "id": "daff5c50",
   "metadata": {},
   "source": [
    "# Exploratory Data Analysis"
   ]
  },
  {
   "cell_type": "markdown",
   "id": "408ea7bc",
   "metadata": {},
   "source": [
    "### Restaurants Rating Insights"
   ]
  },
  {
   "cell_type": "markdown",
   "id": "100eb9ef",
   "metadata": {},
   "source": [
    "#### Q1. Which restaurants have consistently received the good ratings?"
   ]
  },
  {
   "cell_type": "code",
   "execution_count": 749,
   "id": "ad55bba2",
   "metadata": {
    "scrolled": false
   },
   "outputs": [
    {
     "data": {
      "text/plain": [
       "Restaurant Name\n",
       "Barbeque Nation             23\n",
       "Pizza Hut                    7\n",
       "Mocha                        6\n",
       "Farzi Cafe                   6\n",
       "Chili's                      5\n",
       "                            ..\n",
       "Maplai                       1\n",
       "Kaidi Kitchen                1\n",
       "Ciclo Cafe                   1\n",
       "Fusilli Reasons              1\n",
       "Walter's Coffee Roastery     1\n",
       "Name: count, Length: 1238, dtype: int64"
      ]
     },
     "execution_count": 749,
     "metadata": {},
     "output_type": "execute_result"
    }
   ],
   "source": [
    "rating_more_than_4 = df[df['Aggregate rating'] >= 4]['Restaurant Name'].value_counts()\n",
    "rating_more_than_4"
   ]
  },
  {
   "cell_type": "markdown",
   "id": "1cdde142",
   "metadata": {},
   "source": [
    "Restaurents Which Have Got ( rating >=4 ) more than 5 times"
   ]
  },
  {
   "cell_type": "code",
   "execution_count": 750,
   "id": "701b0a36",
   "metadata": {},
   "outputs": [
    {
     "data": {
      "text/html": [
       "<div>\n",
       "<style scoped>\n",
       "    .dataframe tbody tr th:only-of-type {\n",
       "        vertical-align: middle;\n",
       "    }\n",
       "\n",
       "    .dataframe tbody tr th {\n",
       "        vertical-align: top;\n",
       "    }\n",
       "\n",
       "    .dataframe thead th {\n",
       "        text-align: right;\n",
       "    }\n",
       "</style>\n",
       "<table border=\"1\" class=\"dataframe\">\n",
       "  <thead>\n",
       "    <tr style=\"text-align: right;\">\n",
       "      <th></th>\n",
       "      <th>count</th>\n",
       "    </tr>\n",
       "    <tr>\n",
       "      <th>Restaurant Name</th>\n",
       "      <th></th>\n",
       "    </tr>\n",
       "  </thead>\n",
       "  <tbody>\n",
       "    <tr>\n",
       "      <th>Barbeque Nation</th>\n",
       "      <td>23</td>\n",
       "    </tr>\n",
       "    <tr>\n",
       "      <th>Pizza Hut</th>\n",
       "      <td>7</td>\n",
       "    </tr>\n",
       "    <tr>\n",
       "      <th>Mocha</th>\n",
       "      <td>6</td>\n",
       "    </tr>\n",
       "    <tr>\n",
       "      <th>Farzi Cafe</th>\n",
       "      <td>6</td>\n",
       "    </tr>\n",
       "    <tr>\n",
       "      <th>Chili's</th>\n",
       "      <td>5</td>\n",
       "    </tr>\n",
       "    <tr>\n",
       "      <th>Punjab Grill</th>\n",
       "      <td>5</td>\n",
       "    </tr>\n",
       "  </tbody>\n",
       "</table>\n",
       "</div>"
      ],
      "text/plain": [
       "                 count\n",
       "Restaurant Name       \n",
       "Barbeque Nation     23\n",
       "Pizza Hut            7\n",
       "Mocha                6\n",
       "Farzi Cafe           6\n",
       "Chili's              5\n",
       "Punjab Grill         5"
      ]
     },
     "execution_count": 750,
     "metadata": {},
     "output_type": "execute_result"
    }
   ],
   "source": [
    "pd.DataFrame(rating_more_than_4[rating_more_than_4>=5])"
   ]
  },
  {
   "cell_type": "markdown",
   "id": "b286dc47",
   "metadata": {},
   "source": [
    "### Q2. Is there a correlation between the number of votes and the aggregate rating?"
   ]
  },
  {
   "cell_type": "code",
   "execution_count": 751,
   "id": "b05ec77e",
   "metadata": {},
   "outputs": [
    {
     "data": {
      "text/html": [
       "<div>\n",
       "<style scoped>\n",
       "    .dataframe tbody tr th:only-of-type {\n",
       "        vertical-align: middle;\n",
       "    }\n",
       "\n",
       "    .dataframe tbody tr th {\n",
       "        vertical-align: top;\n",
       "    }\n",
       "\n",
       "    .dataframe thead th {\n",
       "        text-align: right;\n",
       "    }\n",
       "</style>\n",
       "<table border=\"1\" class=\"dataframe\">\n",
       "  <thead>\n",
       "    <tr style=\"text-align: right;\">\n",
       "      <th></th>\n",
       "      <th>Restaurant ID</th>\n",
       "      <th>Restaurant Name</th>\n",
       "      <th>City</th>\n",
       "      <th>Cuisines</th>\n",
       "      <th>Has Table booking</th>\n",
       "      <th>Has Online delivery</th>\n",
       "      <th>Is delivering now</th>\n",
       "      <th>Switch to order menu</th>\n",
       "      <th>Price range</th>\n",
       "      <th>Aggregate rating</th>\n",
       "      <th>Rating text</th>\n",
       "      <th>Votes</th>\n",
       "      <th>Country Name</th>\n",
       "      <th>Avg. Cost For two($)</th>\n",
       "    </tr>\n",
       "  </thead>\n",
       "  <tbody>\n",
       "    <tr>\n",
       "      <th>0</th>\n",
       "      <td>6317637</td>\n",
       "      <td>Le Petit Souffle</td>\n",
       "      <td>Makati City</td>\n",
       "      <td>French, Japanese, Desserts</td>\n",
       "      <td>Yes</td>\n",
       "      <td>No</td>\n",
       "      <td>No</td>\n",
       "      <td>No</td>\n",
       "      <td>3</td>\n",
       "      <td>4.8</td>\n",
       "      <td>Excellent</td>\n",
       "      <td>314</td>\n",
       "      <td>Phillipines</td>\n",
       "      <td>80.05</td>\n",
       "    </tr>\n",
       "    <tr>\n",
       "      <th>1</th>\n",
       "      <td>6304287</td>\n",
       "      <td>Izakaya Kikufuji</td>\n",
       "      <td>Makati City</td>\n",
       "      <td>Japanese</td>\n",
       "      <td>Yes</td>\n",
       "      <td>No</td>\n",
       "      <td>No</td>\n",
       "      <td>No</td>\n",
       "      <td>3</td>\n",
       "      <td>4.5</td>\n",
       "      <td>Excellent</td>\n",
       "      <td>591</td>\n",
       "      <td>Phillipines</td>\n",
       "      <td>87.32</td>\n",
       "    </tr>\n",
       "  </tbody>\n",
       "</table>\n",
       "</div>"
      ],
      "text/plain": [
       "   Restaurant ID   Restaurant Name         City                    Cuisines  \\\n",
       "0        6317637  Le Petit Souffle  Makati City  French, Japanese, Desserts   \n",
       "1        6304287  Izakaya Kikufuji  Makati City                    Japanese   \n",
       "\n",
       "  Has Table booking Has Online delivery Is delivering now  \\\n",
       "0               Yes                  No                No   \n",
       "1               Yes                  No                No   \n",
       "\n",
       "  Switch to order menu  Price range  Aggregate rating Rating text  Votes  \\\n",
       "0                   No            3               4.8   Excellent    314   \n",
       "1                   No            3               4.5   Excellent    591   \n",
       "\n",
       "  Country Name  Avg. Cost For two($)  \n",
       "0  Phillipines                 80.05  \n",
       "1  Phillipines                 87.32  "
      ]
     },
     "execution_count": 751,
     "metadata": {},
     "output_type": "execute_result"
    }
   ],
   "source": [
    "df.head(2)"
   ]
  },
  {
   "cell_type": "code",
   "execution_count": 978,
   "id": "4d807aac",
   "metadata": {},
   "outputs": [
    {
     "name": "stdout",
     "output_type": "stream",
     "text": [
      "Pearson Correlation Coefficient: 0.3181\n",
      "P-value: 0.0000\n",
      "There is a significant correlation between the number of votes and aggregate rating.\n"
     ]
    }
   ],
   "source": [
    "from scipy.stats import pearsonr\n",
    "\n",
    "corr, p_value = pearsonr(df['Votes'], df['Aggregate rating'])\n",
    "\n",
    "print(f\"Pearson Correlation Coefficient: {corr:.4f}\")\n",
    "print(f\"P-value: {p_value:.4f}\")\n",
    "\n",
    "if p_value < 0.05:\n",
    "    print(\"There is a significant correlation between the number of votes and aggregate rating.\")\n",
    "else:\n",
    "    print(\"There is no significant correlation between the number of votes and aggregate rating.\")\n"
   ]
  },
  {
   "cell_type": "markdown",
   "id": "7fe15b85",
   "metadata": {},
   "source": [
    "### Q3.What is the most common rating given to restaurants?"
   ]
  },
  {
   "cell_type": "code",
   "execution_count": 753,
   "id": "95942e1f",
   "metadata": {},
   "outputs": [
    {
     "data": {
      "text/html": [
       "<div>\n",
       "<style scoped>\n",
       "    .dataframe tbody tr th:only-of-type {\n",
       "        vertical-align: middle;\n",
       "    }\n",
       "\n",
       "    .dataframe tbody tr th {\n",
       "        vertical-align: top;\n",
       "    }\n",
       "\n",
       "    .dataframe thead th {\n",
       "        text-align: right;\n",
       "    }\n",
       "</style>\n",
       "<table border=\"1\" class=\"dataframe\">\n",
       "  <thead>\n",
       "    <tr style=\"text-align: right;\">\n",
       "      <th></th>\n",
       "      <th>count</th>\n",
       "    </tr>\n",
       "    <tr>\n",
       "      <th>Aggregate rating</th>\n",
       "      <th></th>\n",
       "    </tr>\n",
       "  </thead>\n",
       "  <tbody>\n",
       "    <tr>\n",
       "      <th>0.0</th>\n",
       "      <td>2148</td>\n",
       "    </tr>\n",
       "    <tr>\n",
       "      <th>3.2</th>\n",
       "      <td>522</td>\n",
       "    </tr>\n",
       "    <tr>\n",
       "      <th>3.1</th>\n",
       "      <td>519</td>\n",
       "    </tr>\n",
       "    <tr>\n",
       "      <th>3.4</th>\n",
       "      <td>498</td>\n",
       "    </tr>\n",
       "    <tr>\n",
       "      <th>3.3</th>\n",
       "      <td>483</td>\n",
       "    </tr>\n",
       "    <tr>\n",
       "      <th>3.5</th>\n",
       "      <td>480</td>\n",
       "    </tr>\n",
       "    <tr>\n",
       "      <th>3.0</th>\n",
       "      <td>468</td>\n",
       "    </tr>\n",
       "    <tr>\n",
       "      <th>3.6</th>\n",
       "      <td>458</td>\n",
       "    </tr>\n",
       "    <tr>\n",
       "      <th>3.7</th>\n",
       "      <td>427</td>\n",
       "    </tr>\n",
       "    <tr>\n",
       "      <th>3.8</th>\n",
       "      <td>400</td>\n",
       "    </tr>\n",
       "    <tr>\n",
       "      <th>2.9</th>\n",
       "      <td>381</td>\n",
       "    </tr>\n",
       "    <tr>\n",
       "      <th>3.9</th>\n",
       "      <td>335</td>\n",
       "    </tr>\n",
       "    <tr>\n",
       "      <th>2.8</th>\n",
       "      <td>315</td>\n",
       "    </tr>\n",
       "    <tr>\n",
       "      <th>4.1</th>\n",
       "      <td>274</td>\n",
       "    </tr>\n",
       "    <tr>\n",
       "      <th>4.0</th>\n",
       "      <td>266</td>\n",
       "    </tr>\n",
       "    <tr>\n",
       "      <th>2.7</th>\n",
       "      <td>250</td>\n",
       "    </tr>\n",
       "    <tr>\n",
       "      <th>4.2</th>\n",
       "      <td>221</td>\n",
       "    </tr>\n",
       "    <tr>\n",
       "      <th>2.6</th>\n",
       "      <td>191</td>\n",
       "    </tr>\n",
       "    <tr>\n",
       "      <th>4.3</th>\n",
       "      <td>174</td>\n",
       "    </tr>\n",
       "    <tr>\n",
       "      <th>4.4</th>\n",
       "      <td>144</td>\n",
       "    </tr>\n",
       "    <tr>\n",
       "      <th>2.5</th>\n",
       "      <td>110</td>\n",
       "    </tr>\n",
       "    <tr>\n",
       "      <th>4.5</th>\n",
       "      <td>95</td>\n",
       "    </tr>\n",
       "    <tr>\n",
       "      <th>2.4</th>\n",
       "      <td>87</td>\n",
       "    </tr>\n",
       "    <tr>\n",
       "      <th>4.6</th>\n",
       "      <td>78</td>\n",
       "    </tr>\n",
       "    <tr>\n",
       "      <th>4.9</th>\n",
       "      <td>61</td>\n",
       "    </tr>\n",
       "    <tr>\n",
       "      <th>2.3</th>\n",
       "      <td>47</td>\n",
       "    </tr>\n",
       "    <tr>\n",
       "      <th>4.7</th>\n",
       "      <td>42</td>\n",
       "    </tr>\n",
       "    <tr>\n",
       "      <th>2.2</th>\n",
       "      <td>27</td>\n",
       "    </tr>\n",
       "    <tr>\n",
       "      <th>4.8</th>\n",
       "      <td>25</td>\n",
       "    </tr>\n",
       "    <tr>\n",
       "      <th>2.1</th>\n",
       "      <td>15</td>\n",
       "    </tr>\n",
       "    <tr>\n",
       "      <th>2.0</th>\n",
       "      <td>7</td>\n",
       "    </tr>\n",
       "    <tr>\n",
       "      <th>1.9</th>\n",
       "      <td>2</td>\n",
       "    </tr>\n",
       "    <tr>\n",
       "      <th>1.8</th>\n",
       "      <td>1</td>\n",
       "    </tr>\n",
       "  </tbody>\n",
       "</table>\n",
       "</div>"
      ],
      "text/plain": [
       "                  count\n",
       "Aggregate rating       \n",
       "0.0                2148\n",
       "3.2                 522\n",
       "3.1                 519\n",
       "3.4                 498\n",
       "3.3                 483\n",
       "3.5                 480\n",
       "3.0                 468\n",
       "3.6                 458\n",
       "3.7                 427\n",
       "3.8                 400\n",
       "2.9                 381\n",
       "3.9                 335\n",
       "2.8                 315\n",
       "4.1                 274\n",
       "4.0                 266\n",
       "2.7                 250\n",
       "4.2                 221\n",
       "2.6                 191\n",
       "4.3                 174\n",
       "4.4                 144\n",
       "2.5                 110\n",
       "4.5                  95\n",
       "2.4                  87\n",
       "4.6                  78\n",
       "4.9                  61\n",
       "2.3                  47\n",
       "4.7                  42\n",
       "2.2                  27\n",
       "4.8                  25\n",
       "2.1                  15\n",
       "2.0                   7\n",
       "1.9                   2\n",
       "1.8                   1"
      ]
     },
     "execution_count": 753,
     "metadata": {},
     "output_type": "execute_result"
    }
   ],
   "source": [
    "pd.DataFrame(df['Aggregate rating'].value_counts())"
   ]
  },
  {
   "cell_type": "markdown",
   "id": "bb1d4e0e",
   "metadata": {},
   "source": [
    "ANSWER 3\n",
    "\n",
    "most Common Rating is 0"
   ]
  },
  {
   "cell_type": "markdown",
   "id": "46234601",
   "metadata": {},
   "source": [
    "### Q4. How do ratings vary across different cities?"
   ]
  },
  {
   "cell_type": "code",
   "execution_count": 754,
   "id": "a54427c7",
   "metadata": {},
   "outputs": [
    {
     "data": {
      "text/html": [
       "<div>\n",
       "<style scoped>\n",
       "    .dataframe tbody tr th:only-of-type {\n",
       "        vertical-align: middle;\n",
       "    }\n",
       "\n",
       "    .dataframe tbody tr th {\n",
       "        vertical-align: top;\n",
       "    }\n",
       "\n",
       "    .dataframe thead th {\n",
       "        text-align: right;\n",
       "    }\n",
       "</style>\n",
       "<table border=\"1\" class=\"dataframe\">\n",
       "  <thead>\n",
       "    <tr style=\"text-align: right;\">\n",
       "      <th></th>\n",
       "      <th>Restaurant ID</th>\n",
       "      <th>Restaurant Name</th>\n",
       "      <th>City</th>\n",
       "      <th>Cuisines</th>\n",
       "      <th>Has Table booking</th>\n",
       "      <th>Has Online delivery</th>\n",
       "      <th>Is delivering now</th>\n",
       "      <th>Switch to order menu</th>\n",
       "      <th>Price range</th>\n",
       "      <th>Aggregate rating</th>\n",
       "      <th>Rating text</th>\n",
       "      <th>Votes</th>\n",
       "      <th>Country Name</th>\n",
       "      <th>Avg. Cost For two($)</th>\n",
       "    </tr>\n",
       "  </thead>\n",
       "  <tbody>\n",
       "    <tr>\n",
       "      <th>0</th>\n",
       "      <td>6317637</td>\n",
       "      <td>Le Petit Souffle</td>\n",
       "      <td>Makati City</td>\n",
       "      <td>French, Japanese, Desserts</td>\n",
       "      <td>Yes</td>\n",
       "      <td>No</td>\n",
       "      <td>No</td>\n",
       "      <td>No</td>\n",
       "      <td>3</td>\n",
       "      <td>4.8</td>\n",
       "      <td>Excellent</td>\n",
       "      <td>314</td>\n",
       "      <td>Phillipines</td>\n",
       "      <td>80.05</td>\n",
       "    </tr>\n",
       "    <tr>\n",
       "      <th>1</th>\n",
       "      <td>6304287</td>\n",
       "      <td>Izakaya Kikufuji</td>\n",
       "      <td>Makati City</td>\n",
       "      <td>Japanese</td>\n",
       "      <td>Yes</td>\n",
       "      <td>No</td>\n",
       "      <td>No</td>\n",
       "      <td>No</td>\n",
       "      <td>3</td>\n",
       "      <td>4.5</td>\n",
       "      <td>Excellent</td>\n",
       "      <td>591</td>\n",
       "      <td>Phillipines</td>\n",
       "      <td>87.32</td>\n",
       "    </tr>\n",
       "  </tbody>\n",
       "</table>\n",
       "</div>"
      ],
      "text/plain": [
       "   Restaurant ID   Restaurant Name         City                    Cuisines  \\\n",
       "0        6317637  Le Petit Souffle  Makati City  French, Japanese, Desserts   \n",
       "1        6304287  Izakaya Kikufuji  Makati City                    Japanese   \n",
       "\n",
       "  Has Table booking Has Online delivery Is delivering now  \\\n",
       "0               Yes                  No                No   \n",
       "1               Yes                  No                No   \n",
       "\n",
       "  Switch to order menu  Price range  Aggregate rating Rating text  Votes  \\\n",
       "0                   No            3               4.8   Excellent    314   \n",
       "1                   No            3               4.5   Excellent    591   \n",
       "\n",
       "  Country Name  Avg. Cost For two($)  \n",
       "0  Phillipines                 80.05  \n",
       "1  Phillipines                 87.32  "
      ]
     },
     "execution_count": 754,
     "metadata": {},
     "output_type": "execute_result"
    }
   ],
   "source": [
    "df.head(2)"
   ]
  },
  {
   "cell_type": "code",
   "execution_count": 755,
   "id": "cdb18c03",
   "metadata": {},
   "outputs": [
    {
     "data": {
      "text/html": [
       "<div>\n",
       "<style scoped>\n",
       "    .dataframe tbody tr th:only-of-type {\n",
       "        vertical-align: middle;\n",
       "    }\n",
       "\n",
       "    .dataframe tbody tr th {\n",
       "        vertical-align: top;\n",
       "    }\n",
       "\n",
       "    .dataframe thead th {\n",
       "        text-align: right;\n",
       "    }\n",
       "</style>\n",
       "<table border=\"1\" class=\"dataframe\">\n",
       "  <thead>\n",
       "    <tr style=\"text-align: right;\">\n",
       "      <th></th>\n",
       "      <th>Aggregate rating</th>\n",
       "    </tr>\n",
       "    <tr>\n",
       "      <th>City</th>\n",
       "      <th></th>\n",
       "    </tr>\n",
       "  </thead>\n",
       "  <tbody>\n",
       "    <tr>\n",
       "      <th>Abu Dhabi</th>\n",
       "      <td>4.300000</td>\n",
       "    </tr>\n",
       "    <tr>\n",
       "      <th>Agra</th>\n",
       "      <td>3.965000</td>\n",
       "    </tr>\n",
       "    <tr>\n",
       "      <th>Ahmedabad</th>\n",
       "      <td>4.161905</td>\n",
       "    </tr>\n",
       "    <tr>\n",
       "      <th>Albany</th>\n",
       "      <td>3.555000</td>\n",
       "    </tr>\n",
       "    <tr>\n",
       "      <th>Allahabad</th>\n",
       "      <td>3.395000</td>\n",
       "    </tr>\n",
       "    <tr>\n",
       "      <th>...</th>\n",
       "      <td>...</td>\n",
       "    </tr>\n",
       "    <tr>\n",
       "      <th>Weirton</th>\n",
       "      <td>3.900000</td>\n",
       "    </tr>\n",
       "    <tr>\n",
       "      <th>Wellington City</th>\n",
       "      <td>4.250000</td>\n",
       "    </tr>\n",
       "    <tr>\n",
       "      <th>Winchester Bay</th>\n",
       "      <td>3.200000</td>\n",
       "    </tr>\n",
       "    <tr>\n",
       "      <th>Yorkton</th>\n",
       "      <td>3.300000</td>\n",
       "    </tr>\n",
       "    <tr>\n",
       "      <th>stanbul</th>\n",
       "      <td>4.292857</td>\n",
       "    </tr>\n",
       "  </tbody>\n",
       "</table>\n",
       "<p>141 rows × 1 columns</p>\n",
       "</div>"
      ],
      "text/plain": [
       "                 Aggregate rating\n",
       "City                             \n",
       "Abu Dhabi                4.300000\n",
       "Agra                     3.965000\n",
       "Ahmedabad                4.161905\n",
       "Albany                   3.555000\n",
       "Allahabad                3.395000\n",
       "...                           ...\n",
       "Weirton                  3.900000\n",
       "Wellington City          4.250000\n",
       "Winchester Bay           3.200000\n",
       "Yorkton                  3.300000\n",
       "stanbul                  4.292857\n",
       "\n",
       "[141 rows x 1 columns]"
      ]
     },
     "execution_count": 755,
     "metadata": {},
     "output_type": "execute_result"
    }
   ],
   "source": [
    "city_wise_mean_rating = pd.DataFrame(df.groupby('City')['Aggregate rating'].mean())\n",
    "city_wise_mean_rating"
   ]
  },
  {
   "cell_type": "code",
   "execution_count": 756,
   "id": "d685fa29",
   "metadata": {},
   "outputs": [
    {
     "data": {
      "application/vnd.plotly.v1+json": {
       "config": {
        "plotlyServerURL": "https://plot.ly"
       },
       "data": [
        {
         "hovertemplate": "variable=Aggregate rating<br>City=%{x}<br>value=%{y}<extra></extra>",
         "legendgroup": "Aggregate rating",
         "line": {
          "color": "#636efa",
          "dash": "solid"
         },
         "marker": {
          "symbol": "circle"
         },
         "mode": "lines",
         "name": "Aggregate rating",
         "orientation": "v",
         "showlegend": true,
         "type": "scatter",
         "x": [
          "Abu Dhabi",
          "Agra",
          "Ahmedabad",
          "Albany",
          "Allahabad",
          "Amritsar",
          "Ankara",
          "Armidale",
          "Athens",
          "Auckland",
          "Augusta",
          "Aurangabad",
          "Balingup",
          "Bandung",
          "Bangalore",
          "Beechworth",
          "Bhopal",
          "Bhubaneshwar",
          "Birmingham",
          "Bogor",
          "Boise",
          "Bras_lia",
          "Cape Town",
          "Cedar Rapids/Iowa City",
          "Chandigarh",
          "Chatham-Kent",
          "Chennai",
          "Clatskanie",
          "Cochrane",
          "Coimbatore",
          "Colombo",
          "Columbus",
          "Consort",
          "Dalton",
          "Davenport",
          "Dehradun",
          "Des Moines",
          "Dicky Beach",
          "Doha",
          "Dubai",
          "Dubuque",
          "East Ballina",
          "Edinburgh",
          "Faridabad",
          "Fernley",
          "Flaxton",
          "Forrest",
          "Gainesville",
          "Ghaziabad",
          "Goa",
          "Gurgaon",
          "Guwahati",
          "Hepburn Springs",
          "Huskisson",
          "Hyderabad",
          "Indore",
          "Inner City",
          "Inverloch",
          "Jaipur",
          "Jakarta",
          "Johannesburg",
          "Kanpur",
          "Kochi",
          "Kolkata",
          "Lakes Entrance",
          "Lakeview",
          "Lincoln",
          "London",
          "Lorn",
          "Lucknow",
          "Ludhiana",
          "Macedon",
          "Macon",
          "Makati City",
          "Manchester",
          "Mandaluyong City",
          "Mangalore",
          "Mayfield",
          "Mc Millan",
          "Middleton Beach",
          "Miller",
          "Mohali",
          "Monroe",
          "Montville",
          "Mumbai",
          "Mysore",
          "Nagpur",
          "Nashik",
          "New Delhi",
          "Noida",
          "Ojo Caliente",
          "Orlando",
          "Palm Cove",
          "Panchkula",
          "Pasay City",
          "Pasig City",
          "Patna",
          "Paynesville",
          "Penola",
          "Pensacola",
          "Phillip Island",
          "Pocatello",
          "Potrero",
          "Pretoria",
          "Princeton",
          "Puducherry",
          "Pune",
          "Quezon City",
          "Ranchi",
          "Randburg",
          "Rest of Hawaii",
          "Rio de Janeiro",
          "San Juan City",
          "Sandton",
          "Santa Rosa",
          "Savannah",
          "Secunderabad",
          "Sharjah",
          "Singapore",
          "Sioux City",
          "So Paulo",
          "Surat",
          "Tagaytay City",
          "Taguig City",
          "Tampa Bay",
          "Tangerang",
          "Tanunda",
          "Trentham East",
          "Vadodara",
          "Valdosta",
          "Varanasi",
          "Vernonia",
          "Victor Harbor",
          "Vineland Station",
          "Vizag",
          "Waterloo",
          "Weirton",
          "Wellington City",
          "Winchester Bay",
          "Yorkton",
          "stanbul"
         ],
         "xaxis": "x",
         "y": [
          4.3,
          3.965,
          4.161904761904762,
          3.5549999999999997,
          3.3950000000000005,
          3.6857142857142855,
          4.305,
          3.5,
          4.2,
          4.275,
          4.13,
          3.375,
          3.2,
          4.2,
          4.375,
          4.6,
          3.95,
          3.9809523809523806,
          3.6799999999999997,
          3.85,
          4.26,
          3.495,
          4.11,
          4.165,
          4.050000000000001,
          3.7,
          4.3149999999999995,
          4.3,
          3.1,
          4.135,
          3.87,
          4.029999999999999,
          3,
          4.11,
          3.715,
          4.05,
          4.235,
          3.6,
          4.0600000000000005,
          4.37,
          3.535,
          4.1,
          4.09,
          1.8669322709163347,
          3.7,
          3.5,
          3.7,
          4.035,
          2.852,
          4.245,
          2.6514311270125224,
          4.190476190476191,
          3.8,
          4.1,
          4.344444444444445,
          3.97,
          4.9,
          3.7,
          4.13,
          4.35625,
          4.2,
          3.815,
          4.08,
          4.255,
          3.8,
          3.6,
          4.5,
          4.535,
          3.6,
          4.1952380952380945,
          3.9799999999999995,
          3.5,
          4.115,
          4.65,
          4.045,
          4.625,
          3.745,
          2.9,
          2.4,
          3.8,
          3.4,
          4.3,
          3.6,
          2.4,
          4.085,
          3.6950000000000003,
          3.965,
          3.5200000000000005,
          2.4388452402704184,
          2.0362037037037037,
          3.6,
          4.475,
          4.4,
          4.2,
          4.366666666666667,
          4.633333333333334,
          3.4549999999999996,
          2.6,
          3.4,
          4.2,
          3.7,
          3.4850000000000003,
          3.3,
          4.1899999999999995,
          4,
          3.7299999999999995,
          4.220000000000001,
          4.8,
          3.4549999999999996,
          4.3,
          4.41,
          4.265,
          4.25,
          4.3,
          3.8,
          4.154999999999999,
          4.5,
          4.029999999999999,
          3.575,
          3.7649999999999997,
          3.53,
          3.935,
          4.5,
          4.525,
          4.41,
          4.300000000000001,
          4.4,
          4.1,
          4.025,
          3.715,
          3.5100000000000002,
          4.3,
          3.6,
          4.3,
          4.005,
          3.65,
          3.9,
          4.25,
          3.2,
          3.3,
          4.292857142857143
         ],
         "yaxis": "y"
        }
       ],
       "layout": {
        "legend": {
         "title": {
          "text": "variable"
         },
         "tracegroupgap": 0
        },
        "margin": {
         "t": 60
        },
        "template": {
         "data": {
          "bar": [
           {
            "error_x": {
             "color": "#2a3f5f"
            },
            "error_y": {
             "color": "#2a3f5f"
            },
            "marker": {
             "line": {
              "color": "#E5ECF6",
              "width": 0.5
             },
             "pattern": {
              "fillmode": "overlay",
              "size": 10,
              "solidity": 0.2
             }
            },
            "type": "bar"
           }
          ],
          "barpolar": [
           {
            "marker": {
             "line": {
              "color": "#E5ECF6",
              "width": 0.5
             },
             "pattern": {
              "fillmode": "overlay",
              "size": 10,
              "solidity": 0.2
             }
            },
            "type": "barpolar"
           }
          ],
          "carpet": [
           {
            "aaxis": {
             "endlinecolor": "#2a3f5f",
             "gridcolor": "white",
             "linecolor": "white",
             "minorgridcolor": "white",
             "startlinecolor": "#2a3f5f"
            },
            "baxis": {
             "endlinecolor": "#2a3f5f",
             "gridcolor": "white",
             "linecolor": "white",
             "minorgridcolor": "white",
             "startlinecolor": "#2a3f5f"
            },
            "type": "carpet"
           }
          ],
          "choropleth": [
           {
            "colorbar": {
             "outlinewidth": 0,
             "ticks": ""
            },
            "type": "choropleth"
           }
          ],
          "contour": [
           {
            "colorbar": {
             "outlinewidth": 0,
             "ticks": ""
            },
            "colorscale": [
             [
              0,
              "#0d0887"
             ],
             [
              0.1111111111111111,
              "#46039f"
             ],
             [
              0.2222222222222222,
              "#7201a8"
             ],
             [
              0.3333333333333333,
              "#9c179e"
             ],
             [
              0.4444444444444444,
              "#bd3786"
             ],
             [
              0.5555555555555556,
              "#d8576b"
             ],
             [
              0.6666666666666666,
              "#ed7953"
             ],
             [
              0.7777777777777778,
              "#fb9f3a"
             ],
             [
              0.8888888888888888,
              "#fdca26"
             ],
             [
              1,
              "#f0f921"
             ]
            ],
            "type": "contour"
           }
          ],
          "contourcarpet": [
           {
            "colorbar": {
             "outlinewidth": 0,
             "ticks": ""
            },
            "type": "contourcarpet"
           }
          ],
          "heatmap": [
           {
            "colorbar": {
             "outlinewidth": 0,
             "ticks": ""
            },
            "colorscale": [
             [
              0,
              "#0d0887"
             ],
             [
              0.1111111111111111,
              "#46039f"
             ],
             [
              0.2222222222222222,
              "#7201a8"
             ],
             [
              0.3333333333333333,
              "#9c179e"
             ],
             [
              0.4444444444444444,
              "#bd3786"
             ],
             [
              0.5555555555555556,
              "#d8576b"
             ],
             [
              0.6666666666666666,
              "#ed7953"
             ],
             [
              0.7777777777777778,
              "#fb9f3a"
             ],
             [
              0.8888888888888888,
              "#fdca26"
             ],
             [
              1,
              "#f0f921"
             ]
            ],
            "type": "heatmap"
           }
          ],
          "heatmapgl": [
           {
            "colorbar": {
             "outlinewidth": 0,
             "ticks": ""
            },
            "colorscale": [
             [
              0,
              "#0d0887"
             ],
             [
              0.1111111111111111,
              "#46039f"
             ],
             [
              0.2222222222222222,
              "#7201a8"
             ],
             [
              0.3333333333333333,
              "#9c179e"
             ],
             [
              0.4444444444444444,
              "#bd3786"
             ],
             [
              0.5555555555555556,
              "#d8576b"
             ],
             [
              0.6666666666666666,
              "#ed7953"
             ],
             [
              0.7777777777777778,
              "#fb9f3a"
             ],
             [
              0.8888888888888888,
              "#fdca26"
             ],
             [
              1,
              "#f0f921"
             ]
            ],
            "type": "heatmapgl"
           }
          ],
          "histogram": [
           {
            "marker": {
             "pattern": {
              "fillmode": "overlay",
              "size": 10,
              "solidity": 0.2
             }
            },
            "type": "histogram"
           }
          ],
          "histogram2d": [
           {
            "colorbar": {
             "outlinewidth": 0,
             "ticks": ""
            },
            "colorscale": [
             [
              0,
              "#0d0887"
             ],
             [
              0.1111111111111111,
              "#46039f"
             ],
             [
              0.2222222222222222,
              "#7201a8"
             ],
             [
              0.3333333333333333,
              "#9c179e"
             ],
             [
              0.4444444444444444,
              "#bd3786"
             ],
             [
              0.5555555555555556,
              "#d8576b"
             ],
             [
              0.6666666666666666,
              "#ed7953"
             ],
             [
              0.7777777777777778,
              "#fb9f3a"
             ],
             [
              0.8888888888888888,
              "#fdca26"
             ],
             [
              1,
              "#f0f921"
             ]
            ],
            "type": "histogram2d"
           }
          ],
          "histogram2dcontour": [
           {
            "colorbar": {
             "outlinewidth": 0,
             "ticks": ""
            },
            "colorscale": [
             [
              0,
              "#0d0887"
             ],
             [
              0.1111111111111111,
              "#46039f"
             ],
             [
              0.2222222222222222,
              "#7201a8"
             ],
             [
              0.3333333333333333,
              "#9c179e"
             ],
             [
              0.4444444444444444,
              "#bd3786"
             ],
             [
              0.5555555555555556,
              "#d8576b"
             ],
             [
              0.6666666666666666,
              "#ed7953"
             ],
             [
              0.7777777777777778,
              "#fb9f3a"
             ],
             [
              0.8888888888888888,
              "#fdca26"
             ],
             [
              1,
              "#f0f921"
             ]
            ],
            "type": "histogram2dcontour"
           }
          ],
          "mesh3d": [
           {
            "colorbar": {
             "outlinewidth": 0,
             "ticks": ""
            },
            "type": "mesh3d"
           }
          ],
          "parcoords": [
           {
            "line": {
             "colorbar": {
              "outlinewidth": 0,
              "ticks": ""
             }
            },
            "type": "parcoords"
           }
          ],
          "pie": [
           {
            "automargin": true,
            "type": "pie"
           }
          ],
          "scatter": [
           {
            "fillpattern": {
             "fillmode": "overlay",
             "size": 10,
             "solidity": 0.2
            },
            "type": "scatter"
           }
          ],
          "scatter3d": [
           {
            "line": {
             "colorbar": {
              "outlinewidth": 0,
              "ticks": ""
             }
            },
            "marker": {
             "colorbar": {
              "outlinewidth": 0,
              "ticks": ""
             }
            },
            "type": "scatter3d"
           }
          ],
          "scattercarpet": [
           {
            "marker": {
             "colorbar": {
              "outlinewidth": 0,
              "ticks": ""
             }
            },
            "type": "scattercarpet"
           }
          ],
          "scattergeo": [
           {
            "marker": {
             "colorbar": {
              "outlinewidth": 0,
              "ticks": ""
             }
            },
            "type": "scattergeo"
           }
          ],
          "scattergl": [
           {
            "marker": {
             "colorbar": {
              "outlinewidth": 0,
              "ticks": ""
             }
            },
            "type": "scattergl"
           }
          ],
          "scattermapbox": [
           {
            "marker": {
             "colorbar": {
              "outlinewidth": 0,
              "ticks": ""
             }
            },
            "type": "scattermapbox"
           }
          ],
          "scatterpolar": [
           {
            "marker": {
             "colorbar": {
              "outlinewidth": 0,
              "ticks": ""
             }
            },
            "type": "scatterpolar"
           }
          ],
          "scatterpolargl": [
           {
            "marker": {
             "colorbar": {
              "outlinewidth": 0,
              "ticks": ""
             }
            },
            "type": "scatterpolargl"
           }
          ],
          "scatterternary": [
           {
            "marker": {
             "colorbar": {
              "outlinewidth": 0,
              "ticks": ""
             }
            },
            "type": "scatterternary"
           }
          ],
          "surface": [
           {
            "colorbar": {
             "outlinewidth": 0,
             "ticks": ""
            },
            "colorscale": [
             [
              0,
              "#0d0887"
             ],
             [
              0.1111111111111111,
              "#46039f"
             ],
             [
              0.2222222222222222,
              "#7201a8"
             ],
             [
              0.3333333333333333,
              "#9c179e"
             ],
             [
              0.4444444444444444,
              "#bd3786"
             ],
             [
              0.5555555555555556,
              "#d8576b"
             ],
             [
              0.6666666666666666,
              "#ed7953"
             ],
             [
              0.7777777777777778,
              "#fb9f3a"
             ],
             [
              0.8888888888888888,
              "#fdca26"
             ],
             [
              1,
              "#f0f921"
             ]
            ],
            "type": "surface"
           }
          ],
          "table": [
           {
            "cells": {
             "fill": {
              "color": "#EBF0F8"
             },
             "line": {
              "color": "white"
             }
            },
            "header": {
             "fill": {
              "color": "#C8D4E3"
             },
             "line": {
              "color": "white"
             }
            },
            "type": "table"
           }
          ]
         },
         "layout": {
          "annotationdefaults": {
           "arrowcolor": "#2a3f5f",
           "arrowhead": 0,
           "arrowwidth": 1
          },
          "autotypenumbers": "strict",
          "coloraxis": {
           "colorbar": {
            "outlinewidth": 0,
            "ticks": ""
           }
          },
          "colorscale": {
           "diverging": [
            [
             0,
             "#8e0152"
            ],
            [
             0.1,
             "#c51b7d"
            ],
            [
             0.2,
             "#de77ae"
            ],
            [
             0.3,
             "#f1b6da"
            ],
            [
             0.4,
             "#fde0ef"
            ],
            [
             0.5,
             "#f7f7f7"
            ],
            [
             0.6,
             "#e6f5d0"
            ],
            [
             0.7,
             "#b8e186"
            ],
            [
             0.8,
             "#7fbc41"
            ],
            [
             0.9,
             "#4d9221"
            ],
            [
             1,
             "#276419"
            ]
           ],
           "sequential": [
            [
             0,
             "#0d0887"
            ],
            [
             0.1111111111111111,
             "#46039f"
            ],
            [
             0.2222222222222222,
             "#7201a8"
            ],
            [
             0.3333333333333333,
             "#9c179e"
            ],
            [
             0.4444444444444444,
             "#bd3786"
            ],
            [
             0.5555555555555556,
             "#d8576b"
            ],
            [
             0.6666666666666666,
             "#ed7953"
            ],
            [
             0.7777777777777778,
             "#fb9f3a"
            ],
            [
             0.8888888888888888,
             "#fdca26"
            ],
            [
             1,
             "#f0f921"
            ]
           ],
           "sequentialminus": [
            [
             0,
             "#0d0887"
            ],
            [
             0.1111111111111111,
             "#46039f"
            ],
            [
             0.2222222222222222,
             "#7201a8"
            ],
            [
             0.3333333333333333,
             "#9c179e"
            ],
            [
             0.4444444444444444,
             "#bd3786"
            ],
            [
             0.5555555555555556,
             "#d8576b"
            ],
            [
             0.6666666666666666,
             "#ed7953"
            ],
            [
             0.7777777777777778,
             "#fb9f3a"
            ],
            [
             0.8888888888888888,
             "#fdca26"
            ],
            [
             1,
             "#f0f921"
            ]
           ]
          },
          "colorway": [
           "#636efa",
           "#EF553B",
           "#00cc96",
           "#ab63fa",
           "#FFA15A",
           "#19d3f3",
           "#FF6692",
           "#B6E880",
           "#FF97FF",
           "#FECB52"
          ],
          "font": {
           "color": "#2a3f5f"
          },
          "geo": {
           "bgcolor": "white",
           "lakecolor": "white",
           "landcolor": "#E5ECF6",
           "showlakes": true,
           "showland": true,
           "subunitcolor": "white"
          },
          "hoverlabel": {
           "align": "left"
          },
          "hovermode": "closest",
          "mapbox": {
           "style": "light"
          },
          "paper_bgcolor": "white",
          "plot_bgcolor": "#E5ECF6",
          "polar": {
           "angularaxis": {
            "gridcolor": "white",
            "linecolor": "white",
            "ticks": ""
           },
           "bgcolor": "#E5ECF6",
           "radialaxis": {
            "gridcolor": "white",
            "linecolor": "white",
            "ticks": ""
           }
          },
          "scene": {
           "xaxis": {
            "backgroundcolor": "#E5ECF6",
            "gridcolor": "white",
            "gridwidth": 2,
            "linecolor": "white",
            "showbackground": true,
            "ticks": "",
            "zerolinecolor": "white"
           },
           "yaxis": {
            "backgroundcolor": "#E5ECF6",
            "gridcolor": "white",
            "gridwidth": 2,
            "linecolor": "white",
            "showbackground": true,
            "ticks": "",
            "zerolinecolor": "white"
           },
           "zaxis": {
            "backgroundcolor": "#E5ECF6",
            "gridcolor": "white",
            "gridwidth": 2,
            "linecolor": "white",
            "showbackground": true,
            "ticks": "",
            "zerolinecolor": "white"
           }
          },
          "shapedefaults": {
           "line": {
            "color": "#2a3f5f"
           }
          },
          "ternary": {
           "aaxis": {
            "gridcolor": "white",
            "linecolor": "white",
            "ticks": ""
           },
           "baxis": {
            "gridcolor": "white",
            "linecolor": "white",
            "ticks": ""
           },
           "bgcolor": "#E5ECF6",
           "caxis": {
            "gridcolor": "white",
            "linecolor": "white",
            "ticks": ""
           }
          },
          "title": {
           "x": 0.05
          },
          "xaxis": {
           "automargin": true,
           "gridcolor": "white",
           "linecolor": "white",
           "ticks": "",
           "title": {
            "standoff": 15
           },
           "zerolinecolor": "white",
           "zerolinewidth": 2
          },
          "yaxis": {
           "automargin": true,
           "gridcolor": "white",
           "linecolor": "white",
           "ticks": "",
           "title": {
            "standoff": 15
           },
           "zerolinecolor": "white",
           "zerolinewidth": 2
          }
         }
        },
        "xaxis": {
         "anchor": "y",
         "domain": [
          0,
          1
         ],
         "title": {
          "text": "City"
         }
        },
        "yaxis": {
         "anchor": "x",
         "domain": [
          0,
          1
         ],
         "title": {
          "text": "value"
         }
        }
       }
      },
      "text/html": [
       "<div>                            <div id=\"99c6b752-a373-43af-8ce3-020d4dc3a530\" class=\"plotly-graph-div\" style=\"height:525px; width:100%;\"></div>            <script type=\"text/javascript\">                require([\"plotly\"], function(Plotly) {                    window.PLOTLYENV=window.PLOTLYENV || {};                                    if (document.getElementById(\"99c6b752-a373-43af-8ce3-020d4dc3a530\")) {                    Plotly.newPlot(                        \"99c6b752-a373-43af-8ce3-020d4dc3a530\",                        [{\"hovertemplate\":\"variable=Aggregate rating\\u003cbr\\u003eCity=%{x}\\u003cbr\\u003evalue=%{y}\\u003cextra\\u003e\\u003c\\u002fextra\\u003e\",\"legendgroup\":\"Aggregate rating\",\"line\":{\"color\":\"#636efa\",\"dash\":\"solid\"},\"marker\":{\"symbol\":\"circle\"},\"mode\":\"lines\",\"name\":\"Aggregate rating\",\"orientation\":\"v\",\"showlegend\":true,\"x\":[\"Abu Dhabi\",\"Agra\",\"Ahmedabad\",\"Albany\",\"Allahabad\",\"Amritsar\",\"Ankara\",\"Armidale\",\"Athens\",\"Auckland\",\"Augusta\",\"Aurangabad\",\"Balingup\",\"Bandung\",\"Bangalore\",\"Beechworth\",\"Bhopal\",\"Bhubaneshwar\",\"Birmingham\",\"Bogor\",\"Boise\",\"Bras_lia\",\"Cape Town\",\"Cedar Rapids\\u002fIowa City\",\"Chandigarh\",\"Chatham-Kent\",\"Chennai\",\"Clatskanie\",\"Cochrane\",\"Coimbatore\",\"Colombo\",\"Columbus\",\"Consort\",\"Dalton\",\"Davenport\",\"Dehradun\",\"Des Moines\",\"Dicky Beach\",\"Doha\",\"Dubai\",\"Dubuque\",\"East Ballina\",\"Edinburgh\",\"Faridabad\",\"Fernley\",\"Flaxton\",\"Forrest\",\"Gainesville\",\"Ghaziabad\",\"Goa\",\"Gurgaon\",\"Guwahati\",\"Hepburn Springs\",\"Huskisson\",\"Hyderabad\",\"Indore\",\"Inner City\",\"Inverloch\",\"Jaipur\",\"Jakarta\",\"Johannesburg\",\"Kanpur\",\"Kochi\",\"Kolkata\",\"Lakes Entrance\",\"Lakeview\",\"Lincoln\",\"London\",\"Lorn\",\"Lucknow\",\"Ludhiana\",\"Macedon\",\"Macon\",\"Makati City\",\"Manchester\",\"Mandaluyong City\",\"Mangalore\",\"Mayfield\",\"Mc Millan\",\"Middleton Beach\",\"Miller\",\"Mohali\",\"Monroe\",\"Montville\",\"Mumbai\",\"Mysore\",\"Nagpur\",\"Nashik\",\"New Delhi\",\"Noida\",\"Ojo Caliente\",\"Orlando\",\"Palm Cove\",\"Panchkula\",\"Pasay City\",\"Pasig City\",\"Patna\",\"Paynesville\",\"Penola\",\"Pensacola\",\"Phillip Island\",\"Pocatello\",\"Potrero\",\"Pretoria\",\"Princeton\",\"Puducherry\",\"Pune\",\"Quezon City\",\"Ranchi\",\"Randburg\",\"Rest of Hawaii\",\"Rio de Janeiro\",\"San Juan City\",\"Sandton\",\"Santa Rosa\",\"Savannah\",\"Secunderabad\",\"Sharjah\",\"Singapore\",\"Sioux City\",\"So Paulo\",\"Surat\",\"Tagaytay City\",\"Taguig City\",\"Tampa Bay\",\"Tangerang\",\"Tanunda\",\"Trentham East\",\"Vadodara\",\"Valdosta\",\"Varanasi\",\"Vernonia\",\"Victor Harbor\",\"Vineland Station\",\"Vizag\",\"Waterloo\",\"Weirton\",\"Wellington City\",\"Winchester Bay\",\"Yorkton\",\"stanbul\"],\"xaxis\":\"x\",\"y\":[4.3,3.965,4.161904761904762,3.5549999999999997,3.3950000000000005,3.6857142857142855,4.305,3.5,4.2,4.275,4.13,3.375,3.2,4.2,4.375,4.6,3.95,3.9809523809523806,3.6799999999999997,3.85,4.26,3.495,4.11,4.165,4.050000000000001,3.7,4.3149999999999995,4.3,3.1,4.135,3.87,4.029999999999999,3.0,4.11,3.715,4.05,4.235,3.6,4.0600000000000005,4.37,3.535,4.1,4.09,1.8669322709163347,3.7,3.5,3.7,4.035,2.852,4.245,2.6514311270125224,4.190476190476191,3.8,4.1,4.344444444444445,3.97,4.9,3.7,4.13,4.35625,4.2,3.815,4.08,4.255,3.8,3.6,4.5,4.535,3.6,4.1952380952380945,3.9799999999999995,3.5,4.115,4.65,4.045,4.625,3.745,2.9,2.4,3.8,3.4,4.3,3.6,2.4,4.085,3.6950000000000003,3.965,3.5200000000000005,2.4388452402704184,2.0362037037037037,3.6,4.475,4.4,4.2,4.366666666666667,4.633333333333334,3.4549999999999996,2.6,3.4,4.2,3.7,3.4850000000000003,3.3,4.1899999999999995,4.0,3.7299999999999995,4.220000000000001,4.8,3.4549999999999996,4.3,4.41,4.265,4.25,4.3,3.8,4.154999999999999,4.5,4.029999999999999,3.575,3.7649999999999997,3.53,3.935,4.5,4.525,4.41,4.300000000000001,4.4,4.1,4.025,3.715,3.5100000000000002,4.3,3.6,4.3,4.005,3.65,3.9,4.25,3.2,3.3,4.292857142857143],\"yaxis\":\"y\",\"type\":\"scatter\"}],                        {\"template\":{\"data\":{\"histogram2dcontour\":[{\"type\":\"histogram2dcontour\",\"colorbar\":{\"outlinewidth\":0,\"ticks\":\"\"},\"colorscale\":[[0.0,\"#0d0887\"],[0.1111111111111111,\"#46039f\"],[0.2222222222222222,\"#7201a8\"],[0.3333333333333333,\"#9c179e\"],[0.4444444444444444,\"#bd3786\"],[0.5555555555555556,\"#d8576b\"],[0.6666666666666666,\"#ed7953\"],[0.7777777777777778,\"#fb9f3a\"],[0.8888888888888888,\"#fdca26\"],[1.0,\"#f0f921\"]]}],\"choropleth\":[{\"type\":\"choropleth\",\"colorbar\":{\"outlinewidth\":0,\"ticks\":\"\"}}],\"histogram2d\":[{\"type\":\"histogram2d\",\"colorbar\":{\"outlinewidth\":0,\"ticks\":\"\"},\"colorscale\":[[0.0,\"#0d0887\"],[0.1111111111111111,\"#46039f\"],[0.2222222222222222,\"#7201a8\"],[0.3333333333333333,\"#9c179e\"],[0.4444444444444444,\"#bd3786\"],[0.5555555555555556,\"#d8576b\"],[0.6666666666666666,\"#ed7953\"],[0.7777777777777778,\"#fb9f3a\"],[0.8888888888888888,\"#fdca26\"],[1.0,\"#f0f921\"]]}],\"heatmap\":[{\"type\":\"heatmap\",\"colorbar\":{\"outlinewidth\":0,\"ticks\":\"\"},\"colorscale\":[[0.0,\"#0d0887\"],[0.1111111111111111,\"#46039f\"],[0.2222222222222222,\"#7201a8\"],[0.3333333333333333,\"#9c179e\"],[0.4444444444444444,\"#bd3786\"],[0.5555555555555556,\"#d8576b\"],[0.6666666666666666,\"#ed7953\"],[0.7777777777777778,\"#fb9f3a\"],[0.8888888888888888,\"#fdca26\"],[1.0,\"#f0f921\"]]}],\"heatmapgl\":[{\"type\":\"heatmapgl\",\"colorbar\":{\"outlinewidth\":0,\"ticks\":\"\"},\"colorscale\":[[0.0,\"#0d0887\"],[0.1111111111111111,\"#46039f\"],[0.2222222222222222,\"#7201a8\"],[0.3333333333333333,\"#9c179e\"],[0.4444444444444444,\"#bd3786\"],[0.5555555555555556,\"#d8576b\"],[0.6666666666666666,\"#ed7953\"],[0.7777777777777778,\"#fb9f3a\"],[0.8888888888888888,\"#fdca26\"],[1.0,\"#f0f921\"]]}],\"contourcarpet\":[{\"type\":\"contourcarpet\",\"colorbar\":{\"outlinewidth\":0,\"ticks\":\"\"}}],\"contour\":[{\"type\":\"contour\",\"colorbar\":{\"outlinewidth\":0,\"ticks\":\"\"},\"colorscale\":[[0.0,\"#0d0887\"],[0.1111111111111111,\"#46039f\"],[0.2222222222222222,\"#7201a8\"],[0.3333333333333333,\"#9c179e\"],[0.4444444444444444,\"#bd3786\"],[0.5555555555555556,\"#d8576b\"],[0.6666666666666666,\"#ed7953\"],[0.7777777777777778,\"#fb9f3a\"],[0.8888888888888888,\"#fdca26\"],[1.0,\"#f0f921\"]]}],\"surface\":[{\"type\":\"surface\",\"colorbar\":{\"outlinewidth\":0,\"ticks\":\"\"},\"colorscale\":[[0.0,\"#0d0887\"],[0.1111111111111111,\"#46039f\"],[0.2222222222222222,\"#7201a8\"],[0.3333333333333333,\"#9c179e\"],[0.4444444444444444,\"#bd3786\"],[0.5555555555555556,\"#d8576b\"],[0.6666666666666666,\"#ed7953\"],[0.7777777777777778,\"#fb9f3a\"],[0.8888888888888888,\"#fdca26\"],[1.0,\"#f0f921\"]]}],\"mesh3d\":[{\"type\":\"mesh3d\",\"colorbar\":{\"outlinewidth\":0,\"ticks\":\"\"}}],\"scatter\":[{\"fillpattern\":{\"fillmode\":\"overlay\",\"size\":10,\"solidity\":0.2},\"type\":\"scatter\"}],\"parcoords\":[{\"type\":\"parcoords\",\"line\":{\"colorbar\":{\"outlinewidth\":0,\"ticks\":\"\"}}}],\"scatterpolargl\":[{\"type\":\"scatterpolargl\",\"marker\":{\"colorbar\":{\"outlinewidth\":0,\"ticks\":\"\"}}}],\"bar\":[{\"error_x\":{\"color\":\"#2a3f5f\"},\"error_y\":{\"color\":\"#2a3f5f\"},\"marker\":{\"line\":{\"color\":\"#E5ECF6\",\"width\":0.5},\"pattern\":{\"fillmode\":\"overlay\",\"size\":10,\"solidity\":0.2}},\"type\":\"bar\"}],\"scattergeo\":[{\"type\":\"scattergeo\",\"marker\":{\"colorbar\":{\"outlinewidth\":0,\"ticks\":\"\"}}}],\"scatterpolar\":[{\"type\":\"scatterpolar\",\"marker\":{\"colorbar\":{\"outlinewidth\":0,\"ticks\":\"\"}}}],\"histogram\":[{\"marker\":{\"pattern\":{\"fillmode\":\"overlay\",\"size\":10,\"solidity\":0.2}},\"type\":\"histogram\"}],\"scattergl\":[{\"type\":\"scattergl\",\"marker\":{\"colorbar\":{\"outlinewidth\":0,\"ticks\":\"\"}}}],\"scatter3d\":[{\"type\":\"scatter3d\",\"line\":{\"colorbar\":{\"outlinewidth\":0,\"ticks\":\"\"}},\"marker\":{\"colorbar\":{\"outlinewidth\":0,\"ticks\":\"\"}}}],\"scattermapbox\":[{\"type\":\"scattermapbox\",\"marker\":{\"colorbar\":{\"outlinewidth\":0,\"ticks\":\"\"}}}],\"scatterternary\":[{\"type\":\"scatterternary\",\"marker\":{\"colorbar\":{\"outlinewidth\":0,\"ticks\":\"\"}}}],\"scattercarpet\":[{\"type\":\"scattercarpet\",\"marker\":{\"colorbar\":{\"outlinewidth\":0,\"ticks\":\"\"}}}],\"carpet\":[{\"aaxis\":{\"endlinecolor\":\"#2a3f5f\",\"gridcolor\":\"white\",\"linecolor\":\"white\",\"minorgridcolor\":\"white\",\"startlinecolor\":\"#2a3f5f\"},\"baxis\":{\"endlinecolor\":\"#2a3f5f\",\"gridcolor\":\"white\",\"linecolor\":\"white\",\"minorgridcolor\":\"white\",\"startlinecolor\":\"#2a3f5f\"},\"type\":\"carpet\"}],\"table\":[{\"cells\":{\"fill\":{\"color\":\"#EBF0F8\"},\"line\":{\"color\":\"white\"}},\"header\":{\"fill\":{\"color\":\"#C8D4E3\"},\"line\":{\"color\":\"white\"}},\"type\":\"table\"}],\"barpolar\":[{\"marker\":{\"line\":{\"color\":\"#E5ECF6\",\"width\":0.5},\"pattern\":{\"fillmode\":\"overlay\",\"size\":10,\"solidity\":0.2}},\"type\":\"barpolar\"}],\"pie\":[{\"automargin\":true,\"type\":\"pie\"}]},\"layout\":{\"autotypenumbers\":\"strict\",\"colorway\":[\"#636efa\",\"#EF553B\",\"#00cc96\",\"#ab63fa\",\"#FFA15A\",\"#19d3f3\",\"#FF6692\",\"#B6E880\",\"#FF97FF\",\"#FECB52\"],\"font\":{\"color\":\"#2a3f5f\"},\"hovermode\":\"closest\",\"hoverlabel\":{\"align\":\"left\"},\"paper_bgcolor\":\"white\",\"plot_bgcolor\":\"#E5ECF6\",\"polar\":{\"bgcolor\":\"#E5ECF6\",\"angularaxis\":{\"gridcolor\":\"white\",\"linecolor\":\"white\",\"ticks\":\"\"},\"radialaxis\":{\"gridcolor\":\"white\",\"linecolor\":\"white\",\"ticks\":\"\"}},\"ternary\":{\"bgcolor\":\"#E5ECF6\",\"aaxis\":{\"gridcolor\":\"white\",\"linecolor\":\"white\",\"ticks\":\"\"},\"baxis\":{\"gridcolor\":\"white\",\"linecolor\":\"white\",\"ticks\":\"\"},\"caxis\":{\"gridcolor\":\"white\",\"linecolor\":\"white\",\"ticks\":\"\"}},\"coloraxis\":{\"colorbar\":{\"outlinewidth\":0,\"ticks\":\"\"}},\"colorscale\":{\"sequential\":[[0.0,\"#0d0887\"],[0.1111111111111111,\"#46039f\"],[0.2222222222222222,\"#7201a8\"],[0.3333333333333333,\"#9c179e\"],[0.4444444444444444,\"#bd3786\"],[0.5555555555555556,\"#d8576b\"],[0.6666666666666666,\"#ed7953\"],[0.7777777777777778,\"#fb9f3a\"],[0.8888888888888888,\"#fdca26\"],[1.0,\"#f0f921\"]],\"sequentialminus\":[[0.0,\"#0d0887\"],[0.1111111111111111,\"#46039f\"],[0.2222222222222222,\"#7201a8\"],[0.3333333333333333,\"#9c179e\"],[0.4444444444444444,\"#bd3786\"],[0.5555555555555556,\"#d8576b\"],[0.6666666666666666,\"#ed7953\"],[0.7777777777777778,\"#fb9f3a\"],[0.8888888888888888,\"#fdca26\"],[1.0,\"#f0f921\"]],\"diverging\":[[0,\"#8e0152\"],[0.1,\"#c51b7d\"],[0.2,\"#de77ae\"],[0.3,\"#f1b6da\"],[0.4,\"#fde0ef\"],[0.5,\"#f7f7f7\"],[0.6,\"#e6f5d0\"],[0.7,\"#b8e186\"],[0.8,\"#7fbc41\"],[0.9,\"#4d9221\"],[1,\"#276419\"]]},\"xaxis\":{\"gridcolor\":\"white\",\"linecolor\":\"white\",\"ticks\":\"\",\"title\":{\"standoff\":15},\"zerolinecolor\":\"white\",\"automargin\":true,\"zerolinewidth\":2},\"yaxis\":{\"gridcolor\":\"white\",\"linecolor\":\"white\",\"ticks\":\"\",\"title\":{\"standoff\":15},\"zerolinecolor\":\"white\",\"automargin\":true,\"zerolinewidth\":2},\"scene\":{\"xaxis\":{\"backgroundcolor\":\"#E5ECF6\",\"gridcolor\":\"white\",\"linecolor\":\"white\",\"showbackground\":true,\"ticks\":\"\",\"zerolinecolor\":\"white\",\"gridwidth\":2},\"yaxis\":{\"backgroundcolor\":\"#E5ECF6\",\"gridcolor\":\"white\",\"linecolor\":\"white\",\"showbackground\":true,\"ticks\":\"\",\"zerolinecolor\":\"white\",\"gridwidth\":2},\"zaxis\":{\"backgroundcolor\":\"#E5ECF6\",\"gridcolor\":\"white\",\"linecolor\":\"white\",\"showbackground\":true,\"ticks\":\"\",\"zerolinecolor\":\"white\",\"gridwidth\":2}},\"shapedefaults\":{\"line\":{\"color\":\"#2a3f5f\"}},\"annotationdefaults\":{\"arrowcolor\":\"#2a3f5f\",\"arrowhead\":0,\"arrowwidth\":1},\"geo\":{\"bgcolor\":\"white\",\"landcolor\":\"#E5ECF6\",\"subunitcolor\":\"white\",\"showland\":true,\"showlakes\":true,\"lakecolor\":\"white\"},\"title\":{\"x\":0.05},\"mapbox\":{\"style\":\"light\"}}},\"xaxis\":{\"anchor\":\"y\",\"domain\":[0.0,1.0],\"title\":{\"text\":\"City\"}},\"yaxis\":{\"anchor\":\"x\",\"domain\":[0.0,1.0],\"title\":{\"text\":\"value\"}},\"legend\":{\"title\":{\"text\":\"variable\"},\"tracegroupgap\":0},\"margin\":{\"t\":60}},                        {\"responsive\": true}                    ).then(function(){\n",
       "                            \n",
       "var gd = document.getElementById('99c6b752-a373-43af-8ce3-020d4dc3a530');\n",
       "var x = new MutationObserver(function (mutations, observer) {{\n",
       "        var display = window.getComputedStyle(gd).display;\n",
       "        if (!display || display === 'none') {{\n",
       "            console.log([gd, 'removed!']);\n",
       "            Plotly.purge(gd);\n",
       "            observer.disconnect();\n",
       "        }}\n",
       "}});\n",
       "\n",
       "// Listen for the removal of the full notebook cells\n",
       "var notebookContainer = gd.closest('#notebook-container');\n",
       "if (notebookContainer) {{\n",
       "    x.observe(notebookContainer, {childList: true});\n",
       "}}\n",
       "\n",
       "// Listen for the clearing of the current output cell\n",
       "var outputEl = gd.closest('.output');\n",
       "if (outputEl) {{\n",
       "    x.observe(outputEl, {childList: true});\n",
       "}}\n",
       "\n",
       "                        })                };                });            </script>        </div>"
      ]
     },
     "metadata": {},
     "output_type": "display_data"
    }
   ],
   "source": [
    "px.line(city_wise_mean_rating)"
   ]
  },
  {
   "cell_type": "markdown",
   "id": "3079df1f",
   "metadata": {},
   "source": [
    "### Q5. Are restaurants with table booking options rated higher than those without?"
   ]
  },
  {
   "cell_type": "code",
   "execution_count": 757,
   "id": "a5d3e82b",
   "metadata": {},
   "outputs": [
    {
     "data": {
      "text/html": [
       "<div>\n",
       "<style scoped>\n",
       "    .dataframe tbody tr th:only-of-type {\n",
       "        vertical-align: middle;\n",
       "    }\n",
       "\n",
       "    .dataframe tbody tr th {\n",
       "        vertical-align: top;\n",
       "    }\n",
       "\n",
       "    .dataframe thead th {\n",
       "        text-align: right;\n",
       "    }\n",
       "</style>\n",
       "<table border=\"1\" class=\"dataframe\">\n",
       "  <thead>\n",
       "    <tr style=\"text-align: right;\">\n",
       "      <th></th>\n",
       "      <th>Restaurant ID</th>\n",
       "      <th>Restaurant Name</th>\n",
       "      <th>City</th>\n",
       "      <th>Cuisines</th>\n",
       "      <th>Has Table booking</th>\n",
       "      <th>Has Online delivery</th>\n",
       "      <th>Is delivering now</th>\n",
       "      <th>Switch to order menu</th>\n",
       "      <th>Price range</th>\n",
       "      <th>Aggregate rating</th>\n",
       "      <th>Rating text</th>\n",
       "      <th>Votes</th>\n",
       "      <th>Country Name</th>\n",
       "      <th>Avg. Cost For two($)</th>\n",
       "    </tr>\n",
       "  </thead>\n",
       "  <tbody>\n",
       "    <tr>\n",
       "      <th>0</th>\n",
       "      <td>6317637</td>\n",
       "      <td>Le Petit Souffle</td>\n",
       "      <td>Makati City</td>\n",
       "      <td>French, Japanese, Desserts</td>\n",
       "      <td>Yes</td>\n",
       "      <td>No</td>\n",
       "      <td>No</td>\n",
       "      <td>No</td>\n",
       "      <td>3</td>\n",
       "      <td>4.8</td>\n",
       "      <td>Excellent</td>\n",
       "      <td>314</td>\n",
       "      <td>Phillipines</td>\n",
       "      <td>80.05</td>\n",
       "    </tr>\n",
       "    <tr>\n",
       "      <th>1</th>\n",
       "      <td>6304287</td>\n",
       "      <td>Izakaya Kikufuji</td>\n",
       "      <td>Makati City</td>\n",
       "      <td>Japanese</td>\n",
       "      <td>Yes</td>\n",
       "      <td>No</td>\n",
       "      <td>No</td>\n",
       "      <td>No</td>\n",
       "      <td>3</td>\n",
       "      <td>4.5</td>\n",
       "      <td>Excellent</td>\n",
       "      <td>591</td>\n",
       "      <td>Phillipines</td>\n",
       "      <td>87.32</td>\n",
       "    </tr>\n",
       "  </tbody>\n",
       "</table>\n",
       "</div>"
      ],
      "text/plain": [
       "   Restaurant ID   Restaurant Name         City                    Cuisines  \\\n",
       "0        6317637  Le Petit Souffle  Makati City  French, Japanese, Desserts   \n",
       "1        6304287  Izakaya Kikufuji  Makati City                    Japanese   \n",
       "\n",
       "  Has Table booking Has Online delivery Is delivering now  \\\n",
       "0               Yes                  No                No   \n",
       "1               Yes                  No                No   \n",
       "\n",
       "  Switch to order menu  Price range  Aggregate rating Rating text  Votes  \\\n",
       "0                   No            3               4.8   Excellent    314   \n",
       "1                   No            3               4.5   Excellent    591   \n",
       "\n",
       "  Country Name  Avg. Cost For two($)  \n",
       "0  Phillipines                 80.05  \n",
       "1  Phillipines                 87.32  "
      ]
     },
     "execution_count": 757,
     "metadata": {},
     "output_type": "execute_result"
    }
   ],
   "source": [
    "df.head(2)"
   ]
  },
  {
   "cell_type": "code",
   "execution_count": 758,
   "id": "d27ef35b",
   "metadata": {},
   "outputs": [
    {
     "data": {
      "text/plain": [
       "0       4.8\n",
       "1       4.5\n",
       "2       4.4\n",
       "4       4.8\n",
       "6       4.0\n",
       "       ... \n",
       "9403    4.3\n",
       "9415    4.2\n",
       "9431    4.7\n",
       "9450    4.0\n",
       "9463    4.2\n",
       "Name: Aggregate rating, Length: 1158, dtype: float64"
      ]
     },
     "execution_count": 758,
     "metadata": {},
     "output_type": "execute_result"
    }
   ],
   "source": [
    "restro_with_table_booking = df[df['Has Table booking'] == 'Yes']['Aggregate rating']\n",
    "restro_with_table_booking"
   ]
  },
  {
   "cell_type": "code",
   "execution_count": 759,
   "id": "a03e66b0",
   "metadata": {},
   "outputs": [
    {
     "data": {
      "text/plain": [
       "3       4.9\n",
       "5       4.4\n",
       "10      4.9\n",
       "12      4.8\n",
       "14      4.3\n",
       "       ... \n",
       "9546    4.1\n",
       "9547    4.2\n",
       "9548    3.7\n",
       "9549    4.0\n",
       "9550    4.0\n",
       "Name: Aggregate rating, Length: 8393, dtype: float64"
      ]
     },
     "execution_count": 759,
     "metadata": {},
     "output_type": "execute_result"
    }
   ],
   "source": [
    "restro_without_table_booking = df[df['Has Table booking'] == 'No']['Aggregate rating']\n",
    "restro_without_table_booking"
   ]
  },
  {
   "cell_type": "code",
   "execution_count": 760,
   "id": "fc871795",
   "metadata": {},
   "outputs": [
    {
     "data": {
      "text/plain": [
       "\"Conduting Hypothesis Testing to know if the difference is significant\\nH0 = 'mean aggregate rating are same'\\nH1 = 'mean aggregate rating are not same'\\n\\nusing T-Test (independent (two sample))\\n\""
      ]
     },
     "execution_count": 760,
     "metadata": {},
     "output_type": "execute_result"
    }
   ],
   "source": [
    "'''Conduting Hypothesis Testing to know if the difference is significant\n",
    "H0 = 'mean aggregate rating are same'\n",
    "H1 = 'mean aggregate rating are not same'\n",
    "\n",
    "using T-Test (independent (two sample))\n",
    "'''\n",
    "###"
   ]
  },
  {
   "cell_type": "code",
   "execution_count": 761,
   "id": "f96b59a6",
   "metadata": {},
   "outputs": [
    {
     "data": {
      "text/plain": [
       "0.8809244589152058"
      ]
     },
     "execution_count": 761,
     "metadata": {},
     "output_type": "execute_result"
    }
   ],
   "source": [
    "np.std(restro_with_table_booking)"
   ]
  },
  {
   "cell_type": "code",
   "execution_count": 762,
   "id": "a2c862f7",
   "metadata": {},
   "outputs": [
    {
     "data": {
      "text/plain": [
       "1.553982264466103"
      ]
     },
     "execution_count": 762,
     "metadata": {},
     "output_type": "execute_result"
    }
   ],
   "source": [
    "np.std(restro_without_table_booking)"
   ]
  },
  {
   "cell_type": "code",
   "execution_count": 763,
   "id": "718fe3f1",
   "metadata": {},
   "outputs": [
    {
     "name": "stdout",
     "output_type": "stream",
     "text": [
      "t-Score : 28.5087\n",
      "p-Value: 0.0000\n",
      "Rejecting Null Hypothesis: Mean Aggregate Rating are Same\n",
      "\tDifference between restaurent is Significant w.r.t Table Booking\n"
     ]
    }
   ],
   "source": [
    "from scipy.stats import ttest_ind\n",
    "\n",
    "t_score, p_value = ttest_ind(restro_with_table_booking, restro_without_table_booking, equal_var = False)\n",
    "\n",
    "print(f't-Score : {t_score:.4f}')\n",
    "print(f'p-Value: {p_value:.4f}')\n",
    "\n",
    "if p_value < 0.05:\n",
    "    print('Rejecting Null Hypothesis: Mean Aggregate Rating are Same')\n",
    "    print('\\tDifference between restaurent is Significant w.r.t Table Booking')\n",
    "else:\n",
    "    print('Can\"t Reject Null Hypothesis: Mean Aggregate Rating are Same')\n",
    "    print('Difference between restaurent is not Significant w.r.t Table Booking')"
   ]
  },
  {
   "cell_type": "markdown",
   "id": "3a392871",
   "metadata": {},
   "source": [
    "# Cost & Pricing Analysis"
   ]
  },
  {
   "cell_type": "code",
   "execution_count": 764,
   "id": "02d5dbdb",
   "metadata": {},
   "outputs": [
    {
     "data": {
      "text/html": [
       "<div>\n",
       "<style scoped>\n",
       "    .dataframe tbody tr th:only-of-type {\n",
       "        vertical-align: middle;\n",
       "    }\n",
       "\n",
       "    .dataframe tbody tr th {\n",
       "        vertical-align: top;\n",
       "    }\n",
       "\n",
       "    .dataframe thead th {\n",
       "        text-align: right;\n",
       "    }\n",
       "</style>\n",
       "<table border=\"1\" class=\"dataframe\">\n",
       "  <thead>\n",
       "    <tr style=\"text-align: right;\">\n",
       "      <th></th>\n",
       "      <th>Restaurant ID</th>\n",
       "      <th>Restaurant Name</th>\n",
       "      <th>City</th>\n",
       "      <th>Cuisines</th>\n",
       "      <th>Has Table booking</th>\n",
       "      <th>Has Online delivery</th>\n",
       "      <th>Is delivering now</th>\n",
       "      <th>Switch to order menu</th>\n",
       "      <th>Price range</th>\n",
       "      <th>Aggregate rating</th>\n",
       "      <th>Rating text</th>\n",
       "      <th>Votes</th>\n",
       "      <th>Country Name</th>\n",
       "      <th>Avg. Cost For two($)</th>\n",
       "    </tr>\n",
       "  </thead>\n",
       "  <tbody>\n",
       "    <tr>\n",
       "      <th>0</th>\n",
       "      <td>6317637</td>\n",
       "      <td>Le Petit Souffle</td>\n",
       "      <td>Makati City</td>\n",
       "      <td>French, Japanese, Desserts</td>\n",
       "      <td>Yes</td>\n",
       "      <td>No</td>\n",
       "      <td>No</td>\n",
       "      <td>No</td>\n",
       "      <td>3</td>\n",
       "      <td>4.8</td>\n",
       "      <td>Excellent</td>\n",
       "      <td>314</td>\n",
       "      <td>Phillipines</td>\n",
       "      <td>80.05</td>\n",
       "    </tr>\n",
       "  </tbody>\n",
       "</table>\n",
       "</div>"
      ],
      "text/plain": [
       "   Restaurant ID   Restaurant Name         City                    Cuisines  \\\n",
       "0        6317637  Le Petit Souffle  Makati City  French, Japanese, Desserts   \n",
       "\n",
       "  Has Table booking Has Online delivery Is delivering now  \\\n",
       "0               Yes                  No                No   \n",
       "\n",
       "  Switch to order menu  Price range  Aggregate rating Rating text  Votes  \\\n",
       "0                   No            3               4.8   Excellent    314   \n",
       "\n",
       "  Country Name  Avg. Cost For two($)  \n",
       "0  Phillipines                 80.05  "
      ]
     },
     "execution_count": 764,
     "metadata": {},
     "output_type": "execute_result"
    }
   ],
   "source": [
    "df.head(1)"
   ]
  },
  {
   "cell_type": "code",
   "execution_count": 765,
   "id": "ff0318a3",
   "metadata": {},
   "outputs": [
    {
     "data": {
      "text/plain": [
       "<Axes: >"
      ]
     },
     "execution_count": 765,
     "metadata": {},
     "output_type": "execute_result"
    },
    {
     "data": {
      "image/png": "[encoded data removed]",
      "text/plain": [
       "<Figure size 640x480 with 1 Axes>"
      ]
     },
     "metadata": {},
     "output_type": "display_data"
    }
   ],
   "source": [
    "sns.boxplot(df['Avg. Cost For two($)'])"
   ]
  },
  {
   "cell_type": "code",
   "execution_count": 766,
   "id": "2bc17629",
   "metadata": {},
   "outputs": [
    {
     "data": {
      "text/plain": [
       "(9551, 14)"
      ]
     },
     "execution_count": 766,
     "metadata": {},
     "output_type": "execute_result"
    }
   ],
   "source": [
    "df.shape"
   ]
  },
  {
   "cell_type": "code",
   "execution_count": 767,
   "id": "104f9450",
   "metadata": {},
   "outputs": [],
   "source": [
    "### Removing price based Outliers Before going into analysis"
   ]
  },
  {
   "cell_type": "code",
   "execution_count": 768,
   "id": "8d2552d4",
   "metadata": {},
   "outputs": [
    {
     "data": {
      "text/plain": [
       "(8470, 14)"
      ]
     },
     "execution_count": 768,
     "metadata": {},
     "output_type": "execute_result"
    }
   ],
   "source": [
    "condition = df['Avg. Cost For two($)'].quantile(.90)\n",
    "df = df[df['Avg. Cost For two($)'] < condition]\n",
    "df.shape"
   ]
  },
  {
   "cell_type": "code",
   "execution_count": 769,
   "id": "a0733630",
   "metadata": {},
   "outputs": [
    {
     "data": {
      "text/plain": [
       "<Axes: >"
      ]
     },
     "execution_count": 769,
     "metadata": {},
     "output_type": "execute_result"
    },
    {
     "data": {
      "image/png": "[encoded data removed]",
      "text/plain": [
       "<Figure size 640x480 with 1 Axes>"
      ]
     },
     "metadata": {},
     "output_type": "display_data"
    }
   ],
   "source": [
    "sns.boxplot(df['Avg. Cost For two($)'])"
   ]
  },
  {
   "cell_type": "code",
   "execution_count": 773,
   "id": "edffae85",
   "metadata": {},
   "outputs": [
    {
     "data": {
      "text/plain": [
       "2519.5734368358917"
      ]
     },
     "execution_count": 773,
     "metadata": {},
     "output_type": "execute_result"
    }
   ],
   "source": [
    "df['Avg. Cost For two($)'].mean()"
   ]
  },
  {
   "cell_type": "markdown",
   "id": "b3f5234d",
   "metadata": {},
   "source": [
    "### Q1. Which cities have the cost more than average cost for two people?"
   ]
  },
  {
   "cell_type": "code",
   "execution_count": 784,
   "id": "f00d77aa",
   "metadata": {},
   "outputs": [
    {
     "data": {
      "text/plain": [
       "array(['Agra', 'Ahmedabad', 'Allahabad', 'Amritsar', 'Aurangabad',\n",
       "       'Bangalore', 'Bhopal', 'Bhubaneshwar', 'Chandigarh', 'Chennai',\n",
       "       'Coimbatore', 'Dehradun', 'Faridabad', 'Ghaziabad', 'Goa',\n",
       "       'Gurgaon', 'Guwahati', 'Hyderabad', 'Indore', 'Jaipur', 'Kanpur',\n",
       "       'Kochi', 'Kolkata', 'Lucknow', 'Ludhiana', 'Mangalore', 'Mohali',\n",
       "       'Mumbai', 'Mysore', 'Nagpur', 'Nashik', 'New Delhi', 'Noida',\n",
       "       'Patna', 'Puducherry', 'Pune', 'Ranchi', 'Secunderabad', 'Surat',\n",
       "       'Vadodara', 'Varanasi', 'Vizag', 'Pretoria'], dtype=object)"
      ]
     },
     "execution_count": 784,
     "metadata": {},
     "output_type": "execute_result"
    }
   ],
   "source": [
    "df[df['Avg. Cost For two($)'] > df['Avg. Cost For two($)'].mean()]['City'].unique()"
   ]
  },
  {
   "cell_type": "markdown",
   "id": "306be909",
   "metadata": {},
   "source": [
    "### Q2. How does the price range affect a restaurant’s rating?"
   ]
  },
  {
   "cell_type": "code",
   "execution_count": 785,
   "id": "e31b72db",
   "metadata": {},
   "outputs": [
    {
     "data": {
      "text/plain": [
       "Index(['Restaurant ID', 'Restaurant Name', 'City', 'Cuisines',\n",
       "       'Has Table booking', 'Has Online delivery', 'Is delivering now',\n",
       "       'Switch to order menu', 'Price range', 'Aggregate rating',\n",
       "       'Rating text', 'Votes', 'Country Name', 'Avg. Cost For two($)'],\n",
       "      dtype='object')"
      ]
     },
     "execution_count": 785,
     "metadata": {},
     "output_type": "execute_result"
    }
   ],
   "source": [
    "df.columns"
   ]
  },
  {
   "cell_type": "markdown",
   "id": "345b4aab",
   "metadata": {},
   "source": [
    "Price range is directly affecting the Aggregate rating"
   ]
  },
  {
   "cell_type": "code",
   "execution_count": 792,
   "id": "3158d300",
   "metadata": {},
   "outputs": [
    {
     "data": {
      "text/plain": [
       "<Axes: xlabel='Price range', ylabel='Aggregate rating'>"
      ]
     },
     "execution_count": 792,
     "metadata": {},
     "output_type": "execute_result"
    },
    {
     "data": {
      "image/png": "[encoded data removed]",
      "text/plain": [
       "<Figure size 640x480 with 1 Axes>"
      ]
     },
     "metadata": {},
     "output_type": "display_data"
    }
   ],
   "source": [
    "sns.lineplot(df.groupby('Price range')['Aggregate rating'].mean())"
   ]
  },
  {
   "cell_type": "markdown",
   "id": "4820b425",
   "metadata": {},
   "source": [
    "### Q3. Do higher-priced restaurants generally receive better ratings?"
   ]
  },
  {
   "cell_type": "code",
   "execution_count": 796,
   "id": "c0bc64b6",
   "metadata": {},
   "outputs": [],
   "source": [
    "## get restro with rating > 4.5"
   ]
  },
  {
   "cell_type": "code",
   "execution_count": 807,
   "id": "71262184",
   "metadata": {},
   "outputs": [
    {
     "data": {
      "text/plain": [
       "3717.4"
      ]
     },
     "execution_count": 807,
     "metadata": {},
     "output_type": "execute_result"
    }
   ],
   "source": [
    "price_criteria = df['Avg. Cost For two($)'].quantile(.75)\n",
    "price_criteria"
   ]
  },
  {
   "cell_type": "code",
   "execution_count": 826,
   "id": "c174cd2a",
   "metadata": {},
   "outputs": [
    {
     "data": {
      "text/html": [
       "<div>\n",
       "<style scoped>\n",
       "    .dataframe tbody tr th:only-of-type {\n",
       "        vertical-align: middle;\n",
       "    }\n",
       "\n",
       "    .dataframe tbody tr th {\n",
       "        vertical-align: top;\n",
       "    }\n",
       "\n",
       "    .dataframe thead th {\n",
       "        text-align: right;\n",
       "    }\n",
       "</style>\n",
       "<table border=\"1\" class=\"dataframe\">\n",
       "  <thead>\n",
       "    <tr style=\"text-align: right;\">\n",
       "      <th></th>\n",
       "      <th>Restaurant ID</th>\n",
       "      <th>Restaurant Name</th>\n",
       "      <th>City</th>\n",
       "      <th>Cuisines</th>\n",
       "      <th>Has Table booking</th>\n",
       "      <th>Has Online delivery</th>\n",
       "      <th>Is delivering now</th>\n",
       "      <th>Switch to order menu</th>\n",
       "      <th>Price range</th>\n",
       "      <th>Aggregate rating</th>\n",
       "      <th>Rating text</th>\n",
       "      <th>Votes</th>\n",
       "      <th>Country Name</th>\n",
       "      <th>Avg. Cost For two($)</th>\n",
       "    </tr>\n",
       "  </thead>\n",
       "  <tbody>\n",
       "    <tr>\n",
       "      <th>624</th>\n",
       "      <td>3400025</td>\n",
       "      <td>Jahanpanah</td>\n",
       "      <td>Agra</td>\n",
       "      <td>North Indian, Mughlai</td>\n",
       "      <td>No</td>\n",
       "      <td>No</td>\n",
       "      <td>No</td>\n",
       "      <td>No</td>\n",
       "      <td>3</td>\n",
       "      <td>3.9</td>\n",
       "      <td>Good</td>\n",
       "      <td>140</td>\n",
       "      <td>India</td>\n",
       "      <td>5266.32</td>\n",
       "    </tr>\n",
       "    <tr>\n",
       "      <th>625</th>\n",
       "      <td>3400341</td>\n",
       "      <td>Rangrezz Restaurant</td>\n",
       "      <td>Agra</td>\n",
       "      <td>North Indian, Mughlai</td>\n",
       "      <td>No</td>\n",
       "      <td>No</td>\n",
       "      <td>No</td>\n",
       "      <td>No</td>\n",
       "      <td>2</td>\n",
       "      <td>3.5</td>\n",
       "      <td>Good</td>\n",
       "      <td>71</td>\n",
       "      <td>India</td>\n",
       "      <td>4336.97</td>\n",
       "    </tr>\n",
       "    <tr>\n",
       "      <th>628</th>\n",
       "      <td>3400017</td>\n",
       "      <td>Pinch Of Spice</td>\n",
       "      <td>Agra</td>\n",
       "      <td>North Indian, Chinese, Mughlai</td>\n",
       "      <td>No</td>\n",
       "      <td>No</td>\n",
       "      <td>No</td>\n",
       "      <td>No</td>\n",
       "      <td>3</td>\n",
       "      <td>4.2</td>\n",
       "      <td>Very Good</td>\n",
       "      <td>177</td>\n",
       "      <td>India</td>\n",
       "      <td>6195.67</td>\n",
       "    </tr>\n",
       "    <tr>\n",
       "      <th>632</th>\n",
       "      <td>3400348</td>\n",
       "      <td>G Thal</td>\n",
       "      <td>Agra</td>\n",
       "      <td>Rajasthani, Gujarati, Mughlai</td>\n",
       "      <td>No</td>\n",
       "      <td>No</td>\n",
       "      <td>No</td>\n",
       "      <td>No</td>\n",
       "      <td>3</td>\n",
       "      <td>3.6</td>\n",
       "      <td>Good</td>\n",
       "      <td>59</td>\n",
       "      <td>India</td>\n",
       "      <td>4956.54</td>\n",
       "    </tr>\n",
       "    <tr>\n",
       "      <th>636</th>\n",
       "      <td>3400033</td>\n",
       "      <td>The Charcoal Chimney</td>\n",
       "      <td>Agra</td>\n",
       "      <td>North Indian, Chinese, Continental, Mughlai</td>\n",
       "      <td>No</td>\n",
       "      <td>No</td>\n",
       "      <td>No</td>\n",
       "      <td>No</td>\n",
       "      <td>3</td>\n",
       "      <td>3.4</td>\n",
       "      <td>Average</td>\n",
       "      <td>70</td>\n",
       "      <td>India</td>\n",
       "      <td>6815.24</td>\n",
       "    </tr>\n",
       "    <tr>\n",
       "      <th>...</th>\n",
       "      <td>...</td>\n",
       "      <td>...</td>\n",
       "      <td>...</td>\n",
       "      <td>...</td>\n",
       "      <td>...</td>\n",
       "      <td>...</td>\n",
       "      <td>...</td>\n",
       "      <td>...</td>\n",
       "      <td>...</td>\n",
       "      <td>...</td>\n",
       "      <td>...</td>\n",
       "      <td>...</td>\n",
       "      <td>...</td>\n",
       "      <td>...</td>\n",
       "    </tr>\n",
       "    <tr>\n",
       "      <th>9251</th>\n",
       "      <td>3900010</td>\n",
       "      <td>The Great Kabab Factory - Radisson Hotel</td>\n",
       "      <td>Varanasi</td>\n",
       "      <td>North Indian, Mughlai</td>\n",
       "      <td>No</td>\n",
       "      <td>No</td>\n",
       "      <td>No</td>\n",
       "      <td>No</td>\n",
       "      <td>4</td>\n",
       "      <td>3.3</td>\n",
       "      <td>Average</td>\n",
       "      <td>67</td>\n",
       "      <td>India</td>\n",
       "      <td>6815.24</td>\n",
       "    </tr>\n",
       "    <tr>\n",
       "      <th>9252</th>\n",
       "      <td>3900055</td>\n",
       "      <td>I:ba Cafe &amp; Restaurant</td>\n",
       "      <td>Varanasi</td>\n",
       "      <td>Japanese, American, North Indian, Fast Food</td>\n",
       "      <td>No</td>\n",
       "      <td>No</td>\n",
       "      <td>No</td>\n",
       "      <td>No</td>\n",
       "      <td>4</td>\n",
       "      <td>3.5</td>\n",
       "      <td>Good</td>\n",
       "      <td>83</td>\n",
       "      <td>India</td>\n",
       "      <td>6195.67</td>\n",
       "    </tr>\n",
       "    <tr>\n",
       "      <th>9255</th>\n",
       "      <td>3900238</td>\n",
       "      <td>Singh's Delight Restaurant</td>\n",
       "      <td>Varanasi</td>\n",
       "      <td>Chinese, North Indian</td>\n",
       "      <td>No</td>\n",
       "      <td>No</td>\n",
       "      <td>No</td>\n",
       "      <td>No</td>\n",
       "      <td>3</td>\n",
       "      <td>3.5</td>\n",
       "      <td>Good</td>\n",
       "      <td>57</td>\n",
       "      <td>India</td>\n",
       "      <td>4336.97</td>\n",
       "    </tr>\n",
       "    <tr>\n",
       "      <th>9263</th>\n",
       "      <td>2800911</td>\n",
       "      <td>Double Roti</td>\n",
       "      <td>Vizag</td>\n",
       "      <td>Cafe, Fast Food, American</td>\n",
       "      <td>No</td>\n",
       "      <td>No</td>\n",
       "      <td>No</td>\n",
       "      <td>No</td>\n",
       "      <td>3</td>\n",
       "      <td>3.8</td>\n",
       "      <td>Good</td>\n",
       "      <td>27</td>\n",
       "      <td>India</td>\n",
       "      <td>6195.67</td>\n",
       "    </tr>\n",
       "    <tr>\n",
       "      <th>9484</th>\n",
       "      <td>75989</td>\n",
       "      <td>Restaurant Mosaic @ The Orient</td>\n",
       "      <td>Pretoria</td>\n",
       "      <td>French</td>\n",
       "      <td>No</td>\n",
       "      <td>No</td>\n",
       "      <td>No</td>\n",
       "      <td>No</td>\n",
       "      <td>4</td>\n",
       "      <td>4.9</td>\n",
       "      <td>Excellent</td>\n",
       "      <td>85</td>\n",
       "      <td>South Africa</td>\n",
       "      <td>4262.55</td>\n",
       "    </tr>\n",
       "  </tbody>\n",
       "</table>\n",
       "<p>1533 rows × 14 columns</p>\n",
       "</div>"
      ],
      "text/plain": [
       "      Restaurant ID                           Restaurant Name      City  \\\n",
       "624         3400025                                Jahanpanah      Agra   \n",
       "625         3400341                       Rangrezz Restaurant      Agra   \n",
       "628         3400017                            Pinch Of Spice      Agra   \n",
       "632         3400348                                    G Thal      Agra   \n",
       "636         3400033                      The Charcoal Chimney      Agra   \n",
       "...             ...                                       ...       ...   \n",
       "9251        3900010  The Great Kabab Factory - Radisson Hotel  Varanasi   \n",
       "9252        3900055                    I:ba Cafe & Restaurant  Varanasi   \n",
       "9255        3900238                Singh's Delight Restaurant  Varanasi   \n",
       "9263        2800911                               Double Roti     Vizag   \n",
       "9484          75989            Restaurant Mosaic @ The Orient  Pretoria   \n",
       "\n",
       "                                         Cuisines Has Table booking  \\\n",
       "624                         North Indian, Mughlai                No   \n",
       "625                         North Indian, Mughlai                No   \n",
       "628                North Indian, Chinese, Mughlai                No   \n",
       "632                 Rajasthani, Gujarati, Mughlai                No   \n",
       "636   North Indian, Chinese, Continental, Mughlai                No   \n",
       "...                                           ...               ...   \n",
       "9251                        North Indian, Mughlai                No   \n",
       "9252  Japanese, American, North Indian, Fast Food                No   \n",
       "9255                        Chinese, North Indian                No   \n",
       "9263                    Cafe, Fast Food, American                No   \n",
       "9484                                       French                No   \n",
       "\n",
       "     Has Online delivery Is delivering now Switch to order menu  Price range  \\\n",
       "624                   No                No                   No            3   \n",
       "625                   No                No                   No            2   \n",
       "628                   No                No                   No            3   \n",
       "632                   No                No                   No            3   \n",
       "636                   No                No                   No            3   \n",
       "...                  ...               ...                  ...          ...   \n",
       "9251                  No                No                   No            4   \n",
       "9252                  No                No                   No            4   \n",
       "9255                  No                No                   No            3   \n",
       "9263                  No                No                   No            3   \n",
       "9484                  No                No                   No            4   \n",
       "\n",
       "      Aggregate rating Rating text  Votes  Country Name  Avg. Cost For two($)  \n",
       "624                3.9        Good    140         India               5266.32  \n",
       "625                3.5        Good     71         India               4336.97  \n",
       "628                4.2   Very Good    177         India               6195.67  \n",
       "632                3.6        Good     59         India               4956.54  \n",
       "636                3.4     Average     70         India               6815.24  \n",
       "...                ...         ...    ...           ...                   ...  \n",
       "9251               3.3     Average     67         India               6815.24  \n",
       "9252               3.5        Good     83         India               6195.67  \n",
       "9255               3.5        Good     57         India               4336.97  \n",
       "9263               3.8        Good     27         India               6195.67  \n",
       "9484               4.9   Excellent     85  South Africa               4262.55  \n",
       "\n",
       "[1533 rows x 14 columns]"
      ]
     },
     "execution_count": 826,
     "metadata": {},
     "output_type": "execute_result"
    }
   ],
   "source": [
    "high_price_restro = df.loc[df['Avg. Cost For two($)'] > price_criteria]\n",
    "high_price_restro"
   ]
  },
  {
   "cell_type": "code",
   "execution_count": 827,
   "id": "1ec204f7",
   "metadata": {},
   "outputs": [],
   "source": [
    "### check how many of them have rating > 4"
   ]
  },
  {
   "cell_type": "code",
   "execution_count": 828,
   "id": "3dc28d3b",
   "metadata": {},
   "outputs": [
    {
     "data": {
      "text/html": [
       "<div>\n",
       "<style scoped>\n",
       "    .dataframe tbody tr th:only-of-type {\n",
       "        vertical-align: middle;\n",
       "    }\n",
       "\n",
       "    .dataframe tbody tr th {\n",
       "        vertical-align: top;\n",
       "    }\n",
       "\n",
       "    .dataframe thead th {\n",
       "        text-align: right;\n",
       "    }\n",
       "</style>\n",
       "<table border=\"1\" class=\"dataframe\">\n",
       "  <thead>\n",
       "    <tr style=\"text-align: right;\">\n",
       "      <th></th>\n",
       "      <th>Restaurant ID</th>\n",
       "      <th>Restaurant Name</th>\n",
       "      <th>City</th>\n",
       "      <th>Cuisines</th>\n",
       "      <th>Has Table booking</th>\n",
       "      <th>Has Online delivery</th>\n",
       "      <th>Is delivering now</th>\n",
       "      <th>Switch to order menu</th>\n",
       "      <th>Price range</th>\n",
       "      <th>Aggregate rating</th>\n",
       "      <th>Rating text</th>\n",
       "      <th>Votes</th>\n",
       "      <th>Country Name</th>\n",
       "      <th>Avg. Cost For two($)</th>\n",
       "    </tr>\n",
       "  </thead>\n",
       "  <tbody>\n",
       "    <tr>\n",
       "      <th>628</th>\n",
       "      <td>3400017</td>\n",
       "      <td>Pinch Of Spice</td>\n",
       "      <td>Agra</td>\n",
       "      <td>North Indian, Chinese, Mughlai</td>\n",
       "      <td>No</td>\n",
       "      <td>No</td>\n",
       "      <td>No</td>\n",
       "      <td>No</td>\n",
       "      <td>3</td>\n",
       "      <td>4.2</td>\n",
       "      <td>Very Good</td>\n",
       "      <td>177</td>\n",
       "      <td>India</td>\n",
       "      <td>6195.67</td>\n",
       "    </tr>\n",
       "    <tr>\n",
       "      <th>641</th>\n",
       "      <td>3400105</td>\n",
       "      <td>Pizza Hut</td>\n",
       "      <td>Agra</td>\n",
       "      <td>Italian, Pizza</td>\n",
       "      <td>No</td>\n",
       "      <td>No</td>\n",
       "      <td>No</td>\n",
       "      <td>No</td>\n",
       "      <td>2</td>\n",
       "      <td>4.4</td>\n",
       "      <td>Very Good</td>\n",
       "      <td>134</td>\n",
       "      <td>India</td>\n",
       "      <td>4336.97</td>\n",
       "    </tr>\n",
       "    <tr>\n",
       "      <th>642</th>\n",
       "      <td>3400326</td>\n",
       "      <td>Tea'se Me - Rooftop Tea Boutique</td>\n",
       "      <td>Agra</td>\n",
       "      <td>Chinese, Italian, Continental, North Indian</td>\n",
       "      <td>No</td>\n",
       "      <td>No</td>\n",
       "      <td>No</td>\n",
       "      <td>No</td>\n",
       "      <td>3</td>\n",
       "      <td>4.2</td>\n",
       "      <td>Very Good</td>\n",
       "      <td>166</td>\n",
       "      <td>India</td>\n",
       "      <td>6195.67</td>\n",
       "    </tr>\n",
       "    <tr>\n",
       "      <th>643</th>\n",
       "      <td>3400392</td>\n",
       "      <td>Thaaliwala</td>\n",
       "      <td>Agra</td>\n",
       "      <td>North Indian, Fast Food</td>\n",
       "      <td>No</td>\n",
       "      <td>No</td>\n",
       "      <td>No</td>\n",
       "      <td>No</td>\n",
       "      <td>2</td>\n",
       "      <td>4.1</td>\n",
       "      <td>Very Good</td>\n",
       "      <td>168</td>\n",
       "      <td>India</td>\n",
       "      <td>4336.97</td>\n",
       "    </tr>\n",
       "    <tr>\n",
       "      <th>644</th>\n",
       "      <td>111895</td>\n",
       "      <td>650 - The Global Kitchen</td>\n",
       "      <td>Ahmedabad</td>\n",
       "      <td>Chinese, Italian, North Indian, Mexican, Medit...</td>\n",
       "      <td>No</td>\n",
       "      <td>No</td>\n",
       "      <td>No</td>\n",
       "      <td>No</td>\n",
       "      <td>3</td>\n",
       "      <td>4.2</td>\n",
       "      <td>Very Good</td>\n",
       "      <td>1582</td>\n",
       "      <td>India</td>\n",
       "      <td>5576.10</td>\n",
       "    </tr>\n",
       "    <tr>\n",
       "      <th>...</th>\n",
       "      <td>...</td>\n",
       "      <td>...</td>\n",
       "      <td>...</td>\n",
       "      <td>...</td>\n",
       "      <td>...</td>\n",
       "      <td>...</td>\n",
       "      <td>...</td>\n",
       "      <td>...</td>\n",
       "      <td>...</td>\n",
       "      <td>...</td>\n",
       "      <td>...</td>\n",
       "      <td>...</td>\n",
       "      <td>...</td>\n",
       "      <td>...</td>\n",
       "    </tr>\n",
       "    <tr>\n",
       "      <th>9210</th>\n",
       "      <td>3800018</td>\n",
       "      <td>Pizza Hut</td>\n",
       "      <td>Surat</td>\n",
       "      <td>Pizza</td>\n",
       "      <td>No</td>\n",
       "      <td>No</td>\n",
       "      <td>No</td>\n",
       "      <td>No</td>\n",
       "      <td>3</td>\n",
       "      <td>4.1</td>\n",
       "      <td>Very Good</td>\n",
       "      <td>216</td>\n",
       "      <td>India</td>\n",
       "      <td>4956.54</td>\n",
       "    </tr>\n",
       "    <tr>\n",
       "      <th>9221</th>\n",
       "      <td>3200005</td>\n",
       "      <td>Little Italy</td>\n",
       "      <td>Vadodara</td>\n",
       "      <td>Italian</td>\n",
       "      <td>No</td>\n",
       "      <td>No</td>\n",
       "      <td>No</td>\n",
       "      <td>No</td>\n",
       "      <td>3</td>\n",
       "      <td>4.1</td>\n",
       "      <td>Very Good</td>\n",
       "      <td>202</td>\n",
       "      <td>India</td>\n",
       "      <td>6195.67</td>\n",
       "    </tr>\n",
       "    <tr>\n",
       "      <th>9233</th>\n",
       "      <td>3200537</td>\n",
       "      <td>Freshco - The Health Caf</td>\n",
       "      <td>Vadodara</td>\n",
       "      <td>Cafe</td>\n",
       "      <td>No</td>\n",
       "      <td>No</td>\n",
       "      <td>No</td>\n",
       "      <td>No</td>\n",
       "      <td>2</td>\n",
       "      <td>4.2</td>\n",
       "      <td>Very Good</td>\n",
       "      <td>132</td>\n",
       "      <td>India</td>\n",
       "      <td>4336.97</td>\n",
       "    </tr>\n",
       "    <tr>\n",
       "      <th>9235</th>\n",
       "      <td>3200034</td>\n",
       "      <td>Tomato's</td>\n",
       "      <td>Vadodara</td>\n",
       "      <td>North Indian, Mughlai, Mexican, Thai</td>\n",
       "      <td>No</td>\n",
       "      <td>No</td>\n",
       "      <td>No</td>\n",
       "      <td>No</td>\n",
       "      <td>3</td>\n",
       "      <td>4.1</td>\n",
       "      <td>Very Good</td>\n",
       "      <td>395</td>\n",
       "      <td>India</td>\n",
       "      <td>6195.67</td>\n",
       "    </tr>\n",
       "    <tr>\n",
       "      <th>9484</th>\n",
       "      <td>75989</td>\n",
       "      <td>Restaurant Mosaic @ The Orient</td>\n",
       "      <td>Pretoria</td>\n",
       "      <td>French</td>\n",
       "      <td>No</td>\n",
       "      <td>No</td>\n",
       "      <td>No</td>\n",
       "      <td>No</td>\n",
       "      <td>4</td>\n",
       "      <td>4.9</td>\n",
       "      <td>Excellent</td>\n",
       "      <td>85</td>\n",
       "      <td>South Africa</td>\n",
       "      <td>4262.55</td>\n",
       "    </tr>\n",
       "  </tbody>\n",
       "</table>\n",
       "<p>172 rows × 14 columns</p>\n",
       "</div>"
      ],
      "text/plain": [
       "      Restaurant ID                   Restaurant Name       City  \\\n",
       "628         3400017                    Pinch Of Spice       Agra   \n",
       "641         3400105                         Pizza Hut       Agra   \n",
       "642         3400326  Tea'se Me - Rooftop Tea Boutique       Agra   \n",
       "643         3400392                        Thaaliwala       Agra   \n",
       "644          111895          650 - The Global Kitchen  Ahmedabad   \n",
       "...             ...                               ...        ...   \n",
       "9210        3800018                         Pizza Hut      Surat   \n",
       "9221        3200005                      Little Italy   Vadodara   \n",
       "9233        3200537          Freshco - The Health Caf   Vadodara   \n",
       "9235        3200034                          Tomato's   Vadodara   \n",
       "9484          75989    Restaurant Mosaic @ The Orient   Pretoria   \n",
       "\n",
       "                                               Cuisines Has Table booking  \\\n",
       "628                      North Indian, Chinese, Mughlai                No   \n",
       "641                                      Italian, Pizza                No   \n",
       "642         Chinese, Italian, Continental, North Indian                No   \n",
       "643                             North Indian, Fast Food                No   \n",
       "644   Chinese, Italian, North Indian, Mexican, Medit...                No   \n",
       "...                                                 ...               ...   \n",
       "9210                                              Pizza                No   \n",
       "9221                                            Italian                No   \n",
       "9233                                               Cafe                No   \n",
       "9235               North Indian, Mughlai, Mexican, Thai                No   \n",
       "9484                                             French                No   \n",
       "\n",
       "     Has Online delivery Is delivering now Switch to order menu  Price range  \\\n",
       "628                   No                No                   No            3   \n",
       "641                   No                No                   No            2   \n",
       "642                   No                No                   No            3   \n",
       "643                   No                No                   No            2   \n",
       "644                   No                No                   No            3   \n",
       "...                  ...               ...                  ...          ...   \n",
       "9210                  No                No                   No            3   \n",
       "9221                  No                No                   No            3   \n",
       "9233                  No                No                   No            2   \n",
       "9235                  No                No                   No            3   \n",
       "9484                  No                No                   No            4   \n",
       "\n",
       "      Aggregate rating Rating text  Votes  Country Name  Avg. Cost For two($)  \n",
       "628                4.2   Very Good    177         India               6195.67  \n",
       "641                4.4   Very Good    134         India               4336.97  \n",
       "642                4.2   Very Good    166         India               6195.67  \n",
       "643                4.1   Very Good    168         India               4336.97  \n",
       "644                4.2   Very Good   1582         India               5576.10  \n",
       "...                ...         ...    ...           ...                   ...  \n",
       "9210               4.1   Very Good    216         India               4956.54  \n",
       "9221               4.1   Very Good    202         India               6195.67  \n",
       "9233               4.2   Very Good    132         India               4336.97  \n",
       "9235               4.1   Very Good    395         India               6195.67  \n",
       "9484               4.9   Excellent     85  South Africa               4262.55  \n",
       "\n",
       "[172 rows x 14 columns]"
      ]
     },
     "execution_count": 828,
     "metadata": {},
     "output_type": "execute_result"
    }
   ],
   "source": [
    "high_price_restro[high_price_restro['Aggregate rating']>4]"
   ]
  },
  {
   "cell_type": "markdown",
   "id": "81346f1f",
   "metadata": {},
   "source": [
    "ANSWER\n",
    "\n",
    "(172 / 1533)*100   = 11.21 %\n",
    "\n",
    "only approx 11 % of the high priced (75 percentile) restos are having rating more then 4"
   ]
  },
  {
   "cell_type": "markdown",
   "id": "0e2c8657",
   "metadata": {},
   "source": [
    "### Q4. Are expensive restaurants more likely to have table booking or Online Delivery options?"
   ]
  },
  {
   "cell_type": "code",
   "execution_count": 834,
   "id": "f6a945cc",
   "metadata": {
    "scrolled": false
   },
   "outputs": [],
   "source": [
    "expensive_restros = df[df['Avg. Cost For two($)']>df['Avg. Cost For two($)'].quantile(.90)]"
   ]
  },
  {
   "cell_type": "code",
   "execution_count": 835,
   "id": "3f2ab8cb",
   "metadata": {},
   "outputs": [
    {
     "data": {
      "text/html": [
       "<div>\n",
       "<style scoped>\n",
       "    .dataframe tbody tr th:only-of-type {\n",
       "        vertical-align: middle;\n",
       "    }\n",
       "\n",
       "    .dataframe tbody tr th {\n",
       "        vertical-align: top;\n",
       "    }\n",
       "\n",
       "    .dataframe thead th {\n",
       "        text-align: right;\n",
       "    }\n",
       "</style>\n",
       "<table border=\"1\" class=\"dataframe\">\n",
       "  <thead>\n",
       "    <tr style=\"text-align: right;\">\n",
       "      <th></th>\n",
       "      <th>Restaurant ID</th>\n",
       "      <th>Restaurant Name</th>\n",
       "      <th>City</th>\n",
       "      <th>Cuisines</th>\n",
       "      <th>Has Table booking</th>\n",
       "      <th>Has Online delivery</th>\n",
       "      <th>Is delivering now</th>\n",
       "      <th>Switch to order menu</th>\n",
       "      <th>Price range</th>\n",
       "      <th>Aggregate rating</th>\n",
       "      <th>Rating text</th>\n",
       "      <th>Votes</th>\n",
       "      <th>Country Name</th>\n",
       "      <th>Avg. Cost For two($)</th>\n",
       "    </tr>\n",
       "  </thead>\n",
       "  <tbody>\n",
       "    <tr>\n",
       "      <th>624</th>\n",
       "      <td>3400025</td>\n",
       "      <td>Jahanpanah</td>\n",
       "      <td>Agra</td>\n",
       "      <td>North Indian, Mughlai</td>\n",
       "      <td>No</td>\n",
       "      <td>No</td>\n",
       "      <td>No</td>\n",
       "      <td>No</td>\n",
       "      <td>3</td>\n",
       "      <td>3.9</td>\n",
       "      <td>Good</td>\n",
       "      <td>140</td>\n",
       "      <td>India</td>\n",
       "      <td>5266.32</td>\n",
       "    </tr>\n",
       "    <tr>\n",
       "      <th>628</th>\n",
       "      <td>3400017</td>\n",
       "      <td>Pinch Of Spice</td>\n",
       "      <td>Agra</td>\n",
       "      <td>North Indian, Chinese, Mughlai</td>\n",
       "      <td>No</td>\n",
       "      <td>No</td>\n",
       "      <td>No</td>\n",
       "      <td>No</td>\n",
       "      <td>3</td>\n",
       "      <td>4.2</td>\n",
       "      <td>Very Good</td>\n",
       "      <td>177</td>\n",
       "      <td>India</td>\n",
       "      <td>6195.67</td>\n",
       "    </tr>\n",
       "    <tr>\n",
       "      <th>636</th>\n",
       "      <td>3400033</td>\n",
       "      <td>The Charcoal Chimney</td>\n",
       "      <td>Agra</td>\n",
       "      <td>North Indian, Chinese, Continental, Mughlai</td>\n",
       "      <td>No</td>\n",
       "      <td>No</td>\n",
       "      <td>No</td>\n",
       "      <td>No</td>\n",
       "      <td>3</td>\n",
       "      <td>3.4</td>\n",
       "      <td>Average</td>\n",
       "      <td>70</td>\n",
       "      <td>India</td>\n",
       "      <td>6815.24</td>\n",
       "    </tr>\n",
       "    <tr>\n",
       "      <th>640</th>\n",
       "      <td>3400016</td>\n",
       "      <td>Pind Balluchi</td>\n",
       "      <td>Agra</td>\n",
       "      <td>North Indian, Mughlai</td>\n",
       "      <td>No</td>\n",
       "      <td>No</td>\n",
       "      <td>No</td>\n",
       "      <td>No</td>\n",
       "      <td>3</td>\n",
       "      <td>3.7</td>\n",
       "      <td>Good</td>\n",
       "      <td>175</td>\n",
       "      <td>India</td>\n",
       "      <td>5576.10</td>\n",
       "    </tr>\n",
       "    <tr>\n",
       "      <th>642</th>\n",
       "      <td>3400326</td>\n",
       "      <td>Tea'se Me - Rooftop Tea Boutique</td>\n",
       "      <td>Agra</td>\n",
       "      <td>Chinese, Italian, Continental, North Indian</td>\n",
       "      <td>No</td>\n",
       "      <td>No</td>\n",
       "      <td>No</td>\n",
       "      <td>No</td>\n",
       "      <td>3</td>\n",
       "      <td>4.2</td>\n",
       "      <td>Very Good</td>\n",
       "      <td>166</td>\n",
       "      <td>India</td>\n",
       "      <td>6195.67</td>\n",
       "    </tr>\n",
       "    <tr>\n",
       "      <th>...</th>\n",
       "      <td>...</td>\n",
       "      <td>...</td>\n",
       "      <td>...</td>\n",
       "      <td>...</td>\n",
       "      <td>...</td>\n",
       "      <td>...</td>\n",
       "      <td>...</td>\n",
       "      <td>...</td>\n",
       "      <td>...</td>\n",
       "      <td>...</td>\n",
       "      <td>...</td>\n",
       "      <td>...</td>\n",
       "      <td>...</td>\n",
       "      <td>...</td>\n",
       "    </tr>\n",
       "    <tr>\n",
       "      <th>9227</th>\n",
       "      <td>3200002</td>\n",
       "      <td>Gazebo Garden Restaurant</td>\n",
       "      <td>Vadodara</td>\n",
       "      <td>North Indian</td>\n",
       "      <td>No</td>\n",
       "      <td>No</td>\n",
       "      <td>No</td>\n",
       "      <td>No</td>\n",
       "      <td>3</td>\n",
       "      <td>3.5</td>\n",
       "      <td>Good</td>\n",
       "      <td>82</td>\n",
       "      <td>India</td>\n",
       "      <td>6195.67</td>\n",
       "    </tr>\n",
       "    <tr>\n",
       "      <th>9235</th>\n",
       "      <td>3200034</td>\n",
       "      <td>Tomato's</td>\n",
       "      <td>Vadodara</td>\n",
       "      <td>North Indian, Mughlai, Mexican, Thai</td>\n",
       "      <td>No</td>\n",
       "      <td>No</td>\n",
       "      <td>No</td>\n",
       "      <td>No</td>\n",
       "      <td>3</td>\n",
       "      <td>4.1</td>\n",
       "      <td>Very Good</td>\n",
       "      <td>395</td>\n",
       "      <td>India</td>\n",
       "      <td>6195.67</td>\n",
       "    </tr>\n",
       "    <tr>\n",
       "      <th>9251</th>\n",
       "      <td>3900010</td>\n",
       "      <td>The Great Kabab Factory - Radisson Hotel</td>\n",
       "      <td>Varanasi</td>\n",
       "      <td>North Indian, Mughlai</td>\n",
       "      <td>No</td>\n",
       "      <td>No</td>\n",
       "      <td>No</td>\n",
       "      <td>No</td>\n",
       "      <td>4</td>\n",
       "      <td>3.3</td>\n",
       "      <td>Average</td>\n",
       "      <td>67</td>\n",
       "      <td>India</td>\n",
       "      <td>6815.24</td>\n",
       "    </tr>\n",
       "    <tr>\n",
       "      <th>9252</th>\n",
       "      <td>3900055</td>\n",
       "      <td>I:ba Cafe &amp; Restaurant</td>\n",
       "      <td>Varanasi</td>\n",
       "      <td>Japanese, American, North Indian, Fast Food</td>\n",
       "      <td>No</td>\n",
       "      <td>No</td>\n",
       "      <td>No</td>\n",
       "      <td>No</td>\n",
       "      <td>4</td>\n",
       "      <td>3.5</td>\n",
       "      <td>Good</td>\n",
       "      <td>83</td>\n",
       "      <td>India</td>\n",
       "      <td>6195.67</td>\n",
       "    </tr>\n",
       "    <tr>\n",
       "      <th>9263</th>\n",
       "      <td>2800911</td>\n",
       "      <td>Double Roti</td>\n",
       "      <td>Vizag</td>\n",
       "      <td>Cafe, Fast Food, American</td>\n",
       "      <td>No</td>\n",
       "      <td>No</td>\n",
       "      <td>No</td>\n",
       "      <td>No</td>\n",
       "      <td>3</td>\n",
       "      <td>3.8</td>\n",
       "      <td>Good</td>\n",
       "      <td>27</td>\n",
       "      <td>India</td>\n",
       "      <td>6195.67</td>\n",
       "    </tr>\n",
       "  </tbody>\n",
       "</table>\n",
       "<p>541 rows × 14 columns</p>\n",
       "</div>"
      ],
      "text/plain": [
       "      Restaurant ID                           Restaurant Name      City  \\\n",
       "624         3400025                                Jahanpanah      Agra   \n",
       "628         3400017                            Pinch Of Spice      Agra   \n",
       "636         3400033                      The Charcoal Chimney      Agra   \n",
       "640         3400016                             Pind Balluchi      Agra   \n",
       "642         3400326          Tea'se Me - Rooftop Tea Boutique      Agra   \n",
       "...             ...                                       ...       ...   \n",
       "9227        3200002                  Gazebo Garden Restaurant  Vadodara   \n",
       "9235        3200034                                  Tomato's  Vadodara   \n",
       "9251        3900010  The Great Kabab Factory - Radisson Hotel  Varanasi   \n",
       "9252        3900055                    I:ba Cafe & Restaurant  Varanasi   \n",
       "9263        2800911                               Double Roti     Vizag   \n",
       "\n",
       "                                         Cuisines Has Table booking  \\\n",
       "624                         North Indian, Mughlai                No   \n",
       "628                North Indian, Chinese, Mughlai                No   \n",
       "636   North Indian, Chinese, Continental, Mughlai                No   \n",
       "640                         North Indian, Mughlai                No   \n",
       "642   Chinese, Italian, Continental, North Indian                No   \n",
       "...                                           ...               ...   \n",
       "9227                                 North Indian                No   \n",
       "9235         North Indian, Mughlai, Mexican, Thai                No   \n",
       "9251                        North Indian, Mughlai                No   \n",
       "9252  Japanese, American, North Indian, Fast Food                No   \n",
       "9263                    Cafe, Fast Food, American                No   \n",
       "\n",
       "     Has Online delivery Is delivering now Switch to order menu  Price range  \\\n",
       "624                   No                No                   No            3   \n",
       "628                   No                No                   No            3   \n",
       "636                   No                No                   No            3   \n",
       "640                   No                No                   No            3   \n",
       "642                   No                No                   No            3   \n",
       "...                  ...               ...                  ...          ...   \n",
       "9227                  No                No                   No            3   \n",
       "9235                  No                No                   No            3   \n",
       "9251                  No                No                   No            4   \n",
       "9252                  No                No                   No            4   \n",
       "9263                  No                No                   No            3   \n",
       "\n",
       "      Aggregate rating Rating text  Votes Country Name  Avg. Cost For two($)  \n",
       "624                3.9        Good    140        India               5266.32  \n",
       "628                4.2   Very Good    177        India               6195.67  \n",
       "636                3.4     Average     70        India               6815.24  \n",
       "640                3.7        Good    175        India               5576.10  \n",
       "642                4.2   Very Good    166        India               6195.67  \n",
       "...                ...         ...    ...          ...                   ...  \n",
       "9227               3.5        Good     82        India               6195.67  \n",
       "9235               4.1   Very Good    395        India               6195.67  \n",
       "9251               3.3     Average     67        India               6815.24  \n",
       "9252               3.5        Good     83        India               6195.67  \n",
       "9263               3.8        Good     27        India               6195.67  \n",
       "\n",
       "[541 rows x 14 columns]"
      ]
     },
     "execution_count": 835,
     "metadata": {},
     "output_type": "execute_result"
    }
   ],
   "source": [
    "expensive_restros"
   ]
  },
  {
   "cell_type": "code",
   "execution_count": 836,
   "id": "eab39d58",
   "metadata": {},
   "outputs": [],
   "source": [
    "## finding the proportion of expensive restros having table booking or online delivery"
   ]
  },
  {
   "cell_type": "code",
   "execution_count": 864,
   "id": "14f3a563",
   "metadata": {},
   "outputs": [
    {
     "name": "stderr",
     "output_type": "stream",
     "text": [
      "/tmp/ipykernel_8824/3560474076.py:1: UserWarning:\n",
      "\n",
      "Boolean Series key will be reindexed to match DataFrame index.\n",
      "\n"
     ]
    }
   ],
   "source": [
    "has_online_and_table_booking = expensive_restros[(df['Has Table booking'] == \"Yes\") | (df['Has Online delivery'] == 'Yes')]"
   ]
  },
  {
   "cell_type": "code",
   "execution_count": 865,
   "id": "bf55b38a",
   "metadata": {},
   "outputs": [
    {
     "data": {
      "text/html": [
       "<div>\n",
       "<style scoped>\n",
       "    .dataframe tbody tr th:only-of-type {\n",
       "        vertical-align: middle;\n",
       "    }\n",
       "\n",
       "    .dataframe tbody tr th {\n",
       "        vertical-align: top;\n",
       "    }\n",
       "\n",
       "    .dataframe thead th {\n",
       "        text-align: right;\n",
       "    }\n",
       "</style>\n",
       "<table border=\"1\" class=\"dataframe\">\n",
       "  <thead>\n",
       "    <tr style=\"text-align: right;\">\n",
       "      <th></th>\n",
       "      <th>Restaurant ID</th>\n",
       "      <th>Restaurant Name</th>\n",
       "      <th>City</th>\n",
       "      <th>Cuisines</th>\n",
       "      <th>Has Table booking</th>\n",
       "      <th>Has Online delivery</th>\n",
       "      <th>Is delivering now</th>\n",
       "      <th>Switch to order menu</th>\n",
       "      <th>Price range</th>\n",
       "      <th>Aggregate rating</th>\n",
       "      <th>Rating text</th>\n",
       "      <th>Votes</th>\n",
       "      <th>Country Name</th>\n",
       "      <th>Avg. Cost For two($)</th>\n",
       "    </tr>\n",
       "  </thead>\n",
       "  <tbody>\n",
       "    <tr>\n",
       "      <th>648</th>\n",
       "      <td>113433</td>\n",
       "      <td>Fozzie's Pizzaiolo</td>\n",
       "      <td>Ahmedabad</td>\n",
       "      <td>Pizza, Italian, Beverages, Desserts</td>\n",
       "      <td>No</td>\n",
       "      <td>Yes</td>\n",
       "      <td>No</td>\n",
       "      <td>No</td>\n",
       "      <td>3</td>\n",
       "      <td>4.3</td>\n",
       "      <td>Very Good</td>\n",
       "      <td>731</td>\n",
       "      <td>India</td>\n",
       "      <td>5576.10</td>\n",
       "    </tr>\n",
       "    <tr>\n",
       "      <th>650</th>\n",
       "      <td>18143128</td>\n",
       "      <td>Mocha</td>\n",
       "      <td>Ahmedabad</td>\n",
       "      <td>Cafe, Continental, Desserts</td>\n",
       "      <td>No</td>\n",
       "      <td>Yes</td>\n",
       "      <td>No</td>\n",
       "      <td>No</td>\n",
       "      <td>3</td>\n",
       "      <td>4.4</td>\n",
       "      <td>Very Good</td>\n",
       "      <td>944</td>\n",
       "      <td>India</td>\n",
       "      <td>6195.67</td>\n",
       "    </tr>\n",
       "    <tr>\n",
       "      <th>651</th>\n",
       "      <td>18438944</td>\n",
       "      <td>Blue -  Rooftop Cafe Restaurant Bistro</td>\n",
       "      <td>Ahmedabad</td>\n",
       "      <td>North Indian, Cafe, Italian, Mexican, Continental</td>\n",
       "      <td>No</td>\n",
       "      <td>Yes</td>\n",
       "      <td>No</td>\n",
       "      <td>No</td>\n",
       "      <td>3</td>\n",
       "      <td>3.8</td>\n",
       "      <td>Good</td>\n",
       "      <td>63</td>\n",
       "      <td>India</td>\n",
       "      <td>6195.67</td>\n",
       "    </tr>\n",
       "    <tr>\n",
       "      <th>660</th>\n",
       "      <td>113325</td>\n",
       "      <td>Nini's Kitchen</td>\n",
       "      <td>Ahmedabad</td>\n",
       "      <td>North Indian, Continental, Beverages, Italian,...</td>\n",
       "      <td>No</td>\n",
       "      <td>Yes</td>\n",
       "      <td>No</td>\n",
       "      <td>No</td>\n",
       "      <td>3</td>\n",
       "      <td>4.5</td>\n",
       "      <td>Excellent</td>\n",
       "      <td>1138</td>\n",
       "      <td>India</td>\n",
       "      <td>5885.89</td>\n",
       "    </tr>\n",
       "    <tr>\n",
       "      <th>787</th>\n",
       "      <td>122003</td>\n",
       "      <td>The Night Factory</td>\n",
       "      <td>Chandigarh</td>\n",
       "      <td>North Indian, Chinese, Continental, Pizza</td>\n",
       "      <td>No</td>\n",
       "      <td>Yes</td>\n",
       "      <td>Yes</td>\n",
       "      <td>No</td>\n",
       "      <td>2</td>\n",
       "      <td>3.7</td>\n",
       "      <td>Good</td>\n",
       "      <td>665</td>\n",
       "      <td>India</td>\n",
       "      <td>5266.32</td>\n",
       "    </tr>\n",
       "    <tr>\n",
       "      <th>...</th>\n",
       "      <td>...</td>\n",
       "      <td>...</td>\n",
       "      <td>...</td>\n",
       "      <td>...</td>\n",
       "      <td>...</td>\n",
       "      <td>...</td>\n",
       "      <td>...</td>\n",
       "      <td>...</td>\n",
       "      <td>...</td>\n",
       "      <td>...</td>\n",
       "      <td>...</td>\n",
       "      <td>...</td>\n",
       "      <td>...</td>\n",
       "      <td>...</td>\n",
       "    </tr>\n",
       "    <tr>\n",
       "      <th>9162</th>\n",
       "      <td>18350020</td>\n",
       "      <td>Kargo</td>\n",
       "      <td>Pune</td>\n",
       "      <td>Charcoal Grill, Italian, North Indian, Europea...</td>\n",
       "      <td>Yes</td>\n",
       "      <td>No</td>\n",
       "      <td>No</td>\n",
       "      <td>No</td>\n",
       "      <td>2</td>\n",
       "      <td>4.4</td>\n",
       "      <td>Very Good</td>\n",
       "      <td>635</td>\n",
       "      <td>India</td>\n",
       "      <td>5576.10</td>\n",
       "    </tr>\n",
       "    <tr>\n",
       "      <th>9163</th>\n",
       "      <td>6508117</td>\n",
       "      <td>Sauted Stories</td>\n",
       "      <td>Pune</td>\n",
       "      <td>Cafe, Italian, Continental</td>\n",
       "      <td>No</td>\n",
       "      <td>Yes</td>\n",
       "      <td>No</td>\n",
       "      <td>No</td>\n",
       "      <td>2</td>\n",
       "      <td>4.2</td>\n",
       "      <td>Very Good</td>\n",
       "      <td>583</td>\n",
       "      <td>India</td>\n",
       "      <td>5266.32</td>\n",
       "    </tr>\n",
       "    <tr>\n",
       "      <th>9172</th>\n",
       "      <td>6507495</td>\n",
       "      <td>Apache</td>\n",
       "      <td>Pune</td>\n",
       "      <td>Finger Food</td>\n",
       "      <td>Yes</td>\n",
       "      <td>No</td>\n",
       "      <td>No</td>\n",
       "      <td>No</td>\n",
       "      <td>3</td>\n",
       "      <td>4.1</td>\n",
       "      <td>Very Good</td>\n",
       "      <td>377</td>\n",
       "      <td>India</td>\n",
       "      <td>6195.67</td>\n",
       "    </tr>\n",
       "    <tr>\n",
       "      <th>9173</th>\n",
       "      <td>18441490</td>\n",
       "      <td>Barbeque Ville</td>\n",
       "      <td>Pune</td>\n",
       "      <td>North Indian</td>\n",
       "      <td>Yes</td>\n",
       "      <td>No</td>\n",
       "      <td>No</td>\n",
       "      <td>No</td>\n",
       "      <td>3</td>\n",
       "      <td>4.4</td>\n",
       "      <td>Very Good</td>\n",
       "      <td>208</td>\n",
       "      <td>India</td>\n",
       "      <td>6195.67</td>\n",
       "    </tr>\n",
       "    <tr>\n",
       "      <th>9194</th>\n",
       "      <td>96814</td>\n",
       "      <td>Saffron Mantra</td>\n",
       "      <td>Secunderabad</td>\n",
       "      <td>North Indian, Chinese</td>\n",
       "      <td>Yes</td>\n",
       "      <td>Yes</td>\n",
       "      <td>No</td>\n",
       "      <td>No</td>\n",
       "      <td>2</td>\n",
       "      <td>4.4</td>\n",
       "      <td>Very Good</td>\n",
       "      <td>494</td>\n",
       "      <td>India</td>\n",
       "      <td>5266.32</td>\n",
       "    </tr>\n",
       "  </tbody>\n",
       "</table>\n",
       "<p>372 rows × 14 columns</p>\n",
       "</div>"
      ],
      "text/plain": [
       "      Restaurant ID                         Restaurant Name          City  \\\n",
       "648          113433                      Fozzie's Pizzaiolo     Ahmedabad   \n",
       "650        18143128                                   Mocha     Ahmedabad   \n",
       "651        18438944  Blue -  Rooftop Cafe Restaurant Bistro     Ahmedabad   \n",
       "660          113325                          Nini's Kitchen     Ahmedabad   \n",
       "787          122003                       The Night Factory    Chandigarh   \n",
       "...             ...                                     ...           ...   \n",
       "9162       18350020                                   Kargo          Pune   \n",
       "9163        6508117                          Sauted Stories          Pune   \n",
       "9172        6507495                                  Apache          Pune   \n",
       "9173       18441490                          Barbeque Ville          Pune   \n",
       "9194          96814                          Saffron Mantra  Secunderabad   \n",
       "\n",
       "                                               Cuisines Has Table booking  \\\n",
       "648                 Pizza, Italian, Beverages, Desserts                No   \n",
       "650                         Cafe, Continental, Desserts                No   \n",
       "651   North Indian, Cafe, Italian, Mexican, Continental                No   \n",
       "660   North Indian, Continental, Beverages, Italian,...                No   \n",
       "787           North Indian, Chinese, Continental, Pizza                No   \n",
       "...                                                 ...               ...   \n",
       "9162  Charcoal Grill, Italian, North Indian, Europea...               Yes   \n",
       "9163                         Cafe, Italian, Continental                No   \n",
       "9172                                        Finger Food               Yes   \n",
       "9173                                       North Indian               Yes   \n",
       "9194                              North Indian, Chinese               Yes   \n",
       "\n",
       "     Has Online delivery Is delivering now Switch to order menu  Price range  \\\n",
       "648                  Yes                No                   No            3   \n",
       "650                  Yes                No                   No            3   \n",
       "651                  Yes                No                   No            3   \n",
       "660                  Yes                No                   No            3   \n",
       "787                  Yes               Yes                   No            2   \n",
       "...                  ...               ...                  ...          ...   \n",
       "9162                  No                No                   No            2   \n",
       "9163                 Yes                No                   No            2   \n",
       "9172                  No                No                   No            3   \n",
       "9173                  No                No                   No            3   \n",
       "9194                 Yes                No                   No            2   \n",
       "\n",
       "      Aggregate rating Rating text  Votes Country Name  Avg. Cost For two($)  \n",
       "648                4.3   Very Good    731        India               5576.10  \n",
       "650                4.4   Very Good    944        India               6195.67  \n",
       "651                3.8        Good     63        India               6195.67  \n",
       "660                4.5   Excellent   1138        India               5885.89  \n",
       "787                3.7        Good    665        India               5266.32  \n",
       "...                ...         ...    ...          ...                   ...  \n",
       "9162               4.4   Very Good    635        India               5576.10  \n",
       "9163               4.2   Very Good    583        India               5266.32  \n",
       "9172               4.1   Very Good    377        India               6195.67  \n",
       "9173               4.4   Very Good    208        India               6195.67  \n",
       "9194               4.4   Very Good    494        India               5266.32  \n",
       "\n",
       "[372 rows x 14 columns]"
      ]
     },
     "execution_count": 865,
     "metadata": {},
     "output_type": "execute_result"
    }
   ],
   "source": [
    "has_online_and_table_booking"
   ]
  },
  {
   "cell_type": "markdown",
   "id": "aacf3a85",
   "metadata": {},
   "source": [
    "ANSWER \n",
    "\n",
    "(372/541)*100 = 68.761552680221876\n",
    "\n",
    "Around 70% of the expensive restros having table booking or online delivery"
   ]
  },
  {
   "cell_type": "markdown",
   "id": "ec0ef3bf",
   "metadata": {},
   "source": [
    "### Q5. How does online delivery availability affect customer votes?"
   ]
  },
  {
   "cell_type": "code",
   "execution_count": 873,
   "id": "5b4b9223",
   "metadata": {
    "scrolled": false
   },
   "outputs": [
    {
     "data": {
      "text/plain": [
       "<Axes: xlabel='Has Online delivery', ylabel='Votes'>"
      ]
     },
     "execution_count": 873,
     "metadata": {},
     "output_type": "execute_result"
    },
    {
     "data": {
      "image/png": "[encoded data removed]",
      "text/plain": [
       "<Figure size 640x480 with 1 Axes>"
      ]
     },
     "metadata": {},
     "output_type": "display_data"
    }
   ],
   "source": [
    "sns.barplot(x = 'Has Online delivery', y = 'Votes', data = df, orient='v')"
   ]
  },
  {
   "cell_type": "markdown",
   "id": "1449f3f1",
   "metadata": {},
   "source": [
    "# City & Country-Based Insights"
   ]
  },
  {
   "cell_type": "markdown",
   "id": "31d0a59f",
   "metadata": {},
   "source": [
    "### Q1. Which city has the most expensive restaurants on average?"
   ]
  },
  {
   "cell_type": "code",
   "execution_count": 892,
   "id": "3be8cb50",
   "metadata": {},
   "outputs": [],
   "source": [
    "expensive_restro = df[df['Avg. Cost For two($)'] > df['Avg. Cost For two($)'].quantile(.99)]"
   ]
  },
  {
   "cell_type": "code",
   "execution_count": 893,
   "id": "aebc65aa",
   "metadata": {},
   "outputs": [
    {
     "data": {
      "text/html": [
       "<div>\n",
       "<style scoped>\n",
       "    .dataframe tbody tr th:only-of-type {\n",
       "        vertical-align: middle;\n",
       "    }\n",
       "\n",
       "    .dataframe tbody tr th {\n",
       "        vertical-align: top;\n",
       "    }\n",
       "\n",
       "    .dataframe thead th {\n",
       "        text-align: right;\n",
       "    }\n",
       "</style>\n",
       "<table border=\"1\" class=\"dataframe\">\n",
       "  <thead>\n",
       "    <tr style=\"text-align: right;\">\n",
       "      <th></th>\n",
       "      <th>Restaurant ID</th>\n",
       "      <th>Restaurant Name</th>\n",
       "      <th>City</th>\n",
       "      <th>Cuisines</th>\n",
       "      <th>Has Table booking</th>\n",
       "      <th>Has Online delivery</th>\n",
       "      <th>Is delivering now</th>\n",
       "      <th>Switch to order menu</th>\n",
       "      <th>Price range</th>\n",
       "      <th>Aggregate rating</th>\n",
       "      <th>Rating text</th>\n",
       "      <th>Votes</th>\n",
       "      <th>Country Name</th>\n",
       "      <th>Avg. Cost For two($)</th>\n",
       "    </tr>\n",
       "  </thead>\n",
       "  <tbody>\n",
       "    <tr>\n",
       "      <th>636</th>\n",
       "      <td>3400033</td>\n",
       "      <td>The Charcoal Chimney</td>\n",
       "      <td>Agra</td>\n",
       "      <td>North Indian, Chinese, Continental, Mughlai</td>\n",
       "      <td>No</td>\n",
       "      <td>No</td>\n",
       "      <td>No</td>\n",
       "      <td>No</td>\n",
       "      <td>3</td>\n",
       "      <td>3.4</td>\n",
       "      <td>Average</td>\n",
       "      <td>70</td>\n",
       "      <td>India</td>\n",
       "      <td>6815.24</td>\n",
       "    </tr>\n",
       "    <tr>\n",
       "      <th>812</th>\n",
       "      <td>71492</td>\n",
       "      <td>Ciclo Cafe</td>\n",
       "      <td>Chennai</td>\n",
       "      <td>Cafe, Continental</td>\n",
       "      <td>No</td>\n",
       "      <td>No</td>\n",
       "      <td>No</td>\n",
       "      <td>No</td>\n",
       "      <td>3</td>\n",
       "      <td>4.1</td>\n",
       "      <td>Very Good</td>\n",
       "      <td>1004</td>\n",
       "      <td>India</td>\n",
       "      <td>6815.24</td>\n",
       "    </tr>\n",
       "    <tr>\n",
       "      <th>884</th>\n",
       "      <td>1804</td>\n",
       "      <td>Berco's</td>\n",
       "      <td>Faridabad</td>\n",
       "      <td>Chinese, Thai</td>\n",
       "      <td>No</td>\n",
       "      <td>Yes</td>\n",
       "      <td>No</td>\n",
       "      <td>No</td>\n",
       "      <td>3</td>\n",
       "      <td>3.8</td>\n",
       "      <td>Good</td>\n",
       "      <td>508</td>\n",
       "      <td>India</td>\n",
       "      <td>6815.24</td>\n",
       "    </tr>\n",
       "    <tr>\n",
       "      <th>1142</th>\n",
       "      <td>130275</td>\n",
       "      <td>Burger Factory</td>\n",
       "      <td>Goa</td>\n",
       "      <td>Fast Food</td>\n",
       "      <td>No</td>\n",
       "      <td>No</td>\n",
       "      <td>No</td>\n",
       "      <td>No</td>\n",
       "      <td>4</td>\n",
       "      <td>4.8</td>\n",
       "      <td>Excellent</td>\n",
       "      <td>415</td>\n",
       "      <td>India</td>\n",
       "      <td>6815.24</td>\n",
       "    </tr>\n",
       "    <tr>\n",
       "      <th>1146</th>\n",
       "      <td>16512186</td>\n",
       "      <td>St. Anthony's</td>\n",
       "      <td>Goa</td>\n",
       "      <td>North Indian, Chinese, Continental, Goan, Seafood</td>\n",
       "      <td>No</td>\n",
       "      <td>No</td>\n",
       "      <td>No</td>\n",
       "      <td>No</td>\n",
       "      <td>4</td>\n",
       "      <td>3.8</td>\n",
       "      <td>Good</td>\n",
       "      <td>911</td>\n",
       "      <td>India</td>\n",
       "      <td>6815.24</td>\n",
       "    </tr>\n",
       "    <tr>\n",
       "      <th>...</th>\n",
       "      <td>...</td>\n",
       "      <td>...</td>\n",
       "      <td>...</td>\n",
       "      <td>...</td>\n",
       "      <td>...</td>\n",
       "      <td>...</td>\n",
       "      <td>...</td>\n",
       "      <td>...</td>\n",
       "      <td>...</td>\n",
       "      <td>...</td>\n",
       "      <td>...</td>\n",
       "      <td>...</td>\n",
       "      <td>...</td>\n",
       "      <td>...</td>\n",
       "    </tr>\n",
       "    <tr>\n",
       "      <th>8475</th>\n",
       "      <td>387</td>\n",
       "      <td>Nirula's</td>\n",
       "      <td>Noida</td>\n",
       "      <td>Fast Food, North Indian, Chinese, Desserts, Ic...</td>\n",
       "      <td>Yes</td>\n",
       "      <td>Yes</td>\n",
       "      <td>No</td>\n",
       "      <td>No</td>\n",
       "      <td>3</td>\n",
       "      <td>2.5</td>\n",
       "      <td>Average</td>\n",
       "      <td>221</td>\n",
       "      <td>India</td>\n",
       "      <td>6815.24</td>\n",
       "    </tr>\n",
       "    <tr>\n",
       "      <th>8479</th>\n",
       "      <td>18425782</td>\n",
       "      <td>Crazy Noodles</td>\n",
       "      <td>Noida</td>\n",
       "      <td>Chinese, Thai</td>\n",
       "      <td>No</td>\n",
       "      <td>Yes</td>\n",
       "      <td>No</td>\n",
       "      <td>No</td>\n",
       "      <td>3</td>\n",
       "      <td>0.0</td>\n",
       "      <td>Not rated</td>\n",
       "      <td>2</td>\n",
       "      <td>India</td>\n",
       "      <td>6815.24</td>\n",
       "    </tr>\n",
       "    <tr>\n",
       "      <th>8849</th>\n",
       "      <td>4469</td>\n",
       "      <td>Binge Restaurant</td>\n",
       "      <td>Noida</td>\n",
       "      <td>North Indian, Chinese, Continental</td>\n",
       "      <td>Yes</td>\n",
       "      <td>No</td>\n",
       "      <td>No</td>\n",
       "      <td>No</td>\n",
       "      <td>3</td>\n",
       "      <td>3.2</td>\n",
       "      <td>Average</td>\n",
       "      <td>325</td>\n",
       "      <td>India</td>\n",
       "      <td>6815.24</td>\n",
       "    </tr>\n",
       "    <tr>\n",
       "      <th>9090</th>\n",
       "      <td>486</td>\n",
       "      <td>Crazy Noodles</td>\n",
       "      <td>Noida</td>\n",
       "      <td>Chinese, Thai</td>\n",
       "      <td>Yes</td>\n",
       "      <td>Yes</td>\n",
       "      <td>No</td>\n",
       "      <td>No</td>\n",
       "      <td>3</td>\n",
       "      <td>3.6</td>\n",
       "      <td>Good</td>\n",
       "      <td>507</td>\n",
       "      <td>India</td>\n",
       "      <td>6815.24</td>\n",
       "    </tr>\n",
       "    <tr>\n",
       "      <th>9251</th>\n",
       "      <td>3900010</td>\n",
       "      <td>The Great Kabab Factory - Radisson Hotel</td>\n",
       "      <td>Varanasi</td>\n",
       "      <td>North Indian, Mughlai</td>\n",
       "      <td>No</td>\n",
       "      <td>No</td>\n",
       "      <td>No</td>\n",
       "      <td>No</td>\n",
       "      <td>4</td>\n",
       "      <td>3.3</td>\n",
       "      <td>Average</td>\n",
       "      <td>67</td>\n",
       "      <td>India</td>\n",
       "      <td>6815.24</td>\n",
       "    </tr>\n",
       "  </tbody>\n",
       "</table>\n",
       "<p>82 rows × 14 columns</p>\n",
       "</div>"
      ],
      "text/plain": [
       "      Restaurant ID                           Restaurant Name       City  \\\n",
       "636         3400033                      The Charcoal Chimney       Agra   \n",
       "812           71492                                Ciclo Cafe    Chennai   \n",
       "884            1804                                   Berco's  Faridabad   \n",
       "1142         130275                            Burger Factory        Goa   \n",
       "1146       16512186                             St. Anthony's        Goa   \n",
       "...             ...                                       ...        ...   \n",
       "8475            387                                  Nirula's      Noida   \n",
       "8479       18425782                             Crazy Noodles      Noida   \n",
       "8849           4469                          Binge Restaurant      Noida   \n",
       "9090            486                             Crazy Noodles      Noida   \n",
       "9251        3900010  The Great Kabab Factory - Radisson Hotel   Varanasi   \n",
       "\n",
       "                                               Cuisines Has Table booking  \\\n",
       "636         North Indian, Chinese, Continental, Mughlai                No   \n",
       "812                                   Cafe, Continental                No   \n",
       "884                                       Chinese, Thai                No   \n",
       "1142                                          Fast Food                No   \n",
       "1146  North Indian, Chinese, Continental, Goan, Seafood                No   \n",
       "...                                                 ...               ...   \n",
       "8475  Fast Food, North Indian, Chinese, Desserts, Ic...               Yes   \n",
       "8479                                      Chinese, Thai                No   \n",
       "8849                 North Indian, Chinese, Continental               Yes   \n",
       "9090                                      Chinese, Thai               Yes   \n",
       "9251                              North Indian, Mughlai                No   \n",
       "\n",
       "     Has Online delivery Is delivering now Switch to order menu  Price range  \\\n",
       "636                   No                No                   No            3   \n",
       "812                   No                No                   No            3   \n",
       "884                  Yes                No                   No            3   \n",
       "1142                  No                No                   No            4   \n",
       "1146                  No                No                   No            4   \n",
       "...                  ...               ...                  ...          ...   \n",
       "8475                 Yes                No                   No            3   \n",
       "8479                 Yes                No                   No            3   \n",
       "8849                  No                No                   No            3   \n",
       "9090                 Yes                No                   No            3   \n",
       "9251                  No                No                   No            4   \n",
       "\n",
       "      Aggregate rating Rating text  Votes Country Name  Avg. Cost For two($)  \n",
       "636                3.4     Average     70        India               6815.24  \n",
       "812                4.1   Very Good   1004        India               6815.24  \n",
       "884                3.8        Good    508        India               6815.24  \n",
       "1142               4.8   Excellent    415        India               6815.24  \n",
       "1146               3.8        Good    911        India               6815.24  \n",
       "...                ...         ...    ...          ...                   ...  \n",
       "8475               2.5     Average    221        India               6815.24  \n",
       "8479               0.0   Not rated      2        India               6815.24  \n",
       "8849               3.2     Average    325        India               6815.24  \n",
       "9090               3.6        Good    507        India               6815.24  \n",
       "9251               3.3     Average     67        India               6815.24  \n",
       "\n",
       "[82 rows x 14 columns]"
      ]
     },
     "execution_count": 893,
     "metadata": {},
     "output_type": "execute_result"
    }
   ],
   "source": [
    "expensive_restro"
   ]
  },
  {
   "cell_type": "code",
   "execution_count": 895,
   "id": "a48ed060",
   "metadata": {},
   "outputs": [
    {
     "data": {
      "text/plain": [
       "array(['Makati City', 'Mandaluyong City', 'Pasay City', 'Pasig City',\n",
       "       'Quezon City', 'San Juan City', 'Santa Rosa', 'Tagaytay City',\n",
       "       'Taguig City', 'Bras_lia', 'Rio de Janeiro', 'So Paulo', 'Albany',\n",
       "       'Armidale', 'Athens', 'Augusta', 'Balingup', 'Beechworth', 'Boise',\n",
       "       'Cedar Rapids/Iowa City', 'Chatham-Kent', 'Clatskanie', 'Cochrane',\n",
       "       'Columbus', 'Consort', 'Dalton', 'Davenport', 'Des Moines',\n",
       "       'Dicky Beach', 'Dubuque', 'East Ballina', 'Fernley', 'Flaxton',\n",
       "       'Forrest', 'Gainesville', 'Hepburn Springs', 'Huskisson',\n",
       "       'Inverloch', 'Lakes Entrance', 'Lakeview', 'Lincoln', 'Lorn',\n",
       "       'Macedon', 'Macon', 'Mayfield', 'Mc Millan', 'Middleton Beach',\n",
       "       'Miller', 'Monroe', 'Montville', 'Ojo Caliente', 'Orlando',\n",
       "       'Palm Cove', 'Paynesville', 'Penola', 'Pensacola',\n",
       "       'Phillip Island', 'Pocatello', 'Potrero', 'Princeton',\n",
       "       'Rest of Hawaii', 'Savannah', 'Singapore', 'Sioux City',\n",
       "       'Tampa Bay', 'Tanunda', 'Trentham East', 'Valdosta', 'Vernonia',\n",
       "       'Victor Harbor', 'Vineland Station', 'Waterloo', 'Weirton',\n",
       "       'Winchester Bay', 'Yorkton', 'Abu Dhabi', 'Dubai', 'Sharjah',\n",
       "       'Agra', 'Ahmedabad', 'Allahabad', 'Amritsar', 'Aurangabad',\n",
       "       'Bangalore', 'Bhopal', 'Bhubaneshwar', 'Chandigarh', 'Chennai',\n",
       "       'Coimbatore', 'Dehradun', 'Faridabad', 'Ghaziabad', 'Goa',\n",
       "       'Gurgaon', 'Guwahati', 'Hyderabad', 'Indore', 'Jaipur', 'Kanpur',\n",
       "       'Kochi', 'Kolkata', 'Lucknow', 'Ludhiana', 'Mangalore', 'Mohali',\n",
       "       'Mumbai', 'Mysore', 'Nagpur', 'Nashik', 'New Delhi', 'Noida',\n",
       "       'Patna', 'Puducherry', 'Pune', 'Ranchi', 'Secunderabad', 'Surat',\n",
       "       'Vadodara', 'Varanasi', 'Vizag', 'Auckland', 'Wellington City',\n",
       "       'Birmingham', 'Edinburgh', 'London', 'Manchester', 'Doha',\n",
       "       'Cape Town', 'Inner City', 'Johannesburg', 'Pretoria', 'Randburg',\n",
       "       'Sandton', 'Ankara', 'stanbul'], dtype=object)"
      ]
     },
     "execution_count": 895,
     "metadata": {},
     "output_type": "execute_result"
    }
   ],
   "source": [
    "df.City.unique()"
   ]
  },
  {
   "cell_type": "markdown",
   "id": "37b1c1e9",
   "metadata": {},
   "source": [
    "### Q2. Which city has the highest-rated restaurants?"
   ]
  },
  {
   "cell_type": "code",
   "execution_count": 896,
   "id": "63f8ae19",
   "metadata": {},
   "outputs": [],
   "source": [
    "high_rated_restros = df[df['Aggregate rating'] > 4.5]"
   ]
  },
  {
   "cell_type": "code",
   "execution_count": 899,
   "id": "bec7f02e",
   "metadata": {},
   "outputs": [
    {
     "data": {
      "text/plain": [
       "array(['Makati City', 'Mandaluyong City', 'Pasay City', 'Pasig City',\n",
       "       'Quezon City', 'Taguig City', 'Bras_lia', 'Rio de Janeiro',\n",
       "       'So Paulo', 'Athens', 'Augusta', 'Beechworth', 'Boise',\n",
       "       'Cedar Rapids/Iowa City', 'Columbus', 'Dalton', 'Davenport',\n",
       "       'Des Moines', 'Gainesville', 'Macon', 'Orlando', 'Pensacola',\n",
       "       'Rest of Hawaii', 'Savannah', 'Tampa Bay', 'Abu Dhabi', 'Dubai',\n",
       "       'Sharjah', 'Agra', 'Ahmedabad', 'Bangalore', 'Bhopal', 'Chennai',\n",
       "       'Coimbatore', 'Goa', 'Gurgaon', 'Guwahati', 'Hyderabad', 'Jaipur',\n",
       "       'Kochi', 'Kolkata', 'Lucknow', 'Ludhiana', 'Mumbai', 'New Delhi',\n",
       "       'Pune', 'Secunderabad', 'Vizag', 'Auckland', 'Wellington City',\n",
       "       'Birmingham', 'Edinburgh', 'London', 'Manchester', 'Doha',\n",
       "       'Cape Town', 'Inner City', 'Pretoria', 'Sandton', 'Ankara',\n",
       "       'stanbul'], dtype=object)"
      ]
     },
     "execution_count": 899,
     "metadata": {},
     "output_type": "execute_result"
    }
   ],
   "source": [
    "high_rated_restros.City.unique()"
   ]
  },
  {
   "cell_type": "markdown",
   "id": "b48a5438",
   "metadata": {},
   "source": [
    "### Q3. How do restaurant ratings vary between different countries?"
   ]
  },
  {
   "cell_type": "code",
   "execution_count": 915,
   "id": "7e1dc7f0",
   "metadata": {},
   "outputs": [],
   "source": [
    "restro_rating_country = df.groupby('Country Name')['Aggregate rating'].mean().sort_values(ascending = False)"
   ]
  },
  {
   "cell_type": "code",
   "execution_count": 917,
   "id": "2ca97733",
   "metadata": {},
   "outputs": [
    {
     "data": {
      "text/plain": [
       "Country Name\n",
       "Phillipines       4.468182\n",
       "Turkey            4.300000\n",
       "New Zealand       4.262500\n",
       "UAE               4.233333\n",
       "South Africa      4.210000\n",
       "United Kingdom    4.087500\n",
       "Qatar             4.060000\n",
       "United States     4.004378\n",
       "Brazil            3.763333\n",
       "Australia         3.658333\n",
       "Canada            3.575000\n",
       "Singapore         3.575000\n",
       "India             2.368944\n",
       "Name: Aggregate rating, dtype: float64"
      ]
     },
     "execution_count": 917,
     "metadata": {},
     "output_type": "execute_result"
    }
   ],
   "source": [
    "restro_rating_country"
   ]
  },
  {
   "cell_type": "code",
   "execution_count": 920,
   "id": "d6f83161",
   "metadata": {},
   "outputs": [
    {
     "data": {
      "image/png": "[encoded data removed]",
      "text/plain": [
       "<Figure size 640x480 with 1 Axes>"
      ]
     },
     "metadata": {},
     "output_type": "display_data"
    }
   ],
   "source": [
    "sns.lineplot(restro_rating_country)\n",
    "plt.xticks(rotation = 90)\n",
    "plt.title('Country Wise Rating')\n",
    "plt.savefig('Country Wise Rating.png')"
   ]
  },
  {
   "cell_type": "markdown",
   "id": "7edbdd1f",
   "metadata": {},
   "source": [
    "### Q4. Which city has the most restaurant options available?"
   ]
  },
  {
   "cell_type": "code",
   "execution_count": 924,
   "id": "9f125260",
   "metadata": {},
   "outputs": [],
   "source": [
    "restro_cityWise = df.groupby('City').count()['Restaurant Name'].sort_values(ascending = False)"
   ]
  },
  {
   "cell_type": "code",
   "execution_count": 939,
   "id": "33e3eb74",
   "metadata": {},
   "outputs": [],
   "source": [
    "restro_cityWise = restro_cityWise[restro_cityWise > 10]"
   ]
  },
  {
   "cell_type": "code",
   "execution_count": 949,
   "id": "d91d8d6a",
   "metadata": {},
   "outputs": [
    {
     "data": {
      "text/html": [
       "<div>\n",
       "<style scoped>\n",
       "    .dataframe tbody tr th:only-of-type {\n",
       "        vertical-align: middle;\n",
       "    }\n",
       "\n",
       "    .dataframe tbody tr th {\n",
       "        vertical-align: top;\n",
       "    }\n",
       "\n",
       "    .dataframe thead th {\n",
       "        text-align: right;\n",
       "    }\n",
       "</style>\n",
       "<table border=\"1\" class=\"dataframe\">\n",
       "  <thead>\n",
       "    <tr style=\"text-align: right;\">\n",
       "      <th></th>\n",
       "      <th>Restaurant Name</th>\n",
       "    </tr>\n",
       "    <tr>\n",
       "      <th>City</th>\n",
       "      <th></th>\n",
       "    </tr>\n",
       "  </thead>\n",
       "  <tbody>\n",
       "    <tr>\n",
       "      <th>New Delhi</th>\n",
       "      <td>4901</td>\n",
       "    </tr>\n",
       "    <tr>\n",
       "      <th>Noida</th>\n",
       "      <td>995</td>\n",
       "    </tr>\n",
       "    <tr>\n",
       "      <th>Gurgaon</th>\n",
       "      <td>932</td>\n",
       "    </tr>\n",
       "    <tr>\n",
       "      <th>Faridabad</th>\n",
       "      <td>242</td>\n",
       "    </tr>\n",
       "  </tbody>\n",
       "</table>\n",
       "</div>"
      ],
      "text/plain": [
       "           Restaurant Name\n",
       "City                      \n",
       "New Delhi             4901\n",
       "Noida                  995\n",
       "Gurgaon                932\n",
       "Faridabad              242"
      ]
     },
     "execution_count": 949,
     "metadata": {},
     "output_type": "execute_result"
    }
   ],
   "source": [
    "restro_cityWise = pd.DataFrame(restro_cityWise)\n",
    "restro_cityWise"
   ]
  },
  {
   "cell_type": "code",
   "execution_count": 968,
   "id": "439eebf5",
   "metadata": {},
   "outputs": [
    {
     "data": {
      "image/png": "[encoded data removed]",
      "text/plain": [
       "<Figure size 640x480 with 1 Axes>"
      ]
     },
     "metadata": {},
     "output_type": "display_data"
    }
   ],
   "source": [
    "label = list(restro_cityWise.index)\n",
    "plt.pie(restro_cityWise['Restaurant Name'], labels=label, autopct=lambda p: f'{p * sum(restro_cityWise[\"Restaurant Name\"]) / 100:.0f}')\n",
    "plt.title('Cities With Most Number of Restros')\n",
    "plt.savefig('Cities With Most Number Of Restros')"
   ]
  },
  {
   "cell_type": "markdown",
   "id": "c5822074",
   "metadata": {},
   "source": [
    "### Q5. Is there a relationship between restaurant cost and customer votes?"
   ]
  },
  {
   "cell_type": "code",
   "execution_count": 970,
   "id": "e7073a51",
   "metadata": {},
   "outputs": [
    {
     "data": {
      "text/html": [
       "<div>\n",
       "<style scoped>\n",
       "    .dataframe tbody tr th:only-of-type {\n",
       "        vertical-align: middle;\n",
       "    }\n",
       "\n",
       "    .dataframe tbody tr th {\n",
       "        vertical-align: top;\n",
       "    }\n",
       "\n",
       "    .dataframe thead th {\n",
       "        text-align: right;\n",
       "    }\n",
       "</style>\n",
       "<table border=\"1\" class=\"dataframe\">\n",
       "  <thead>\n",
       "    <tr style=\"text-align: right;\">\n",
       "      <th></th>\n",
       "      <th>Restaurant ID</th>\n",
       "      <th>Restaurant Name</th>\n",
       "      <th>City</th>\n",
       "      <th>Cuisines</th>\n",
       "      <th>Has Table booking</th>\n",
       "      <th>Has Online delivery</th>\n",
       "      <th>Is delivering now</th>\n",
       "      <th>Switch to order menu</th>\n",
       "      <th>Price range</th>\n",
       "      <th>Aggregate rating</th>\n",
       "      <th>Rating text</th>\n",
       "      <th>Votes</th>\n",
       "      <th>Country Name</th>\n",
       "      <th>Avg. Cost For two($)</th>\n",
       "    </tr>\n",
       "  </thead>\n",
       "  <tbody>\n",
       "    <tr>\n",
       "      <th>0</th>\n",
       "      <td>6317637</td>\n",
       "      <td>Le Petit Souffle</td>\n",
       "      <td>Makati City</td>\n",
       "      <td>French, Japanese, Desserts</td>\n",
       "      <td>Yes</td>\n",
       "      <td>No</td>\n",
       "      <td>No</td>\n",
       "      <td>No</td>\n",
       "      <td>3</td>\n",
       "      <td>4.8</td>\n",
       "      <td>Excellent</td>\n",
       "      <td>314</td>\n",
       "      <td>Phillipines</td>\n",
       "      <td>80.05</td>\n",
       "    </tr>\n",
       "    <tr>\n",
       "      <th>1</th>\n",
       "      <td>6304287</td>\n",
       "      <td>Izakaya Kikufuji</td>\n",
       "      <td>Makati City</td>\n",
       "      <td>Japanese</td>\n",
       "      <td>Yes</td>\n",
       "      <td>No</td>\n",
       "      <td>No</td>\n",
       "      <td>No</td>\n",
       "      <td>3</td>\n",
       "      <td>4.5</td>\n",
       "      <td>Excellent</td>\n",
       "      <td>591</td>\n",
       "      <td>Phillipines</td>\n",
       "      <td>87.32</td>\n",
       "    </tr>\n",
       "  </tbody>\n",
       "</table>\n",
       "</div>"
      ],
      "text/plain": [
       "   Restaurant ID   Restaurant Name         City                    Cuisines  \\\n",
       "0        6317637  Le Petit Souffle  Makati City  French, Japanese, Desserts   \n",
       "1        6304287  Izakaya Kikufuji  Makati City                    Japanese   \n",
       "\n",
       "  Has Table booking Has Online delivery Is delivering now  \\\n",
       "0               Yes                  No                No   \n",
       "1               Yes                  No                No   \n",
       "\n",
       "  Switch to order menu  Price range  Aggregate rating Rating text  Votes  \\\n",
       "0                   No            3               4.8   Excellent    314   \n",
       "1                   No            3               4.5   Excellent    591   \n",
       "\n",
       "  Country Name  Avg. Cost For two($)  \n",
       "0  Phillipines                 80.05  \n",
       "1  Phillipines                 87.32  "
      ]
     },
     "execution_count": 970,
     "metadata": {},
     "output_type": "execute_result"
    }
   ],
   "source": [
    "df.head(2)"
   ]
  },
  {
   "cell_type": "code",
   "execution_count": 976,
   "id": "f85a8660",
   "metadata": {},
   "outputs": [
    {
     "name": "stdout",
     "output_type": "stream",
     "text": [
      "Spearman Correlation Coefficient: 0.1871\n",
      "P-value: 0.0000\n",
      "There is a significant correlation between restaurant cost and customer votes.\n"
     ]
    }
   ],
   "source": [
    "from scipy.stats import spearmanr\n",
    "\n",
    "corr, p_value = spearmanr(df['Avg. Cost For two($)'], df['Votes'])\n",
    "\n",
    "print(f\"Spearman Correlation Coefficient: {corr:.4f}\")\n",
    "print(f\"P-value: {p_value:.4f}\")\n",
    "\n",
    "if p_value < 0.05:\n",
    "    print(\"There is a significant correlation between restaurant cost and customer votes.\")\n",
    "else:\n",
    "    print(\"There is no significant correlation between restaurant cost and customer votes.\")"
   ]
  }
 ],
 "metadata": {
  "kernelspec": {
   "display_name": "Python 3 (ipykernel)",
   "language": "python",
   "name": "python3"
  },
  "language_info": {
   "codemirror_mode": {
    "name": "ipython",
    "version": 3
   },
   "file_extension": ".py",
   "mimetype": "text/x-python",
   "name": "python",
   "nbconvert_exporter": "python",
   "pygments_lexer": "ipython3",
   "version": "3.11.5"
  }
 },
 "nbformat": 4,
 "nbformat_minor": 5
}
